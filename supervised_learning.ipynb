{
 "cells": [
  {
   "cell_type": "markdown",
   "metadata": {
    "toc": true
   },
   "source": [
    "<h1>Содержание<span class=\"tocSkip\"></span></h1>\n",
    "<div class=\"toc\"><ul class=\"toc-item\"><li><span><a href=\"#Подготовка-данных\" data-toc-modified-id=\"Подготовка-данных-1\"><span class=\"toc-item-num\">1&nbsp;&nbsp;</span>Подготовка данных</a></span></li><li><span><a href=\"#Исследование-задачи\" data-toc-modified-id=\"Исследование-задачи-2\"><span class=\"toc-item-num\">2&nbsp;&nbsp;</span>Исследование задачи</a></span><ul class=\"toc-item\"><li><span><a href=\"#Исследуем-баланс-классов\" data-toc-modified-id=\"Исследуем-баланс-классов-2.1\"><span class=\"toc-item-num\">2.1&nbsp;&nbsp;</span>Исследуем баланс классов</a></span></li><li><span><a href=\"#Изучим-модели-без-учета-дисбаланса-классов\" data-toc-modified-id=\"Изучим-модели-без-учета-дисбаланса-классов-2.2\"><span class=\"toc-item-num\">2.2&nbsp;&nbsp;</span>Изучим модели без учета дисбаланса классов</a></span><ul class=\"toc-item\"><li><span><a href=\"#Исследуем-модель-&quot;Решающее-дерево&quot;.\" data-toc-modified-id=\"Исследуем-модель-&quot;Решающее-дерево&quot;.-2.2.1\"><span class=\"toc-item-num\">2.2.1&nbsp;&nbsp;</span>Исследуем модель \"Решающее дерево\".</a></span></li><li><span><a href=\"#Исследуем-модель&quot;Случайный-лес&quot;\" data-toc-modified-id=\"Исследуем-модель&quot;Случайный-лес&quot;-2.2.2\"><span class=\"toc-item-num\">2.2.2&nbsp;&nbsp;</span>Исследуем модель\"Случайный лес\"</a></span></li><li><span><a href=\"#Исследуем-модель-&quot;Логистическая-регрессия&quot;\" data-toc-modified-id=\"Исследуем-модель-&quot;Логистическая-регрессия&quot;-2.2.3\"><span class=\"toc-item-num\">2.2.3&nbsp;&nbsp;</span>Исследуем модель \"Логистическая регрессия\"</a></span></li></ul></li><li><span><a href=\"#Выводы\" data-toc-modified-id=\"Выводы-2.3\"><span class=\"toc-item-num\">2.3&nbsp;&nbsp;</span>Выводы</a></span></li></ul></li><li><span><a href=\"#Борьба-с-дисбалансом\" data-toc-modified-id=\"Борьба-с-дисбалансом-3\"><span class=\"toc-item-num\">3&nbsp;&nbsp;</span>Борьба с дисбалансом</a></span><ul class=\"toc-item\"><li><span><a href=\"#Метод-&quot;взвешенные-классы&quot;.\" data-toc-modified-id=\"Метод-&quot;взвешенные-классы&quot;.-3.1\"><span class=\"toc-item-num\">3.1&nbsp;&nbsp;</span>Метод \"взвешенные классы\".</a></span><ul class=\"toc-item\"><li><span><a href=\"#Исследуем-алгоритм-&quot;дерево-решений&quot;-на-выборках,-давших-лучший-результат.\" data-toc-modified-id=\"Исследуем-алгоритм-&quot;дерево-решений&quot;-на-выборках,-давших-лучший-результат.-3.1.1\"><span class=\"toc-item-num\">3.1.1&nbsp;&nbsp;</span>Исследуем алгоритм \"дерево решений\" на выборках, давших лучший результат.</a></span></li><li><span><a href=\"#Исследуем-алгоритм-&quot;случайный-лес&quot;-на-выборках-и-с-параметрами,-давшими-лучший-результат.\" data-toc-modified-id=\"Исследуем-алгоритм-&quot;случайный-лес&quot;-на-выборках-и-с-параметрами,-давшими-лучший-результат.-3.1.2\"><span class=\"toc-item-num\">3.1.2&nbsp;&nbsp;</span>Исследуем алгоритм \"случайный лес\" на выборках и с параметрами, давшими лучший результат.</a></span></li><li><span><a href=\"#Исследуем-алгоритм-&quot;логистическая-регрессия&quot;-на-выборке-и-с-параметрами,-давшими-лучший-результат.\" data-toc-modified-id=\"Исследуем-алгоритм-&quot;логистическая-регрессия&quot;-на-выборке-и-с-параметрами,-давшими-лучший-результат.-3.1.3\"><span class=\"toc-item-num\">3.1.3&nbsp;&nbsp;</span>Исследуем алгоритм \"логистическая регрессия\" на выборке и с параметрами, давшими лучший результат.</a></span></li></ul></li><li><span><a href=\"#Метод-&quot;увеличение-выборки&quot;.\" data-toc-modified-id=\"Метод-&quot;увеличение-выборки&quot;.-3.2\"><span class=\"toc-item-num\">3.2&nbsp;&nbsp;</span>Метод \"увеличение выборки\".</a></span><ul class=\"toc-item\"><li><span><a href=\"#Исследуем-алгоритм-&quot;дерево-решений&quot;.\" data-toc-modified-id=\"Исследуем-алгоритм-&quot;дерево-решений&quot;.-3.2.1\"><span class=\"toc-item-num\">3.2.1&nbsp;&nbsp;</span>Исследуем алгоритм \"дерево решений\".</a></span></li><li><span><a href=\"#Исследуем-модель-&quot;случайный-лес&quot;-c-параметрами,-давшими-лучший-результат.\" data-toc-modified-id=\"Исследуем-модель-&quot;случайный-лес&quot;-c-параметрами,-давшими-лучший-результат.-3.2.2\"><span class=\"toc-item-num\">3.2.2&nbsp;&nbsp;</span>Исследуем модель \"случайный лес\" c параметрами, давшими лучший результат.</a></span></li><li><span><a href=\"#Исследуем-модель-&quot;логистическая-регрессия&quot;-на-выборке-и-с-параметрами,-давшими-лучший-результат.\" data-toc-modified-id=\"Исследуем-модель-&quot;логистическая-регрессия&quot;-на-выборке-и-с-параметрами,-давшими-лучший-результат.-3.2.3\"><span class=\"toc-item-num\">3.2.3&nbsp;&nbsp;</span>Исследуем модель \"логистическая регрессия\" на выборке и с параметрами, давшими лучший результат.</a></span></li></ul></li><li><span><a href=\"#Метод-&quot;уменьшение-выборки&quot;.\" data-toc-modified-id=\"Метод-&quot;уменьшение-выборки&quot;.-3.3\"><span class=\"toc-item-num\">3.3&nbsp;&nbsp;</span>Метод \"уменьшение выборки\".</a></span><ul class=\"toc-item\"><li><span><a href=\"#Исследуем-алгоритм-&quot;дерево-решений&quot;.\" data-toc-modified-id=\"Исследуем-алгоритм-&quot;дерево-решений&quot;.-3.3.1\"><span class=\"toc-item-num\">3.3.1&nbsp;&nbsp;</span>Исследуем алгоритм \"дерево решений\".</a></span></li><li><span><a href=\"#Исследуем-модель-&quot;случайный-лес&quot;-с-параметрами,-давшими-лучший-результат.\" data-toc-modified-id=\"Исследуем-модель-&quot;случайный-лес&quot;-с-параметрами,-давшими-лучший-результат.-3.3.2\"><span class=\"toc-item-num\">3.3.2&nbsp;&nbsp;</span>Исследуем модель \"случайный лес\" с параметрами, давшими лучший результат.</a></span></li><li><span><a href=\"#Исследуем-модель-&quot;логистическая-регрессия&quot;-на-выборке-и-с-параметрами,-давшими-лучший-результат.\" data-toc-modified-id=\"Исследуем-модель-&quot;логистическая-регрессия&quot;-на-выборке-и-с-параметрами,-давшими-лучший-результат.-3.3.3\"><span class=\"toc-item-num\">3.3.3&nbsp;&nbsp;</span>Исследуем модель \"логистическая регрессия\" на выборке и с параметрами, давшими лучший результат.</a></span></li></ul></li><li><span><a href=\"#Выводы.\" data-toc-modified-id=\"Выводы.-3.4\"><span class=\"toc-item-num\">3.4&nbsp;&nbsp;</span>Выводы.</a></span></li></ul></li><li><span><a href=\"#Тестирование-модели\" data-toc-modified-id=\"Тестирование-модели-4\"><span class=\"toc-item-num\">4&nbsp;&nbsp;</span>Тестирование модели</a></span><ul class=\"toc-item\"><li><span><a href=\"#Улучшаем-модель\" data-toc-modified-id=\"Улучшаем-модель-4.1\"><span class=\"toc-item-num\">4.1&nbsp;&nbsp;</span>Улучшаем модель</a></span></li><li><span><a href=\"#Пробуем-gridsearch\" data-toc-modified-id=\"Пробуем-gridsearch-4.2\"><span class=\"toc-item-num\">4.2&nbsp;&nbsp;</span>Пробуем gridsearch</a></span></li><li><span><a href=\"#Тестируем-модель\" data-toc-modified-id=\"Тестируем-модель-4.3\"><span class=\"toc-item-num\">4.3&nbsp;&nbsp;</span>Тестируем модель</a></span></li><li><span><a href=\"#Исследуем-метрику-AUC-ROC\" data-toc-modified-id=\"Исследуем-метрику-AUC-ROC-4.4\"><span class=\"toc-item-num\">4.4&nbsp;&nbsp;</span>Исследуем метрику AUC-ROC</a></span></li></ul></li><li><span><a href=\"#Чек-лист-готовности-проекта\" data-toc-modified-id=\"Чек-лист-готовности-проекта-5\"><span class=\"toc-item-num\">5&nbsp;&nbsp;</span>Чек-лист готовности проекта</a></span></li><li><span><a href=\"#Общий-вывод-по-проекту\" data-toc-modified-id=\"Общий-вывод-по-проекту-6\"><span class=\"toc-item-num\">6&nbsp;&nbsp;</span><b>Общий вывод по проекту</b></a></span></li><li><span><a href=\"#Общий-вывод-по-проекту-V2\" data-toc-modified-id=\"Общий-вывод-по-проекту-V2-7\"><span class=\"toc-item-num\">7&nbsp;&nbsp;</span><b>Общий вывод по проекту V2</b></a></span><ul class=\"toc-item\"><li><span><a href=\"#V2\" data-toc-modified-id=\"V2-7.1\"><span class=\"toc-item-num\">7.1&nbsp;&nbsp;</span>V2</a></span></li></ul></li><li><span><a href=\"#Общий-вывод-по-проекту-V3\" data-toc-modified-id=\"Общий-вывод-по-проекту-V3-8\"><span class=\"toc-item-num\">8&nbsp;&nbsp;</span><b>Общий вывод по проекту V3</b></a></span></li></ul></div>"
   ]
  },
  {
   "cell_type": "markdown",
   "metadata": {},
   "source": [
    "# Отток клиентов"
   ]
  },
  {
   "cell_type": "markdown",
   "metadata": {},
   "source": [
    "Из «Бета-Банка» стали уходить клиенты. Каждый месяц. Немного, но заметно. Банковские маркетологи посчитали: сохранять текущих клиентов дешевле, чем привлекать новых.\n",
    "\n",
    "Нужно спрогнозировать, уйдёт клиент из банка в ближайшее время или нет. Вам предоставлены исторические данные о поведении клиентов и расторжении договоров с банком. \n",
    "\n",
    "Постройте модель с предельно большим значением *F1*-меры. Чтобы сдать проект успешно, нужно довести метрику до 0.59. Проверьте *F1*-меру на тестовой выборке самостоятельно.\n",
    "\n",
    "Дополнительно измеряйте *AUC-ROC*, сравнивайте её значение с *F1*-мерой.\n",
    "\n",
    "Источник данных: [https://www.kaggle.com/barelydedicated/bank-customer-churn-modeling](https://www.kaggle.com/barelydedicated/bank-customer-churn-modeling)"
   ]
  },
  {
   "cell_type": "code",
   "execution_count": 6,
   "metadata": {},
   "outputs": [],
   "source": [
    "import pandas as pd\n",
    "import numpy as np\n",
    "from joblib import dump\n",
    "import warnings\n",
    "warnings.filterwarnings('ignore')\n",
    "\n",
    "from sklearn.tree import DecisionTreeClassifier\n",
    "from sklearn.ensemble import RandomForestClassifier\n",
    "from sklearn.linear_model import LogisticRegression\n",
    "\n",
    "from sklearn.model_selection import train_test_split\n",
    "\n",
    "from sklearn.preprocessing import StandardScaler\n",
    "from sklearn.preprocessing import OrdinalEncoder, OneHotEncoder\n",
    "from sklearn.utils import shuffle\n",
    "\n",
    "from sklearn.metrics import accuracy_score, precision_score, recall_score\n",
    "from sklearn.metrics import f1_score, confusion_matrix, roc_auc_score\n",
    "from sklearn.metrics import roc_curve, precision_recall_curve\n",
    "\n",
    "import matplotlib.pyplot as plt\n",
    "import seaborn as sns\n",
    "%matplotlib inline"
   ]
  },
  {
   "cell_type": "code",
   "execution_count": 7,
   "metadata": {},
   "outputs": [],
   "source": [
    "# Сброс ограничений на количество выводимых рядов\n",
    "pd.set_option('display.max_rows', None)\n",
    " \n",
    "# Сброс ограничений на число столбцов\n",
    "pd.set_option('display.max_columns', None)\n",
    " \n",
    "# Сброс ограничений на количество символов в записи\n",
    "pd.set_option('display.max_colwidth', None)"
   ]
  },
  {
   "cell_type": "markdown",
   "metadata": {},
   "source": [
    "## Подготовка данных"
   ]
  },
  {
   "cell_type": "code",
   "execution_count": 22,
   "metadata": {},
   "outputs": [
    {
     "data": {
      "text/html": [
       "<div>\n",
       "<style scoped>\n",
       "    .dataframe tbody tr th:only-of-type {\n",
       "        vertical-align: middle;\n",
       "    }\n",
       "\n",
       "    .dataframe tbody tr th {\n",
       "        vertical-align: top;\n",
       "    }\n",
       "\n",
       "    .dataframe thead th {\n",
       "        text-align: right;\n",
       "    }\n",
       "</style>\n",
       "<table border=\"1\" class=\"dataframe\">\n",
       "  <thead>\n",
       "    <tr style=\"text-align: right;\">\n",
       "      <th></th>\n",
       "      <th>RowNumber</th>\n",
       "      <th>CustomerId</th>\n",
       "      <th>Surname</th>\n",
       "      <th>CreditScore</th>\n",
       "      <th>Geography</th>\n",
       "      <th>Gender</th>\n",
       "      <th>Age</th>\n",
       "      <th>Tenure</th>\n",
       "      <th>Balance</th>\n",
       "      <th>NumOfProducts</th>\n",
       "      <th>HasCrCard</th>\n",
       "      <th>IsActiveMember</th>\n",
       "      <th>EstimatedSalary</th>\n",
       "      <th>Exited</th>\n",
       "    </tr>\n",
       "  </thead>\n",
       "  <tbody>\n",
       "    <tr>\n",
       "      <th>0</th>\n",
       "      <td>1</td>\n",
       "      <td>15634602</td>\n",
       "      <td>Hargrave</td>\n",
       "      <td>619</td>\n",
       "      <td>France</td>\n",
       "      <td>Female</td>\n",
       "      <td>42</td>\n",
       "      <td>2</td>\n",
       "      <td>0.00</td>\n",
       "      <td>1</td>\n",
       "      <td>1</td>\n",
       "      <td>1</td>\n",
       "      <td>101348.88</td>\n",
       "      <td>1</td>\n",
       "    </tr>\n",
       "    <tr>\n",
       "      <th>1</th>\n",
       "      <td>2</td>\n",
       "      <td>15647311</td>\n",
       "      <td>Hill</td>\n",
       "      <td>608</td>\n",
       "      <td>Spain</td>\n",
       "      <td>Female</td>\n",
       "      <td>41</td>\n",
       "      <td>1</td>\n",
       "      <td>83807.86</td>\n",
       "      <td>1</td>\n",
       "      <td>0</td>\n",
       "      <td>1</td>\n",
       "      <td>112542.58</td>\n",
       "      <td>0</td>\n",
       "    </tr>\n",
       "    <tr>\n",
       "      <th>2</th>\n",
       "      <td>3</td>\n",
       "      <td>15619304</td>\n",
       "      <td>Onio</td>\n",
       "      <td>502</td>\n",
       "      <td>France</td>\n",
       "      <td>Female</td>\n",
       "      <td>42</td>\n",
       "      <td>8</td>\n",
       "      <td>159660.80</td>\n",
       "      <td>3</td>\n",
       "      <td>1</td>\n",
       "      <td>0</td>\n",
       "      <td>113931.57</td>\n",
       "      <td>1</td>\n",
       "    </tr>\n",
       "    <tr>\n",
       "      <th>3</th>\n",
       "      <td>4</td>\n",
       "      <td>15701354</td>\n",
       "      <td>Boni</td>\n",
       "      <td>699</td>\n",
       "      <td>France</td>\n",
       "      <td>Female</td>\n",
       "      <td>39</td>\n",
       "      <td>1</td>\n",
       "      <td>0.00</td>\n",
       "      <td>2</td>\n",
       "      <td>0</td>\n",
       "      <td>0</td>\n",
       "      <td>93826.63</td>\n",
       "      <td>0</td>\n",
       "    </tr>\n",
       "    <tr>\n",
       "      <th>4</th>\n",
       "      <td>5</td>\n",
       "      <td>15737888</td>\n",
       "      <td>Mitchell</td>\n",
       "      <td>850</td>\n",
       "      <td>Spain</td>\n",
       "      <td>Female</td>\n",
       "      <td>43</td>\n",
       "      <td>2</td>\n",
       "      <td>125510.82</td>\n",
       "      <td>1</td>\n",
       "      <td>1</td>\n",
       "      <td>1</td>\n",
       "      <td>79084.10</td>\n",
       "      <td>0</td>\n",
       "    </tr>\n",
       "  </tbody>\n",
       "</table>\n",
       "</div>"
      ],
      "text/plain": [
       "   RowNumber  CustomerId   Surname  CreditScore Geography  Gender  Age  \\\n",
       "0          1    15634602  Hargrave          619    France  Female   42   \n",
       "1          2    15647311      Hill          608     Spain  Female   41   \n",
       "2          3    15619304      Onio          502    France  Female   42   \n",
       "3          4    15701354      Boni          699    France  Female   39   \n",
       "4          5    15737888  Mitchell          850     Spain  Female   43   \n",
       "\n",
       "   Tenure    Balance  NumOfProducts  HasCrCard  IsActiveMember  \\\n",
       "0       2       0.00              1          1               1   \n",
       "1       1   83807.86              1          0               1   \n",
       "2       8  159660.80              3          1               0   \n",
       "3       1       0.00              2          0               0   \n",
       "4       2  125510.82              1          1               1   \n",
       "\n",
       "   EstimatedSalary  Exited  \n",
       "0        101348.88       1  \n",
       "1        112542.58       0  \n",
       "2        113931.57       1  \n",
       "3         93826.63       0  \n",
       "4         79084.10       0  "
      ]
     },
     "execution_count": 22,
     "metadata": {},
     "output_type": "execute_result"
    }
   ],
   "source": [
    "df = pd.read_csv('Churn_Modelling.csv')\n",
    "    \n",
    "df.head()    "
   ]
  },
  {
   "cell_type": "code",
   "execution_count": 5,
   "metadata": {},
   "outputs": [
    {
     "data": {
      "text/html": [
       "<div>\n",
       "<style scoped>\n",
       "    .dataframe tbody tr th:only-of-type {\n",
       "        vertical-align: middle;\n",
       "    }\n",
       "\n",
       "    .dataframe tbody tr th {\n",
       "        vertical-align: top;\n",
       "    }\n",
       "\n",
       "    .dataframe thead th {\n",
       "        text-align: right;\n",
       "    }\n",
       "</style>\n",
       "<table border=\"1\" class=\"dataframe\">\n",
       "  <thead>\n",
       "    <tr style=\"text-align: right;\">\n",
       "      <th></th>\n",
       "      <th>456</th>\n",
       "    </tr>\n",
       "  </thead>\n",
       "  <tbody>\n",
       "    <tr>\n",
       "      <th>RowNumber</th>\n",
       "      <td>457</td>\n",
       "    </tr>\n",
       "    <tr>\n",
       "      <th>CustomerId</th>\n",
       "      <td>15747960</td>\n",
       "    </tr>\n",
       "    <tr>\n",
       "      <th>Surname</th>\n",
       "      <td>Eluemuno</td>\n",
       "    </tr>\n",
       "    <tr>\n",
       "      <th>CreditScore</th>\n",
       "      <td>733</td>\n",
       "    </tr>\n",
       "    <tr>\n",
       "      <th>Geography</th>\n",
       "      <td>France</td>\n",
       "    </tr>\n",
       "    <tr>\n",
       "      <th>Gender</th>\n",
       "      <td>Male</td>\n",
       "    </tr>\n",
       "    <tr>\n",
       "      <th>Age</th>\n",
       "      <td>33</td>\n",
       "    </tr>\n",
       "    <tr>\n",
       "      <th>Tenure</th>\n",
       "      <td>3.0</td>\n",
       "    </tr>\n",
       "    <tr>\n",
       "      <th>Balance</th>\n",
       "      <td>0.0</td>\n",
       "    </tr>\n",
       "    <tr>\n",
       "      <th>NumOfProducts</th>\n",
       "      <td>1</td>\n",
       "    </tr>\n",
       "    <tr>\n",
       "      <th>HasCrCard</th>\n",
       "      <td>1</td>\n",
       "    </tr>\n",
       "    <tr>\n",
       "      <th>IsActiveMember</th>\n",
       "      <td>1</td>\n",
       "    </tr>\n",
       "    <tr>\n",
       "      <th>EstimatedSalary</th>\n",
       "      <td>7666.73</td>\n",
       "    </tr>\n",
       "    <tr>\n",
       "      <th>Exited</th>\n",
       "      <td>0</td>\n",
       "    </tr>\n",
       "  </tbody>\n",
       "</table>\n",
       "</div>"
      ],
      "text/plain": [
       "                      456\n",
       "RowNumber             457\n",
       "CustomerId       15747960\n",
       "Surname          Eluemuno\n",
       "CreditScore           733\n",
       "Geography          France\n",
       "Gender               Male\n",
       "Age                    33\n",
       "Tenure                3.0\n",
       "Balance               0.0\n",
       "NumOfProducts           1\n",
       "HasCrCard               1\n",
       "IsActiveMember          1\n",
       "EstimatedSalary   7666.73\n",
       "Exited                  0"
      ]
     },
     "execution_count": 5,
     "metadata": {},
     "output_type": "execute_result"
    }
   ],
   "source": [
    "df.loc[456].to_frame() # просмотр случайной строчки"
   ]
  },
  {
   "cell_type": "code",
   "execution_count": 6,
   "metadata": {
    "scrolled": true
   },
   "outputs": [
    {
     "name": "stdout",
     "output_type": "stream",
     "text": [
      "Количество строк данных 10000\n",
      "Количество столбцов данных 14\n"
     ]
    }
   ],
   "source": [
    "print('Количество строк данных', df.shape[0])\n",
    "print('Количество столбцов данных', df.shape[1])"
   ]
  },
  {
   "cell_type": "markdown",
   "metadata": {},
   "source": [
    "Удалим столбцы RowNumber, CustomerId и Surname. \n",
    "\n",
    "RowNumber дублирует индекс, CustomerId - номер, который никак не влияет на действия клиента. Surname - фамилия,которая также не влияет на целевой признак."
   ]
  },
  {
   "cell_type": "code",
   "execution_count": 7,
   "metadata": {},
   "outputs": [
    {
     "name": "stdout",
     "output_type": "stream",
     "text": [
      "Количество строк данных 10000\n",
      "Количество столбцов данных 11\n"
     ]
    }
   ],
   "source": [
    "df = df.drop(['RowNumber','CustomerId','Surname'], axis=1)\n",
    "print('Количество строк данных', df.shape[0])\n",
    "print('Количество столбцов данных', df.shape[1])"
   ]
  },
  {
   "cell_type": "code",
   "execution_count": 8,
   "metadata": {},
   "outputs": [
    {
     "name": "stdout",
     "output_type": "stream",
     "text": [
      "<class 'pandas.core.frame.DataFrame'>\n",
      "RangeIndex: 10000 entries, 0 to 9999\n",
      "Data columns (total 11 columns):\n",
      " #   Column           Non-Null Count  Dtype  \n",
      "---  ------           --------------  -----  \n",
      " 0   CreditScore      10000 non-null  int64  \n",
      " 1   Geography        10000 non-null  object \n",
      " 2   Gender           10000 non-null  object \n",
      " 3   Age              10000 non-null  int64  \n",
      " 4   Tenure           9091 non-null   float64\n",
      " 5   Balance          10000 non-null  float64\n",
      " 6   NumOfProducts    10000 non-null  int64  \n",
      " 7   HasCrCard        10000 non-null  int64  \n",
      " 8   IsActiveMember   10000 non-null  int64  \n",
      " 9   EstimatedSalary  10000 non-null  float64\n",
      " 10  Exited           10000 non-null  int64  \n",
      "dtypes: float64(3), int64(6), object(2)\n",
      "memory usage: 859.5+ KB\n"
     ]
    }
   ],
   "source": [
    "df.info() "
   ]
  },
  {
   "cell_type": "markdown",
   "metadata": {},
   "source": [
    "Имеютcя пропуски данных в столбце `Tenure` - сколько лет человек является клиентом банка.      \n",
    "\n",
    "Названия столбцов не соответствуют стандартам Pyton."
   ]
  },
  {
   "cell_type": "code",
   "execution_count": 9,
   "metadata": {
    "scrolled": true
   },
   "outputs": [
    {
     "name": "stdout",
     "output_type": "stream",
     "text": [
      "<class 'pandas.core.frame.DataFrame'>\n",
      "RangeIndex: 10000 entries, 0 to 9999\n",
      "Data columns (total 11 columns):\n",
      " #   Column            Non-Null Count  Dtype  \n",
      "---  ------            --------------  -----  \n",
      " 0   credit_score      10000 non-null  int64  \n",
      " 1   geography         10000 non-null  object \n",
      " 2   gender            10000 non-null  object \n",
      " 3   age               10000 non-null  int64  \n",
      " 4   tenure            10000 non-null  float64\n",
      " 5   balance           10000 non-null  float64\n",
      " 6   num_of_products   10000 non-null  int64  \n",
      " 7   has_cr_card       10000 non-null  int64  \n",
      " 8   is_active_member  10000 non-null  int64  \n",
      " 9   estimated_salary  10000 non-null  float64\n",
      " 10  exited            10000 non-null  int64  \n",
      "dtypes: float64(3), int64(6), object(2)\n",
      "memory usage: 859.5+ KB\n"
     ]
    }
   ],
   "source": [
    "# Заменяем пропуски в  столбце `Tenure` на 0, т.к. вполне возможно,\n",
    "# что данные клиенты были клиентами банка менее одного года.\n",
    "df['Tenure'] = df['Tenure'].fillna(0)\n",
    "\n",
    "\n",
    "# Получаем список названий колонок и приводим их к нижнему регистру\n",
    "import re\n",
    "\n",
    "columns_low = []\n",
    "for column in df.columns.values:\n",
    "    columns_low.append(re.sub(r'(?<!^)(?=[A-Z])', '_', column).lower())\n",
    "\n",
    "df.columns = columns_low\n",
    "\n",
    "df.info() "
   ]
  },
  {
   "cell_type": "code",
   "execution_count": 10,
   "metadata": {},
   "outputs": [],
   "source": [
    "# Приведем названия столбцов в соответствие со стандартами\n",
    "#df = df.rename(columns={'CreditScore':'Credit_Score',\n",
    "       #'NumOfProducts':'Num_Of_Products', 'HasCrCard':'Has_Cr_Card',\n",
    "       #'IsActiveMember':'Is_Active_Member', 'EstimatedSalary':'Estimated_Salary'})\n",
    "#df.columns = df.columns.str.lower()"
   ]
  },
  {
   "cell_type": "code",
   "execution_count": 11,
   "metadata": {},
   "outputs": [
    {
     "data": {
      "text/plain": [
       "0"
      ]
     },
     "execution_count": 11,
     "metadata": {},
     "output_type": "execute_result"
    }
   ],
   "source": [
    "df.duplicated().sum() #дубликаты данных отсутствуют"
   ]
  },
  {
   "cell_type": "code",
   "execution_count": 12,
   "metadata": {},
   "outputs": [
    {
     "name": "stdout",
     "output_type": "stream",
     "text": [
      "Столбцы с количественными признаками: \n",
      " ['credit_score' 'age' 'tenure' 'balance' 'num_of_products' 'has_cr_card'\n",
      " 'is_active_member' 'estimated_salary' 'exited']\n",
      "Столбцы с качественными признаками: \n",
      " ['geography' 'gender']\n"
     ]
    }
   ],
   "source": [
    "# отбор числовых колонок\n",
    "df_numeric = df.select_dtypes(include=[np.number])\n",
    "numeric_cols = df_numeric.columns.values\n",
    "print('Столбцы с количественными признаками: \\n', numeric_cols)\n",
    "\n",
    "# отбор нечисловых колонок\n",
    "df_non_numeric = df.select_dtypes(exclude=[np.number])\n",
    "non_numeric_cols = df_non_numeric.columns.values\n",
    "print('Столбцы с качественными признаками: \\n', non_numeric_cols)"
   ]
  },
  {
   "cell_type": "code",
   "execution_count": 13,
   "metadata": {},
   "outputs": [
    {
     "data": {
      "text/html": [
       "<div>\n",
       "<style scoped>\n",
       "    .dataframe tbody tr th:only-of-type {\n",
       "        vertical-align: middle;\n",
       "    }\n",
       "\n",
       "    .dataframe tbody tr th {\n",
       "        vertical-align: top;\n",
       "    }\n",
       "\n",
       "    .dataframe thead th {\n",
       "        text-align: right;\n",
       "    }\n",
       "</style>\n",
       "<table border=\"1\" class=\"dataframe\">\n",
       "  <thead>\n",
       "    <tr style=\"text-align: right;\">\n",
       "      <th></th>\n",
       "      <th>credit_score</th>\n",
       "      <th>age</th>\n",
       "      <th>tenure</th>\n",
       "      <th>balance</th>\n",
       "      <th>num_of_products</th>\n",
       "      <th>has_cr_card</th>\n",
       "      <th>is_active_member</th>\n",
       "      <th>estimated_salary</th>\n",
       "      <th>exited</th>\n",
       "    </tr>\n",
       "  </thead>\n",
       "  <tbody>\n",
       "    <tr>\n",
       "      <th>count</th>\n",
       "      <td>10000.000000</td>\n",
       "      <td>10000.000000</td>\n",
       "      <td>10000.000000</td>\n",
       "      <td>10000.000000</td>\n",
       "      <td>10000.000000</td>\n",
       "      <td>10000.00000</td>\n",
       "      <td>10000.000000</td>\n",
       "      <td>10000.000000</td>\n",
       "      <td>10000.000000</td>\n",
       "    </tr>\n",
       "    <tr>\n",
       "      <th>mean</th>\n",
       "      <td>650.528800</td>\n",
       "      <td>38.921800</td>\n",
       "      <td>4.543400</td>\n",
       "      <td>76485.889288</td>\n",
       "      <td>1.530200</td>\n",
       "      <td>0.70550</td>\n",
       "      <td>0.515100</td>\n",
       "      <td>100090.239881</td>\n",
       "      <td>0.203700</td>\n",
       "    </tr>\n",
       "    <tr>\n",
       "      <th>std</th>\n",
       "      <td>96.653299</td>\n",
       "      <td>10.487806</td>\n",
       "      <td>3.111573</td>\n",
       "      <td>62397.405202</td>\n",
       "      <td>0.581654</td>\n",
       "      <td>0.45584</td>\n",
       "      <td>0.499797</td>\n",
       "      <td>57510.492818</td>\n",
       "      <td>0.402769</td>\n",
       "    </tr>\n",
       "    <tr>\n",
       "      <th>min</th>\n",
       "      <td>350.000000</td>\n",
       "      <td>18.000000</td>\n",
       "      <td>0.000000</td>\n",
       "      <td>0.000000</td>\n",
       "      <td>1.000000</td>\n",
       "      <td>0.00000</td>\n",
       "      <td>0.000000</td>\n",
       "      <td>11.580000</td>\n",
       "      <td>0.000000</td>\n",
       "    </tr>\n",
       "    <tr>\n",
       "      <th>25%</th>\n",
       "      <td>584.000000</td>\n",
       "      <td>32.000000</td>\n",
       "      <td>2.000000</td>\n",
       "      <td>0.000000</td>\n",
       "      <td>1.000000</td>\n",
       "      <td>0.00000</td>\n",
       "      <td>0.000000</td>\n",
       "      <td>51002.110000</td>\n",
       "      <td>0.000000</td>\n",
       "    </tr>\n",
       "    <tr>\n",
       "      <th>50%</th>\n",
       "      <td>652.000000</td>\n",
       "      <td>37.000000</td>\n",
       "      <td>4.000000</td>\n",
       "      <td>97198.540000</td>\n",
       "      <td>1.000000</td>\n",
       "      <td>1.00000</td>\n",
       "      <td>1.000000</td>\n",
       "      <td>100193.915000</td>\n",
       "      <td>0.000000</td>\n",
       "    </tr>\n",
       "    <tr>\n",
       "      <th>75%</th>\n",
       "      <td>718.000000</td>\n",
       "      <td>44.000000</td>\n",
       "      <td>7.000000</td>\n",
       "      <td>127644.240000</td>\n",
       "      <td>2.000000</td>\n",
       "      <td>1.00000</td>\n",
       "      <td>1.000000</td>\n",
       "      <td>149388.247500</td>\n",
       "      <td>0.000000</td>\n",
       "    </tr>\n",
       "    <tr>\n",
       "      <th>max</th>\n",
       "      <td>850.000000</td>\n",
       "      <td>92.000000</td>\n",
       "      <td>10.000000</td>\n",
       "      <td>250898.090000</td>\n",
       "      <td>4.000000</td>\n",
       "      <td>1.00000</td>\n",
       "      <td>1.000000</td>\n",
       "      <td>199992.480000</td>\n",
       "      <td>1.000000</td>\n",
       "    </tr>\n",
       "  </tbody>\n",
       "</table>\n",
       "</div>"
      ],
      "text/plain": [
       "       credit_score           age        tenure        balance  \\\n",
       "count  10000.000000  10000.000000  10000.000000   10000.000000   \n",
       "mean     650.528800     38.921800      4.543400   76485.889288   \n",
       "std       96.653299     10.487806      3.111573   62397.405202   \n",
       "min      350.000000     18.000000      0.000000       0.000000   \n",
       "25%      584.000000     32.000000      2.000000       0.000000   \n",
       "50%      652.000000     37.000000      4.000000   97198.540000   \n",
       "75%      718.000000     44.000000      7.000000  127644.240000   \n",
       "max      850.000000     92.000000     10.000000  250898.090000   \n",
       "\n",
       "       num_of_products  has_cr_card  is_active_member  estimated_salary  \\\n",
       "count     10000.000000  10000.00000      10000.000000      10000.000000   \n",
       "mean          1.530200      0.70550          0.515100     100090.239881   \n",
       "std           0.581654      0.45584          0.499797      57510.492818   \n",
       "min           1.000000      0.00000          0.000000         11.580000   \n",
       "25%           1.000000      0.00000          0.000000      51002.110000   \n",
       "50%           1.000000      1.00000          1.000000     100193.915000   \n",
       "75%           2.000000      1.00000          1.000000     149388.247500   \n",
       "max           4.000000      1.00000          1.000000     199992.480000   \n",
       "\n",
       "             exited  \n",
       "count  10000.000000  \n",
       "mean       0.203700  \n",
       "std        0.402769  \n",
       "min        0.000000  \n",
       "25%        0.000000  \n",
       "50%        0.000000  \n",
       "75%        0.000000  \n",
       "max        1.000000  "
      ]
     },
     "execution_count": 13,
     "metadata": {},
     "output_type": "execute_result"
    }
   ],
   "source": [
    "df_numeric.describe()"
   ]
  },
  {
   "cell_type": "code",
   "execution_count": 14,
   "metadata": {},
   "outputs": [
    {
     "name": "stdout",
     "output_type": "stream",
     "text": [
      "59\n"
     ]
    }
   ],
   "source": [
    "# Число клиентов с зарплатой менее 1000.\n",
    "print(len(df.loc[(df['estimated_salary'] < 1000)]))"
   ]
  },
  {
   "cell_type": "code",
   "execution_count": 15,
   "metadata": {
    "scrolled": true
   },
   "outputs": [
    {
     "data": {
      "text/html": [
       "<div>\n",
       "<style scoped>\n",
       "    .dataframe tbody tr th:only-of-type {\n",
       "        vertical-align: middle;\n",
       "    }\n",
       "\n",
       "    .dataframe tbody tr th {\n",
       "        vertical-align: top;\n",
       "    }\n",
       "\n",
       "    .dataframe thead th {\n",
       "        text-align: right;\n",
       "    }\n",
       "</style>\n",
       "<table border=\"1\" class=\"dataframe\">\n",
       "  <thead>\n",
       "    <tr style=\"text-align: right;\">\n",
       "      <th></th>\n",
       "      <th>geography</th>\n",
       "      <th>gender</th>\n",
       "    </tr>\n",
       "  </thead>\n",
       "  <tbody>\n",
       "    <tr>\n",
       "      <th>count</th>\n",
       "      <td>10000</td>\n",
       "      <td>10000</td>\n",
       "    </tr>\n",
       "    <tr>\n",
       "      <th>unique</th>\n",
       "      <td>3</td>\n",
       "      <td>2</td>\n",
       "    </tr>\n",
       "    <tr>\n",
       "      <th>top</th>\n",
       "      <td>France</td>\n",
       "      <td>Male</td>\n",
       "    </tr>\n",
       "    <tr>\n",
       "      <th>freq</th>\n",
       "      <td>5014</td>\n",
       "      <td>5457</td>\n",
       "    </tr>\n",
       "  </tbody>\n",
       "</table>\n",
       "</div>"
      ],
      "text/plain": [
       "       geography gender\n",
       "count      10000  10000\n",
       "unique         3      2\n",
       "top       France   Male\n",
       "freq        5014   5457"
      ]
     },
     "execution_count": 15,
     "metadata": {},
     "output_type": "execute_result"
    }
   ],
   "source": [
    "#исследуем категориальные признаки\n",
    "df_non_numeric.describe()"
   ]
  },
  {
   "cell_type": "code",
   "execution_count": 16,
   "metadata": {},
   "outputs": [
    {
     "name": "stdout",
     "output_type": "stream",
     "text": [
      "5457\n",
      "5014\n"
     ]
    }
   ],
   "source": [
    "print(len(df.loc[(df['gender'] == 'Male')]))\n",
    "print(len(df.loc[(df['geography'] == 'France')]))"
   ]
  },
  {
   "cell_type": "code",
   "execution_count": 17,
   "metadata": {},
   "outputs": [
    {
     "data": {
      "text/plain": [
       "geography\n",
       "France     5014\n",
       "Germany    2509\n",
       "Spain      2477\n",
       "dtype: int64"
      ]
     },
     "execution_count": 17,
     "metadata": {},
     "output_type": "execute_result"
    }
   ],
   "source": [
    "df.groupby('geography').size () # получаем данные для проверки работы кодировщиков"
   ]
  },
  {
   "cell_type": "code",
   "execution_count": 18,
   "metadata": {},
   "outputs": [
    {
     "data": {
      "text/plain": [
       "France     0.5014\n",
       "Germany    0.2509\n",
       "Spain      0.2477\n",
       "Name: geography, dtype: float64"
      ]
     },
     "execution_count": 18,
     "metadata": {},
     "output_type": "execute_result"
    }
   ],
   "source": [
    "df['geography'].value_counts(normalize=True)"
   ]
  },
  {
   "cell_type": "code",
   "execution_count": 19,
   "metadata": {},
   "outputs": [
    {
     "data": {
      "text/plain": [
       "gender\n",
       "Female    4543\n",
       "Male      5457\n",
       "dtype: int64"
      ]
     },
     "execution_count": 19,
     "metadata": {},
     "output_type": "execute_result"
    }
   ],
   "source": [
    "df.groupby('gender').size ()"
   ]
  },
  {
   "cell_type": "code",
   "execution_count": 20,
   "metadata": {},
   "outputs": [
    {
     "data": {
      "text/plain": [
       "Male      0.5457\n",
       "Female    0.4543\n",
       "Name: gender, dtype: float64"
      ]
     },
     "execution_count": 20,
     "metadata": {},
     "output_type": "execute_result"
    }
   ],
   "source": [
    "df['gender'].value_counts(normalize=True)"
   ]
  },
  {
   "cell_type": "markdown",
   "metadata": {},
   "source": [
    "С категориальными признаками все в порядке."
   ]
  },
  {
   "cell_type": "markdown",
   "metadata": {},
   "source": [
    "Средний возраст заемщика 38 лет. Минимальный возраст - 18 лет, максимальный - 92.\n",
    "\n",
    "Большинство заемщиков используют один продукт банка, и являются клиентами банка в течение двух и более лет.  \n",
    "Обращает на себя внимание, что приблизительно 25% клиентов (первый квартиль) имеют баланс \"ноль\".\n",
    "Покинувших банк клиентов также около 20% - т.е. имеется значительный перекос данных по целевому признаку.\n",
    "Кредитку имеют около 70%.   \n",
    "Активными являются 51% клиентов.   \n",
    "Зарплата в 11,58 выглядит подозрительно, но вполне возможно не является выбросом.  \n",
    "Наибольшее число заемщиков из Франции (5 014) человек и мужского пола (5 457)."
   ]
  },
  {
   "cell_type": "code",
   "execution_count": 21,
   "metadata": {},
   "outputs": [
    {
     "data": {
      "text/plain": [
       "array([[<AxesSubplot:title={'center':'credit_score'}>,\n",
       "        <AxesSubplot:title={'center':'age'}>,\n",
       "        <AxesSubplot:title={'center':'tenure'}>],\n",
       "       [<AxesSubplot:title={'center':'balance'}>,\n",
       "        <AxesSubplot:title={'center':'num_of_products'}>,\n",
       "        <AxesSubplot:title={'center':'has_cr_card'}>],\n",
       "       [<AxesSubplot:title={'center':'is_active_member'}>,\n",
       "        <AxesSubplot:title={'center':'estimated_salary'}>,\n",
       "        <AxesSubplot:title={'center':'exited'}>]], dtype=object)"
      ]
     },
     "execution_count": 21,
     "metadata": {},
     "output_type": "execute_result"
    },
    {
     "data": {
      "image/png": "[encoded data removed]",
      "text/plain": [
       "<Figure size 3600x2160 with 9 Axes>"
      ]
     },
     "metadata": {
      "needs_background": "light"
     },
     "output_type": "display_data"
    }
   ],
   "source": [
    "df.hist(column=['credit_score', 'age', 'tenure', 'balance', 'num_of_products', 'has_cr_card',\n",
    " 'is_active_member', 'estimated_salary', 'exited'], figsize=(50, 30), bins=30)"
   ]
  },
  {
   "cell_type": "code",
   "execution_count": 22,
   "metadata": {},
   "outputs": [
    {
     "data": {
      "text/html": [
       "<div>\n",
       "<style scoped>\n",
       "    .dataframe tbody tr th:only-of-type {\n",
       "        vertical-align: middle;\n",
       "    }\n",
       "\n",
       "    .dataframe tbody tr th {\n",
       "        vertical-align: top;\n",
       "    }\n",
       "\n",
       "    .dataframe thead th {\n",
       "        text-align: right;\n",
       "    }\n",
       "</style>\n",
       "<table border=\"1\" class=\"dataframe\">\n",
       "  <thead>\n",
       "    <tr style=\"text-align: right;\">\n",
       "      <th></th>\n",
       "      <th>credit_score</th>\n",
       "      <th>geography</th>\n",
       "      <th>gender</th>\n",
       "      <th>age</th>\n",
       "      <th>tenure</th>\n",
       "      <th>balance</th>\n",
       "      <th>num_of_products</th>\n",
       "      <th>has_cr_card</th>\n",
       "      <th>is_active_member</th>\n",
       "      <th>estimated_salary</th>\n",
       "      <th>exited</th>\n",
       "    </tr>\n",
       "  </thead>\n",
       "  <tbody>\n",
       "    <tr>\n",
       "      <th>4</th>\n",
       "      <td>850</td>\n",
       "      <td>Spain</td>\n",
       "      <td>Female</td>\n",
       "      <td>43</td>\n",
       "      <td>2.0</td>\n",
       "      <td>125510.82</td>\n",
       "      <td>1</td>\n",
       "      <td>1</td>\n",
       "      <td>1</td>\n",
       "      <td>79084.10</td>\n",
       "      <td>0</td>\n",
       "    </tr>\n",
       "    <tr>\n",
       "      <th>38</th>\n",
       "      <td>850</td>\n",
       "      <td>France</td>\n",
       "      <td>Male</td>\n",
       "      <td>36</td>\n",
       "      <td>7.0</td>\n",
       "      <td>0.00</td>\n",
       "      <td>1</td>\n",
       "      <td>1</td>\n",
       "      <td>1</td>\n",
       "      <td>40812.90</td>\n",
       "      <td>0</td>\n",
       "    </tr>\n",
       "    <tr>\n",
       "      <th>180</th>\n",
       "      <td>850</td>\n",
       "      <td>Spain</td>\n",
       "      <td>Female</td>\n",
       "      <td>45</td>\n",
       "      <td>0.0</td>\n",
       "      <td>122311.21</td>\n",
       "      <td>1</td>\n",
       "      <td>1</td>\n",
       "      <td>1</td>\n",
       "      <td>19482.50</td>\n",
       "      <td>0</td>\n",
       "    </tr>\n",
       "    <tr>\n",
       "      <th>200</th>\n",
       "      <td>850</td>\n",
       "      <td>Spain</td>\n",
       "      <td>Male</td>\n",
       "      <td>30</td>\n",
       "      <td>2.0</td>\n",
       "      <td>141040.01</td>\n",
       "      <td>1</td>\n",
       "      <td>1</td>\n",
       "      <td>1</td>\n",
       "      <td>5978.20</td>\n",
       "      <td>0</td>\n",
       "    </tr>\n",
       "    <tr>\n",
       "      <th>223</th>\n",
       "      <td>850</td>\n",
       "      <td>France</td>\n",
       "      <td>Male</td>\n",
       "      <td>33</td>\n",
       "      <td>10.0</td>\n",
       "      <td>0.00</td>\n",
       "      <td>1</td>\n",
       "      <td>1</td>\n",
       "      <td>0</td>\n",
       "      <td>4861.72</td>\n",
       "      <td>1</td>\n",
       "    </tr>\n",
       "  </tbody>\n",
       "</table>\n",
       "</div>"
      ],
      "text/plain": [
       "     credit_score geography  gender  age  tenure    balance  num_of_products  \\\n",
       "4             850     Spain  Female   43     2.0  125510.82                1   \n",
       "38            850    France    Male   36     7.0       0.00                1   \n",
       "180           850     Spain  Female   45     0.0  122311.21                1   \n",
       "200           850     Spain    Male   30     2.0  141040.01                1   \n",
       "223           850    France    Male   33    10.0       0.00                1   \n",
       "\n",
       "     has_cr_card  is_active_member  estimated_salary  exited  \n",
       "4              1                 1          79084.10       0  \n",
       "38             1                 1          40812.90       0  \n",
       "180            1                 1          19482.50       0  \n",
       "200            1                 1           5978.20       0  \n",
       "223            1                 0           4861.72       1  "
      ]
     },
     "execution_count": 22,
     "metadata": {},
     "output_type": "execute_result"
    }
   ],
   "source": [
    "df.loc[(df['credit_score'] == 850)].head()"
   ]
  },
  {
   "cell_type": "code",
   "execution_count": 23,
   "metadata": {},
   "outputs": [
    {
     "name": "stdout",
     "output_type": "stream",
     "text": [
      "233\n"
     ]
    }
   ],
   "source": [
    "# Людей с высоким кредитным рейтингом аномально много, \n",
    "# но этот выброс невозможно обработать, т.к. неизвестно как присваивается рейтинг\n",
    "print(len(df.loc[(df['credit_score'] == 850)]))"
   ]
  },
  {
   "cell_type": "markdown",
   "metadata": {},
   "source": [
    "Кроме этого подтверждается большое количество людей с \"0\" на балансе.  \n",
    "В остальном данные не вызывают сомнений."
   ]
  },
  {
   "cell_type": "code",
   "execution_count": 24,
   "metadata": {
    "scrolled": true
   },
   "outputs": [
    {
     "data": {
      "text/html": [
       "<div>\n",
       "<style scoped>\n",
       "    .dataframe tbody tr th:only-of-type {\n",
       "        vertical-align: middle;\n",
       "    }\n",
       "\n",
       "    .dataframe tbody tr th {\n",
       "        vertical-align: top;\n",
       "    }\n",
       "\n",
       "    .dataframe thead th {\n",
       "        text-align: right;\n",
       "    }\n",
       "</style>\n",
       "<table border=\"1\" class=\"dataframe\">\n",
       "  <thead>\n",
       "    <tr style=\"text-align: right;\">\n",
       "      <th></th>\n",
       "      <th>credit_score</th>\n",
       "      <th>age</th>\n",
       "      <th>tenure</th>\n",
       "      <th>balance</th>\n",
       "      <th>num_of_products</th>\n",
       "      <th>has_cr_card</th>\n",
       "      <th>is_active_member</th>\n",
       "      <th>estimated_salary</th>\n",
       "      <th>exited</th>\n",
       "    </tr>\n",
       "  </thead>\n",
       "  <tbody>\n",
       "    <tr>\n",
       "      <th>credit_score</th>\n",
       "      <td>1.000000</td>\n",
       "      <td>-0.003965</td>\n",
       "      <td>0.003087</td>\n",
       "      <td>0.006268</td>\n",
       "      <td>0.012238</td>\n",
       "      <td>-0.005458</td>\n",
       "      <td>0.025651</td>\n",
       "      <td>-0.001384</td>\n",
       "      <td>-0.027094</td>\n",
       "    </tr>\n",
       "    <tr>\n",
       "      <th>age</th>\n",
       "      <td>-0.003965</td>\n",
       "      <td>1.000000</td>\n",
       "      <td>-0.007368</td>\n",
       "      <td>0.028308</td>\n",
       "      <td>-0.030680</td>\n",
       "      <td>-0.011721</td>\n",
       "      <td>0.085472</td>\n",
       "      <td>-0.007201</td>\n",
       "      <td>0.285323</td>\n",
       "    </tr>\n",
       "    <tr>\n",
       "      <th>tenure</th>\n",
       "      <td>0.003087</td>\n",
       "      <td>-0.007368</td>\n",
       "      <td>1.000000</td>\n",
       "      <td>-0.005821</td>\n",
       "      <td>0.010106</td>\n",
       "      <td>0.021387</td>\n",
       "      <td>-0.025856</td>\n",
       "      <td>0.011225</td>\n",
       "      <td>-0.013319</td>\n",
       "    </tr>\n",
       "    <tr>\n",
       "      <th>balance</th>\n",
       "      <td>0.006268</td>\n",
       "      <td>0.028308</td>\n",
       "      <td>-0.005821</td>\n",
       "      <td>1.000000</td>\n",
       "      <td>-0.304180</td>\n",
       "      <td>-0.014858</td>\n",
       "      <td>-0.010084</td>\n",
       "      <td>0.012797</td>\n",
       "      <td>0.118533</td>\n",
       "    </tr>\n",
       "    <tr>\n",
       "      <th>num_of_products</th>\n",
       "      <td>0.012238</td>\n",
       "      <td>-0.030680</td>\n",
       "      <td>0.010106</td>\n",
       "      <td>-0.304180</td>\n",
       "      <td>1.000000</td>\n",
       "      <td>0.003183</td>\n",
       "      <td>0.009612</td>\n",
       "      <td>0.014204</td>\n",
       "      <td>-0.047820</td>\n",
       "    </tr>\n",
       "    <tr>\n",
       "      <th>has_cr_card</th>\n",
       "      <td>-0.005458</td>\n",
       "      <td>-0.011721</td>\n",
       "      <td>0.021387</td>\n",
       "      <td>-0.014858</td>\n",
       "      <td>0.003183</td>\n",
       "      <td>1.000000</td>\n",
       "      <td>-0.011866</td>\n",
       "      <td>-0.009933</td>\n",
       "      <td>-0.007138</td>\n",
       "    </tr>\n",
       "    <tr>\n",
       "      <th>is_active_member</th>\n",
       "      <td>0.025651</td>\n",
       "      <td>0.085472</td>\n",
       "      <td>-0.025856</td>\n",
       "      <td>-0.010084</td>\n",
       "      <td>0.009612</td>\n",
       "      <td>-0.011866</td>\n",
       "      <td>1.000000</td>\n",
       "      <td>-0.011421</td>\n",
       "      <td>-0.156128</td>\n",
       "    </tr>\n",
       "    <tr>\n",
       "      <th>estimated_salary</th>\n",
       "      <td>-0.001384</td>\n",
       "      <td>-0.007201</td>\n",
       "      <td>0.011225</td>\n",
       "      <td>0.012797</td>\n",
       "      <td>0.014204</td>\n",
       "      <td>-0.009933</td>\n",
       "      <td>-0.011421</td>\n",
       "      <td>1.000000</td>\n",
       "      <td>0.012097</td>\n",
       "    </tr>\n",
       "    <tr>\n",
       "      <th>exited</th>\n",
       "      <td>-0.027094</td>\n",
       "      <td>0.285323</td>\n",
       "      <td>-0.013319</td>\n",
       "      <td>0.118533</td>\n",
       "      <td>-0.047820</td>\n",
       "      <td>-0.007138</td>\n",
       "      <td>-0.156128</td>\n",
       "      <td>0.012097</td>\n",
       "      <td>1.000000</td>\n",
       "    </tr>\n",
       "  </tbody>\n",
       "</table>\n",
       "</div>"
      ],
      "text/plain": [
       "                  credit_score       age    tenure   balance  num_of_products  \\\n",
       "credit_score          1.000000 -0.003965  0.003087  0.006268         0.012238   \n",
       "age                  -0.003965  1.000000 -0.007368  0.028308        -0.030680   \n",
       "tenure                0.003087 -0.007368  1.000000 -0.005821         0.010106   \n",
       "balance               0.006268  0.028308 -0.005821  1.000000        -0.304180   \n",
       "num_of_products       0.012238 -0.030680  0.010106 -0.304180         1.000000   \n",
       "has_cr_card          -0.005458 -0.011721  0.021387 -0.014858         0.003183   \n",
       "is_active_member      0.025651  0.085472 -0.025856 -0.010084         0.009612   \n",
       "estimated_salary     -0.001384 -0.007201  0.011225  0.012797         0.014204   \n",
       "exited               -0.027094  0.285323 -0.013319  0.118533        -0.047820   \n",
       "\n",
       "                  has_cr_card  is_active_member  estimated_salary    exited  \n",
       "credit_score        -0.005458          0.025651         -0.001384 -0.027094  \n",
       "age                 -0.011721          0.085472         -0.007201  0.285323  \n",
       "tenure               0.021387         -0.025856          0.011225 -0.013319  \n",
       "balance             -0.014858         -0.010084          0.012797  0.118533  \n",
       "num_of_products      0.003183          0.009612          0.014204 -0.047820  \n",
       "has_cr_card          1.000000         -0.011866         -0.009933 -0.007138  \n",
       "is_active_member    -0.011866          1.000000         -0.011421 -0.156128  \n",
       "estimated_salary    -0.009933         -0.011421          1.000000  0.012097  \n",
       "exited              -0.007138         -0.156128          0.012097  1.000000  "
      ]
     },
     "execution_count": 24,
     "metadata": {},
     "output_type": "execute_result"
    }
   ],
   "source": [
    "df.corr()"
   ]
  },
  {
   "cell_type": "code",
   "execution_count": 25,
   "metadata": {},
   "outputs": [],
   "source": [
    "#sns.pairplot(df, hue = 'exited')\n",
    "#plt.show()"
   ]
  },
  {
   "cell_type": "markdown",
   "metadata": {},
   "source": [
    "Выраженной корреляции не выявлено. Самая большая корреляция с признаком `age`."
   ]
  },
  {
   "cell_type": "code",
   "execution_count": 26,
   "metadata": {},
   "outputs": [
    {
     "name": "stdout",
     "output_type": "stream",
     "text": [
      "Collecting phik\n",
      "  Downloading phik-0.12.2-cp39-cp39-manylinux_2_17_x86_64.manylinux2014_x86_64.whl (709 kB)\n",
      "\u001b[K     |████████████████████████████████| 709 kB 1.3 MB/s eta 0:00:01\n",
      "\u001b[?25hRequirement already satisfied: numpy>=1.18.0 in /opt/conda/lib/python3.9/site-packages (from phik) (1.21.1)\n",
      "Requirement already satisfied: matplotlib>=2.2.3 in /opt/conda/lib/python3.9/site-packages (from phik) (3.3.4)\n",
      "Requirement already satisfied: scipy>=1.5.2 in /opt/conda/lib/python3.9/site-packages (from phik) (1.9.1)\n",
      "Requirement already satisfied: pandas>=0.25.1 in /opt/conda/lib/python3.9/site-packages (from phik) (1.2.4)\n",
      "Requirement already satisfied: joblib>=0.14.1 in /opt/conda/lib/python3.9/site-packages (from phik) (1.1.0)\n",
      "Requirement already satisfied: python-dateutil>=2.1 in /opt/conda/lib/python3.9/site-packages (from matplotlib>=2.2.3->phik) (2.8.1)\n",
      "Requirement already satisfied: cycler>=0.10 in /opt/conda/lib/python3.9/site-packages (from matplotlib>=2.2.3->phik) (0.11.0)\n",
      "Requirement already satisfied: pillow>=6.2.0 in /opt/conda/lib/python3.9/site-packages (from matplotlib>=2.2.3->phik) (8.4.0)\n",
      "Requirement already satisfied: kiwisolver>=1.0.1 in /opt/conda/lib/python3.9/site-packages (from matplotlib>=2.2.3->phik) (1.4.4)\n",
      "Requirement already satisfied: pyparsing!=2.0.4,!=2.1.2,!=2.1.6,>=2.0.3 in /opt/conda/lib/python3.9/site-packages (from matplotlib>=2.2.3->phik) (2.4.7)\n",
      "Requirement already satisfied: pytz>=2017.3 in /opt/conda/lib/python3.9/site-packages (from pandas>=0.25.1->phik) (2021.1)\n",
      "Requirement already satisfied: six>=1.5 in /opt/conda/lib/python3.9/site-packages (from python-dateutil>=2.1->matplotlib>=2.2.3->phik) (1.16.0)\n",
      "Installing collected packages: phik\n",
      "Successfully installed phik-0.12.2\n",
      "interval columns not set, guessing: ['credit_score', 'age', 'tenure', 'balance', 'num_of_products', 'has_cr_card', 'is_active_member', 'estimated_salary', 'exited']\n"
     ]
    },
    {
     "data": {
      "text/html": [
       "<div>\n",
       "<style scoped>\n",
       "    .dataframe tbody tr th:only-of-type {\n",
       "        vertical-align: middle;\n",
       "    }\n",
       "\n",
       "    .dataframe tbody tr th {\n",
       "        vertical-align: top;\n",
       "    }\n",
       "\n",
       "    .dataframe thead th {\n",
       "        text-align: right;\n",
       "    }\n",
       "</style>\n",
       "<table border=\"1\" class=\"dataframe\">\n",
       "  <thead>\n",
       "    <tr style=\"text-align: right;\">\n",
       "      <th></th>\n",
       "      <th>credit_score</th>\n",
       "      <th>geography</th>\n",
       "      <th>gender</th>\n",
       "      <th>age</th>\n",
       "      <th>tenure</th>\n",
       "      <th>balance</th>\n",
       "      <th>num_of_products</th>\n",
       "      <th>has_cr_card</th>\n",
       "      <th>is_active_member</th>\n",
       "      <th>estimated_salary</th>\n",
       "      <th>exited</th>\n",
       "    </tr>\n",
       "  </thead>\n",
       "  <tbody>\n",
       "    <tr>\n",
       "      <th>credit_score</th>\n",
       "      <td>1.000000</td>\n",
       "      <td>0.035375</td>\n",
       "      <td>0.000000</td>\n",
       "      <td>0.000000</td>\n",
       "      <td>0.000000</td>\n",
       "      <td>0.000000</td>\n",
       "      <td>0.034645</td>\n",
       "      <td>0.000000</td>\n",
       "      <td>0.038064</td>\n",
       "      <td>0.034215</td>\n",
       "      <td>0.096525</td>\n",
       "    </tr>\n",
       "    <tr>\n",
       "      <th>geography</th>\n",
       "      <td>0.035375</td>\n",
       "      <td>1.000000</td>\n",
       "      <td>0.013354</td>\n",
       "      <td>0.085025</td>\n",
       "      <td>0.007922</td>\n",
       "      <td>0.463811</td>\n",
       "      <td>0.049418</td>\n",
       "      <td>0.002919</td>\n",
       "      <td>0.010947</td>\n",
       "      <td>0.028372</td>\n",
       "      <td>0.104511</td>\n",
       "    </tr>\n",
       "    <tr>\n",
       "      <th>gender</th>\n",
       "      <td>0.000000</td>\n",
       "      <td>0.013354</td>\n",
       "      <td>1.000000</td>\n",
       "      <td>0.033815</td>\n",
       "      <td>0.030905</td>\n",
       "      <td>0.000000</td>\n",
       "      <td>0.063174</td>\n",
       "      <td>0.000000</td>\n",
       "      <td>0.031384</td>\n",
       "      <td>0.028019</td>\n",
       "      <td>0.165422</td>\n",
       "    </tr>\n",
       "    <tr>\n",
       "      <th>age</th>\n",
       "      <td>0.000000</td>\n",
       "      <td>0.085025</td>\n",
       "      <td>0.033815</td>\n",
       "      <td>1.000000</td>\n",
       "      <td>0.045072</td>\n",
       "      <td>0.035357</td>\n",
       "      <td>0.145566</td>\n",
       "      <td>0.016433</td>\n",
       "      <td>0.187434</td>\n",
       "      <td>0.051545</td>\n",
       "      <td>0.487524</td>\n",
       "    </tr>\n",
       "    <tr>\n",
       "      <th>tenure</th>\n",
       "      <td>0.000000</td>\n",
       "      <td>0.007922</td>\n",
       "      <td>0.030905</td>\n",
       "      <td>0.045072</td>\n",
       "      <td>1.000000</td>\n",
       "      <td>0.053907</td>\n",
       "      <td>0.052880</td>\n",
       "      <td>0.012565</td>\n",
       "      <td>0.024749</td>\n",
       "      <td>0.000000</td>\n",
       "      <td>0.008407</td>\n",
       "    </tr>\n",
       "    <tr>\n",
       "      <th>balance</th>\n",
       "      <td>0.000000</td>\n",
       "      <td>0.463811</td>\n",
       "      <td>0.000000</td>\n",
       "      <td>0.035357</td>\n",
       "      <td>0.053907</td>\n",
       "      <td>1.000000</td>\n",
       "      <td>0.371385</td>\n",
       "      <td>0.050671</td>\n",
       "      <td>0.018236</td>\n",
       "      <td>0.000000</td>\n",
       "      <td>0.183365</td>\n",
       "    </tr>\n",
       "    <tr>\n",
       "      <th>num_of_products</th>\n",
       "      <td>0.034645</td>\n",
       "      <td>0.049418</td>\n",
       "      <td>0.063174</td>\n",
       "      <td>0.145566</td>\n",
       "      <td>0.052880</td>\n",
       "      <td>0.371385</td>\n",
       "      <td>1.000000</td>\n",
       "      <td>0.000000</td>\n",
       "      <td>0.056918</td>\n",
       "      <td>0.031562</td>\n",
       "      <td>0.565084</td>\n",
       "    </tr>\n",
       "    <tr>\n",
       "      <th>has_cr_card</th>\n",
       "      <td>0.000000</td>\n",
       "      <td>0.002919</td>\n",
       "      <td>0.000000</td>\n",
       "      <td>0.016433</td>\n",
       "      <td>0.012565</td>\n",
       "      <td>0.050671</td>\n",
       "      <td>0.000000</td>\n",
       "      <td>1.000000</td>\n",
       "      <td>0.009377</td>\n",
       "      <td>0.000000</td>\n",
       "      <td>0.000000</td>\n",
       "    </tr>\n",
       "    <tr>\n",
       "      <th>is_active_member</th>\n",
       "      <td>0.038064</td>\n",
       "      <td>0.010947</td>\n",
       "      <td>0.031384</td>\n",
       "      <td>0.187434</td>\n",
       "      <td>0.024749</td>\n",
       "      <td>0.018236</td>\n",
       "      <td>0.056918</td>\n",
       "      <td>0.009377</td>\n",
       "      <td>1.000000</td>\n",
       "      <td>0.032847</td>\n",
       "      <td>0.241939</td>\n",
       "    </tr>\n",
       "    <tr>\n",
       "      <th>estimated_salary</th>\n",
       "      <td>0.034215</td>\n",
       "      <td>0.028372</td>\n",
       "      <td>0.028019</td>\n",
       "      <td>0.051545</td>\n",
       "      <td>0.000000</td>\n",
       "      <td>0.000000</td>\n",
       "      <td>0.031562</td>\n",
       "      <td>0.000000</td>\n",
       "      <td>0.032847</td>\n",
       "      <td>1.000000</td>\n",
       "      <td>0.000000</td>\n",
       "    </tr>\n",
       "    <tr>\n",
       "      <th>exited</th>\n",
       "      <td>0.096525</td>\n",
       "      <td>0.104511</td>\n",
       "      <td>0.165422</td>\n",
       "      <td>0.487524</td>\n",
       "      <td>0.008407</td>\n",
       "      <td>0.183365</td>\n",
       "      <td>0.565084</td>\n",
       "      <td>0.000000</td>\n",
       "      <td>0.241939</td>\n",
       "      <td>0.000000</td>\n",
       "      <td>1.000000</td>\n",
       "    </tr>\n",
       "  </tbody>\n",
       "</table>\n",
       "</div>"
      ],
      "text/plain": [
       "                  credit_score  geography    gender       age    tenure  \\\n",
       "credit_score          1.000000   0.035375  0.000000  0.000000  0.000000   \n",
       "geography             0.035375   1.000000  0.013354  0.085025  0.007922   \n",
       "gender                0.000000   0.013354  1.000000  0.033815  0.030905   \n",
       "age                   0.000000   0.085025  0.033815  1.000000  0.045072   \n",
       "tenure                0.000000   0.007922  0.030905  0.045072  1.000000   \n",
       "balance               0.000000   0.463811  0.000000  0.035357  0.053907   \n",
       "num_of_products       0.034645   0.049418  0.063174  0.145566  0.052880   \n",
       "has_cr_card           0.000000   0.002919  0.000000  0.016433  0.012565   \n",
       "is_active_member      0.038064   0.010947  0.031384  0.187434  0.024749   \n",
       "estimated_salary      0.034215   0.028372  0.028019  0.051545  0.000000   \n",
       "exited                0.096525   0.104511  0.165422  0.487524  0.008407   \n",
       "\n",
       "                   balance  num_of_products  has_cr_card  is_active_member  \\\n",
       "credit_score      0.000000         0.034645     0.000000          0.038064   \n",
       "geography         0.463811         0.049418     0.002919          0.010947   \n",
       "gender            0.000000         0.063174     0.000000          0.031384   \n",
       "age               0.035357         0.145566     0.016433          0.187434   \n",
       "tenure            0.053907         0.052880     0.012565          0.024749   \n",
       "balance           1.000000         0.371385     0.050671          0.018236   \n",
       "num_of_products   0.371385         1.000000     0.000000          0.056918   \n",
       "has_cr_card       0.050671         0.000000     1.000000          0.009377   \n",
       "is_active_member  0.018236         0.056918     0.009377          1.000000   \n",
       "estimated_salary  0.000000         0.031562     0.000000          0.032847   \n",
       "exited            0.183365         0.565084     0.000000          0.241939   \n",
       "\n",
       "                  estimated_salary    exited  \n",
       "credit_score              0.034215  0.096525  \n",
       "geography                 0.028372  0.104511  \n",
       "gender                    0.028019  0.165422  \n",
       "age                       0.051545  0.487524  \n",
       "tenure                    0.000000  0.008407  \n",
       "balance                   0.000000  0.183365  \n",
       "num_of_products           0.031562  0.565084  \n",
       "has_cr_card               0.000000  0.000000  \n",
       "is_active_member          0.032847  0.241939  \n",
       "estimated_salary          1.000000  0.000000  \n",
       "exited                    0.000000  1.000000  "
      ]
     },
     "execution_count": 26,
     "metadata": {},
     "output_type": "execute_result"
    }
   ],
   "source": [
    "!pip install phik\n",
    "#git clone https://github.com/KaveIO/PhiK.git\n",
    "#pip install -e PhiK/\n",
    "\n",
    "import phik\n",
    "from phik import resources, report\n",
    "#cols = ['gender','geography']\n",
    "\n",
    "df.phik_matrix()"
   ]
  },
  {
   "cell_type": "code",
   "execution_count": 27,
   "metadata": {
    "scrolled": true
   },
   "outputs": [
    {
     "name": "stdout",
     "output_type": "stream",
     "text": [
      "<class 'pandas.core.frame.DataFrame'>\n",
      "RangeIndex: 10000 entries, 0 to 9999\n",
      "Data columns (total 12 columns):\n",
      " #   Column             Non-Null Count  Dtype  \n",
      "---  ------             --------------  -----  \n",
      " 0   credit_score       10000 non-null  int64  \n",
      " 1   age                10000 non-null  int64  \n",
      " 2   tenure             10000 non-null  float64\n",
      " 3   balance            10000 non-null  float64\n",
      " 4   num_of_products    10000 non-null  int64  \n",
      " 5   has_cr_card        10000 non-null  int64  \n",
      " 6   is_active_member   10000 non-null  int64  \n",
      " 7   estimated_salary   10000 non-null  float64\n",
      " 8   exited             10000 non-null  int64  \n",
      " 9   gender_Male        10000 non-null  uint8  \n",
      " 10  geography_Germany  10000 non-null  uint8  \n",
      " 11  geography_Spain    10000 non-null  uint8  \n",
      "dtypes: float64(3), int64(6), uint8(3)\n",
      "memory usage: 732.5 KB\n"
     ]
    }
   ],
   "source": [
    "# Преобразуем категориальные признаки, избегая дамми-ловушки, используя One-hot-encoding.\n",
    "ohe_df = pd.get_dummies(df, columns=['gender', 'geography'], drop_first=True)\n",
    "\n",
    "ohe_df.info()"
   ]
  },
  {
   "cell_type": "code",
   "execution_count": 28,
   "metadata": {},
   "outputs": [
    {
     "name": "stdout",
     "output_type": "stream",
     "text": [
      "Тренировочная выборка OHE 6000\n",
      "Валидационная выборка OHE 2000\n",
      "Тестовая выборка OHE 2000\n"
     ]
    }
   ],
   "source": [
    "# Разбиваем данные,обработанные OHE в соотношении 3:1:1 на обучающую, валидационную и тестовую выборки.\n",
    "ohe_df_train, ohe_df_valid_and_test = train_test_split(ohe_df, test_size=0.4, random_state=12345)\n",
    "ohe_df_valid, ohe_df_test = train_test_split(ohe_df_valid_and_test, test_size=0.5, random_state=12345)\n",
    "\n",
    "print('Тренировочная выборка OHE', ohe_df_train.shape[0])\n",
    "print('Валидационная выборка OHE', ohe_df_valid.shape[0])\n",
    "print('Тестовая выборка OHE', ohe_df_test.shape[0])"
   ]
  },
  {
   "cell_type": "code",
   "execution_count": 29,
   "metadata": {},
   "outputs": [],
   "source": [
    "# Подготавливаем OHE данные.\n",
    "# Тренировочные OHE данные\n",
    "features_ohe_train = ohe_df_train.drop('exited', axis=1)\n",
    "target_ohe_train = ohe_df_train['exited']\n",
    "# Валидационные OHE данные\n",
    "features_ohe_valid = ohe_df_valid.drop('exited', axis=1)\n",
    "target_ohe_valid = ohe_df_valid['exited']\n",
    "# Тестовые OHE данные\n",
    "features_ohe_test = ohe_df_test.drop('exited', axis=1)\n",
    "target_ohe_test = ohe_df_test['exited']"
   ]
  },
  {
   "cell_type": "code",
   "execution_count": 30,
   "metadata": {},
   "outputs": [
    {
     "data": {
      "text/html": [
       "<div>\n",
       "<style scoped>\n",
       "    .dataframe tbody tr th:only-of-type {\n",
       "        vertical-align: middle;\n",
       "    }\n",
       "\n",
       "    .dataframe tbody tr th {\n",
       "        vertical-align: top;\n",
       "    }\n",
       "\n",
       "    .dataframe thead th {\n",
       "        text-align: right;\n",
       "    }\n",
       "</style>\n",
       "<table border=\"1\" class=\"dataframe\">\n",
       "  <thead>\n",
       "    <tr style=\"text-align: right;\">\n",
       "      <th></th>\n",
       "      <th>gender</th>\n",
       "      <th>geography</th>\n",
       "      <th>credit_score</th>\n",
       "      <th>age</th>\n",
       "      <th>tenure</th>\n",
       "      <th>balance</th>\n",
       "      <th>num_of_products</th>\n",
       "      <th>has_cr_card</th>\n",
       "      <th>is_active_member</th>\n",
       "      <th>estimated_salary</th>\n",
       "      <th>exited</th>\n",
       "    </tr>\n",
       "  </thead>\n",
       "  <tbody>\n",
       "    <tr>\n",
       "      <th>0</th>\n",
       "      <td>0.0</td>\n",
       "      <td>0.0</td>\n",
       "      <td>619</td>\n",
       "      <td>42</td>\n",
       "      <td>2.0</td>\n",
       "      <td>0.00</td>\n",
       "      <td>1</td>\n",
       "      <td>1</td>\n",
       "      <td>1</td>\n",
       "      <td>101348.88</td>\n",
       "      <td>1</td>\n",
       "    </tr>\n",
       "    <tr>\n",
       "      <th>1</th>\n",
       "      <td>0.0</td>\n",
       "      <td>2.0</td>\n",
       "      <td>608</td>\n",
       "      <td>41</td>\n",
       "      <td>1.0</td>\n",
       "      <td>83807.86</td>\n",
       "      <td>1</td>\n",
       "      <td>0</td>\n",
       "      <td>1</td>\n",
       "      <td>112542.58</td>\n",
       "      <td>0</td>\n",
       "    </tr>\n",
       "    <tr>\n",
       "      <th>2</th>\n",
       "      <td>0.0</td>\n",
       "      <td>0.0</td>\n",
       "      <td>502</td>\n",
       "      <td>42</td>\n",
       "      <td>8.0</td>\n",
       "      <td>159660.80</td>\n",
       "      <td>3</td>\n",
       "      <td>1</td>\n",
       "      <td>0</td>\n",
       "      <td>113931.57</td>\n",
       "      <td>1</td>\n",
       "    </tr>\n",
       "    <tr>\n",
       "      <th>3</th>\n",
       "      <td>0.0</td>\n",
       "      <td>0.0</td>\n",
       "      <td>699</td>\n",
       "      <td>39</td>\n",
       "      <td>1.0</td>\n",
       "      <td>0.00</td>\n",
       "      <td>2</td>\n",
       "      <td>0</td>\n",
       "      <td>0</td>\n",
       "      <td>93826.63</td>\n",
       "      <td>0</td>\n",
       "    </tr>\n",
       "    <tr>\n",
       "      <th>4</th>\n",
       "      <td>0.0</td>\n",
       "      <td>2.0</td>\n",
       "      <td>850</td>\n",
       "      <td>43</td>\n",
       "      <td>2.0</td>\n",
       "      <td>125510.82</td>\n",
       "      <td>1</td>\n",
       "      <td>1</td>\n",
       "      <td>1</td>\n",
       "      <td>79084.10</td>\n",
       "      <td>0</td>\n",
       "    </tr>\n",
       "  </tbody>\n",
       "</table>\n",
       "</div>"
      ],
      "text/plain": [
       "   gender  geography  credit_score  age  tenure    balance  num_of_products  \\\n",
       "0     0.0        0.0           619   42     2.0       0.00                1   \n",
       "1     0.0        2.0           608   41     1.0   83807.86                1   \n",
       "2     0.0        0.0           502   42     8.0  159660.80                3   \n",
       "3     0.0        0.0           699   39     1.0       0.00                2   \n",
       "4     0.0        2.0           850   43     2.0  125510.82                1   \n",
       "\n",
       "   has_cr_card  is_active_member  estimated_salary  exited  \n",
       "0            1                 1         101348.88       1  \n",
       "1            0                 1         112542.58       0  \n",
       "2            1                 0         113931.57       1  \n",
       "3            0                 0          93826.63       0  \n",
       "4            1                 1          79084.10       0  "
      ]
     },
     "execution_count": 30,
     "metadata": {},
     "output_type": "execute_result"
    }
   ],
   "source": [
    "# Преобразуем категориальные признаки, используя Ordinal Encoding.\n",
    "encoder = OrdinalEncoder()\n",
    "encoder.fit(df[['gender', 'geography']])\n",
    "ord_df1 = pd.DataFrame(encoder.transform(df[['gender', 'geography']]), columns=df[['gender', 'geography']].columns)\n",
    "#print(ord_df1.head())\n",
    "ord_df2 = df.drop(['gender', 'geography'], axis=1)\n",
    "#print(ord_df2.head())\n",
    "\n",
    "\n",
    "ord_df = pd.concat([ord_df1, ord_df2],  axis=1)\n",
    "ord_df.head()"
   ]
  },
  {
   "cell_type": "code",
   "execution_count": 31,
   "metadata": {},
   "outputs": [
    {
     "data": {
      "text/plain": [
       "1.0    0.5457\n",
       "0.0    0.4543\n",
       "Name: gender, dtype: float64"
      ]
     },
     "execution_count": 31,
     "metadata": {},
     "output_type": "execute_result"
    }
   ],
   "source": [
    "ord_df['gender'].value_counts(normalize=True) "
   ]
  },
  {
   "cell_type": "code",
   "execution_count": 32,
   "metadata": {},
   "outputs": [
    {
     "data": {
      "text/plain": [
       "0.0    0.5014\n",
       "1.0    0.2509\n",
       "2.0    0.2477\n",
       "Name: geography, dtype: float64"
      ]
     },
     "execution_count": 32,
     "metadata": {},
     "output_type": "execute_result"
    }
   ],
   "source": [
    "ord_df['geography'].value_counts(normalize=True)"
   ]
  },
  {
   "cell_type": "code",
   "execution_count": 33,
   "metadata": {},
   "outputs": [
    {
     "name": "stdout",
     "output_type": "stream",
     "text": [
      "Тренировочная выборка Ordinal Encoding 6000\n",
      "Валидационная выборка Ordinal Encoding 2000\n",
      "Тестовая выборка Ordinal Encoding 2000\n"
     ]
    }
   ],
   "source": [
    "# Разбиваем данные,обработанные OE в соотношении 3:1:1 на обучающую, валидационную и тестовую выборки.\n",
    "ord_df_train, ord_df_valid_and_test = train_test_split(ord_df, test_size=0.4, random_state=12345)\n",
    "ord_df_valid, ord_df_test = train_test_split(ord_df_valid_and_test, test_size=0.5, random_state=12345)\n",
    "\n",
    "print('Тренировочная выборка Ordinal Encoding', ord_df_train.shape[0])\n",
    "print('Валидационная выборка Ordinal Encoding', ord_df_valid.shape[0])\n",
    "print('Тестовая выборка Ordinal Encoding', ord_df_test.shape[0])"
   ]
  },
  {
   "cell_type": "code",
   "execution_count": 34,
   "metadata": {},
   "outputs": [],
   "source": [
    "# Подготавливаем Ordinal Encoding данные.\n",
    "# Тренировочные Ordinal Encoding данные\n",
    "features_ord_train = ord_df_train.drop('exited', axis=1)\n",
    "target_ord_train = ord_df_train['exited']\n",
    "# Валидационные Ordinal Encoding данные\n",
    "features_ord_valid = ord_df_valid.drop('exited', axis=1)\n",
    "target_ord_valid = ord_df_valid['exited']\n",
    "# Тестовые Ordinal Encoding данные\n",
    "features_ord_test = ord_df_test.drop('exited', axis=1)\n",
    "target_ord_test = ord_df_test['exited']"
   ]
  },
  {
   "cell_type": "markdown",
   "metadata": {},
   "source": [
    "## Исследование задачи"
   ]
  },
  {
   "cell_type": "markdown",
   "metadata": {},
   "source": [
    "### Исследуем баланс классов"
   ]
  },
  {
   "cell_type": "code",
   "execution_count": 35,
   "metadata": {},
   "outputs": [
    {
     "data": {
      "text/plain": [
       "0    0.7963\n",
       "1    0.2037\n",
       "Name: exited, dtype: float64"
      ]
     },
     "execution_count": 35,
     "metadata": {},
     "output_type": "execute_result"
    }
   ],
   "source": [
    "# Исследуем баланс классов\n",
    "df['exited'].value_counts(normalize=True)"
   ]
  },
  {
   "cell_type": "markdown",
   "metadata": {},
   "source": [
    "Выявлен значительный дисбаланс по признаку `exited`, что в дальнейшем потребует коррекции.   \n",
    "Кроме того, в проведенных ранее исследованиях выявлено непропорционально большое количество клиентов с значением `0`  в признаке `balance` и большое количество клиентов с высоким рейтингом в признаке `credit_score`."
   ]
  },
  {
   "cell_type": "markdown",
   "metadata": {},
   "source": [
    "### Изучим модели без учета дисбаланса классов"
   ]
  },
  {
   "cell_type": "markdown",
   "metadata": {},
   "source": [
    "#### Исследуем модель \"Решающее дерево\"."
   ]
  },
  {
   "cell_type": "code",
   "execution_count": 36,
   "metadata": {},
   "outputs": [],
   "source": [
    "#Функция для подбора параметров методом \"Решающее дерево\"\n",
    "def dtc(X_train, Y_train, X_valid, Y_valid):\n",
    "    best_f1 = 0\n",
    "    best_depth = 0\n",
    "    con_matrix = 0\n",
    "    recall = 0\n",
    "    precision = 0\n",
    "    for depth in range(1, 31):\n",
    "        model = DecisionTreeClassifier(max_depth=depth, random_state=12345)\n",
    "        model.fit(X_train, Y_train)\n",
    "        predictions = model.predict(X_valid)\n",
    "        f1 = f1_score(Y_valid, predictions)\n",
    "        if f1 > best_f1:\n",
    "            best_model = model\n",
    "            best_f1 = f1\n",
    "            best_depth = depth\n",
    "            con_matrix = confusion_matrix(Y_valid, predictions)\n",
    "            accuracy = accuracy_score(Y_valid, predictions)\n",
    "            recall = recall_score(Y_valid, predictions)\n",
    "            precision = precision_score(Y_valid, predictions)\n",
    "            probabilities_one_test = best_model.predict_proba(X_valid)[:, 1]\n",
    "            roc_auc = roc_auc_score(Y_valid, probabilities_one_test)\n",
    "       \n",
    "    print(f'F1-мера лучшей модели на валидационной выборке: {best_f1:.3f}')\n",
    "    print(f'Глубина лучшей модели на валидационной выборке: {best_depth}')\n",
    "    print(f'Матрица ошибок: \\n{con_matrix}')\n",
    "    print(f'Доля правильных ответов: {accuracy}')\n",
    "    print(f'Полнота: {recall}')\n",
    "    print(f'Точность: {precision}')\n",
    "    print(f'Метрика AUC_ROC: {roc_auc}')\n",
    "    \n",
    "    return best_model       \n"
   ]
  },
  {
   "cell_type": "code",
   "execution_count": 37,
   "metadata": {},
   "outputs": [
    {
     "name": "stdout",
     "output_type": "stream",
     "text": [
      "F1-мера лучшей модели на валидационной выборке: 0.575\n",
      "Глубина лучшей модели на валидационной выборке: 9\n",
      "Матрица ошибок: \n",
      "[[1489   93]\n",
      " [ 212  206]]\n",
      "Доля правильных ответов: 0.8475\n",
      "Полнота: 0.49282296650717705\n",
      "Точность: 0.6889632107023411\n",
      "Метрика AUC_ROC: 0.7894116828676679\n",
      "CPU times: user 828 ms, sys: 674 µs, total: 829 ms\n",
      "Wall time: 828 ms\n"
     ]
    },
    {
     "data": {
      "text/plain": [
       "DecisionTreeClassifier(max_depth=9, random_state=12345)"
      ]
     },
     "execution_count": 37,
     "metadata": {},
     "output_type": "execute_result"
    }
   ],
   "source": [
    "%%time\n",
    "\n",
    "#Исследование выборки, обработанной OHE.\n",
    "dtc(features_ohe_train, target_ohe_train, features_ohe_valid, target_ohe_valid)\n",
    "\n"
   ]
  },
  {
   "cell_type": "code",
   "execution_count": 38,
   "metadata": {},
   "outputs": [
    {
     "name": "stdout",
     "output_type": "stream",
     "text": [
      "F1-мера лучшей модели на валидационной выборке: 0.553\n",
      "Глубина лучшей модели на валидационной выборке: 4\n",
      "Матрица ошибок: \n",
      "[[1521   61]\n",
      " [ 235  183]]\n",
      "Доля правильных ответов: 0.852\n",
      "Полнота: 0.43779904306220097\n",
      "Точность: 0.75\n",
      "Метрика AUC_ROC: 0.8203012055480615\n",
      "CPU times: user 773 ms, sys: 61 µs, total: 773 ms\n",
      "Wall time: 782 ms\n"
     ]
    },
    {
     "data": {
      "text/plain": [
       "DecisionTreeClassifier(max_depth=4, random_state=12345)"
      ]
     },
     "execution_count": 38,
     "metadata": {},
     "output_type": "execute_result"
    }
   ],
   "source": [
    "%%time\n",
    "\n",
    "#Исследование выборки, обработанной Ordinal Encoding.\n",
    "dtc(features_ord_train, target_ord_train, features_ord_valid, target_ord_valid)"
   ]
  },
  {
   "cell_type": "markdown",
   "metadata": {},
   "source": [
    "#### Исследуем модель\"Случайный лес\""
   ]
  },
  {
   "cell_type": "code",
   "execution_count": 39,
   "metadata": {},
   "outputs": [],
   "source": [
    "#Функция для подбора параметров методом \"Случайный лес\"\n",
    "def rfc(X_train, Y_train, X_valid, Y_valid):  \n",
    "    best_f1 = 0\n",
    "    best_est = 0\n",
    "    best_depth = 0\n",
    "    con_matrix = 0\n",
    "    recall = 0\n",
    "    precision = 0\n",
    "    for est in range(20, 300, 10):\n",
    "        for depth in range(1, 30):\n",
    "            model =  RandomForestClassifier(n_estimators=est, max_depth = depth, random_state=12345)\n",
    "            model.fit(X_train, Y_train)\n",
    "            predictions = model.predict(X_valid)\n",
    "            f1 = f1_score(Y_valid, predictions)\n",
    "            if f1 > best_f1:\n",
    "                best_model = model\n",
    "                best_f1 = f1\n",
    "                best_est = est\n",
    "                best_depth = depth\n",
    "                con_matrix = confusion_matrix(Y_valid, predictions)\n",
    "                accuracy = accuracy_score(Y_valid, predictions)\n",
    "                recall = recall_score(Y_valid, predictions)\n",
    "                precision = precision_score(Y_valid, predictions)\n",
    "                probabilities_one_test = best_model.predict_proba(X_valid)[:, 1]\n",
    "                roc_auc = roc_auc_score(Y_valid, probabilities_one_test)\n",
    "       \n",
    "    print(f'F1-мера лучшей модели на валидационной выборке: {best_f1:.3f}')\n",
    "    print(f'Число деревьев лучшей модели на валидационной выборке: {best_est}')\n",
    "    print(f'Глубина деревьев лучшей модели на валидационной выборке: {best_depth}')\n",
    "    print(f'Матрица ошибок: \\n{con_matrix}')\n",
    "    print(f'Доля правильных ответов: {accuracy}')\n",
    "    print(f'Полнота: {recall}')\n",
    "    print(f'Точность: {precision}')\n",
    "    print(f'Метрика AUC_ROC: {roc_auc}')\n",
    "    \n",
    "    return best_model       "
   ]
  },
  {
   "cell_type": "code",
   "execution_count": 40,
   "metadata": {},
   "outputs": [
    {
     "name": "stdout",
     "output_type": "stream",
     "text": [
      "F1-мера лучшей модели на валидационной выборке: 0.598\n",
      "Число деревьев лучшей модели на валидационной выборке: 150\n",
      "Глубина деревьев лучшей модели на валидационной выборке: 14\n",
      "Матрица ошибок: \n",
      "[[1534   48]\n",
      " [ 219  199]]\n",
      "Доля правильных ответов: 0.8665\n",
      "Полнота: 0.47607655502392343\n",
      "Точность: 0.805668016194332\n",
      "Метрика AUC_ROC: 0.8430806501370078\n",
      "CPU times: user 11min 56s, sys: 2.4 s, total: 11min 58s\n",
      "Wall time: 11min 59s\n"
     ]
    },
    {
     "data": {
      "text/plain": [
       "RandomForestClassifier(max_depth=14, n_estimators=150, random_state=12345)"
      ]
     },
     "execution_count": 40,
     "metadata": {},
     "output_type": "execute_result"
    }
   ],
   "source": [
    "%%time\n",
    "\n",
    "#Исследование выборки, обработанной OHE.\n",
    "rfc(features_ohe_train, target_ohe_train, features_ohe_valid, target_ohe_valid)"
   ]
  },
  {
   "cell_type": "code",
   "execution_count": 41,
   "metadata": {},
   "outputs": [
    {
     "name": "stdout",
     "output_type": "stream",
     "text": [
      "F1-мера лучшей модели на валидационной выборке: 0.589\n",
      "Число деревьев лучшей модели на валидационной выборке: 80\n",
      "Глубина деревьев лучшей модели на валидационной выборке: 20\n",
      "Матрица ошибок: \n",
      "[[1523   59]\n",
      " [ 219  199]]\n",
      "Доля правильных ответов: 0.861\n",
      "Полнота: 0.47607655502392343\n",
      "Точность: 0.7713178294573644\n",
      "Метрика AUC_ROC: 0.8376154585982252\n",
      "CPU times: user 12min 12s, sys: 2.02 s, total: 12min 14s\n",
      "Wall time: 12min 14s\n"
     ]
    },
    {
     "data": {
      "text/plain": [
       "RandomForestClassifier(max_depth=20, n_estimators=80, random_state=12345)"
      ]
     },
     "execution_count": 41,
     "metadata": {},
     "output_type": "execute_result"
    }
   ],
   "source": [
    "%%time\n",
    "\n",
    "#Исследование выборки, обработанной Ordinal Encoding.\n",
    "rfc(features_ord_train, target_ord_train, features_ord_valid, target_ord_valid)"
   ]
  },
  {
   "cell_type": "code",
   "execution_count": 42,
   "metadata": {},
   "outputs": [],
   "source": [
    "#Попытаемся более детально исследовать наилучшее число  и глубину деревьев OHE-выборки.\n",
    "def rfc2(X_train, Y_train, X_valid, Y_valid):  \n",
    "    best_f1 = 0\n",
    "    best_est = 0\n",
    "    best_depth = 0\n",
    "    con_matrix = 0\n",
    "    recall = 0\n",
    "    precision = 0\n",
    "    for est in range(130, 170, 1):\n",
    "        for depth in range(10, 20):\n",
    "            model =  RandomForestClassifier(n_estimators=est, max_depth = depth, random_state=12345)\n",
    "            model.fit(X_train, Y_train)\n",
    "            predictions = model.predict(X_valid)\n",
    "            f1 = f1_score(Y_valid, predictions)\n",
    "            if f1 > best_f1:\n",
    "                best_model = model\n",
    "                best_f1 = f1\n",
    "                best_est = est\n",
    "                best_depth = depth\n",
    "                con_matrix = confusion_matrix(Y_valid, predictions)\n",
    "                accuracy = accuracy_score(Y_valid, predictions)\n",
    "                recall = recall_score(Y_valid, predictions)\n",
    "                precision = precision_score(Y_valid, predictions)\n",
    "                probabilities_one_test = best_model.predict_proba(X_valid)[:, 1]\n",
    "                roc_auc = roc_auc_score(Y_valid, probabilities_one_test)\n",
    "       \n",
    "    print(f'F1-мера лучшей модели на валидационной выборке: {best_f1:.3f}')\n",
    "    print(f'Число деревьев лучшей модели на валидационной выборке: {best_est}')\n",
    "    print(f'Глубина деревьев лучшей модели на валидационной выборке: {best_depth}')\n",
    "    print(f'Матрица ошибок: \\n{con_matrix}')\n",
    "    print(f'Доля правильных ответов: {accuracy}')\n",
    "    print(f'Полнота: {recall}')\n",
    "    print(f'Точность: {precision}')\n",
    "    print(f'Метрика AUC_ROC: {roc_auc}')\n",
    "    \n",
    "    return best_model       "
   ]
  },
  {
   "cell_type": "code",
   "execution_count": 43,
   "metadata": {},
   "outputs": [
    {
     "name": "stdout",
     "output_type": "stream",
     "text": [
      "F1-мера лучшей модели на валидационной выборке: 0.599\n",
      "Число деревьев лучшей модели на валидационной выборке: 144\n",
      "Глубина деревьев лучшей модели на валидационной выборке: 14\n",
      "Матрица ошибок: \n",
      "[[1535   47]\n",
      " [ 219  199]]\n",
      "Доля правильных ответов: 0.867\n",
      "Полнота: 0.47607655502392343\n",
      "Точность: 0.8089430894308943\n",
      "Метрика AUC_ROC: 0.8436734434638486\n",
      "CPU times: user 6min 9s, sys: 1.1 s, total: 6min 10s\n",
      "Wall time: 6min 10s\n"
     ]
    },
    {
     "data": {
      "text/plain": [
       "RandomForestClassifier(max_depth=14, n_estimators=144, random_state=12345)"
      ]
     },
     "execution_count": 43,
     "metadata": {},
     "output_type": "execute_result"
    }
   ],
   "source": [
    "%%time\n",
    "\n",
    "#Исследование выборки, обработанной OHE № 2.\n",
    "rfc2(features_ohe_train, target_ohe_train, features_ohe_valid, target_ohe_valid)"
   ]
  },
  {
   "cell_type": "code",
   "execution_count": 44,
   "metadata": {},
   "outputs": [],
   "source": [
    "#Попытаемся более детально исследовать наилучшее число  и глубину деревьев Ordinal Encoding-выборки\n",
    "def rfc3(X_train, Y_train, X_valid, Y_valid):  \n",
    "    best_f1 = 0\n",
    "    best_est = 0\n",
    "    best_depth = 0\n",
    "    con_matrix = 0\n",
    "    recall = 0\n",
    "    precision = 0\n",
    "    for est in range(60, 100, 1):\n",
    "        for depth in range(10, 30):\n",
    "            model =  RandomForestClassifier(n_estimators=est, max_depth = depth, random_state=12345)\n",
    "            model.fit(X_train, Y_train)\n",
    "            predictions = model.predict(X_valid)\n",
    "            f1 = f1_score(Y_valid, predictions)\n",
    "            if f1 > best_f1:\n",
    "                best_model = model\n",
    "                best_f1 = f1\n",
    "                best_est = est\n",
    "                best_depth = depth\n",
    "                con_matrix = confusion_matrix(Y_valid, predictions)\n",
    "                accuracy = accuracy_score(Y_valid, predictions)\n",
    "                recall = recall_score(Y_valid, predictions)\n",
    "                precision = precision_score(Y_valid, predictions)\n",
    "                probabilities_one_test = best_model.predict_proba(X_valid)[:, 1]\n",
    "                roc_auc = roc_auc_score(Y_valid, probabilities_one_test)\n",
    "       \n",
    "    print(f'F1-мера лучшей модели на валидационной выборке: {best_f1:.3f}')\n",
    "    print(f'Число деревьев лучшей модели на валидационной выборке: {best_est}')\n",
    "    print(f'Глубина деревьев лучшей модели на валидационной выборке: {best_depth}')\n",
    "    print(f'Матрица ошибок: \\n{con_matrix}')\n",
    "    print(f'Доля правильных ответов: {accuracy}')\n",
    "    print(f'Полнота: {recall}')\n",
    "    print(f'Точность: {precision}')\n",
    "    print(f'Метрика AUC_ROC: {roc_auc}')\n",
    "    \n",
    "    return best_model       "
   ]
  },
  {
   "cell_type": "code",
   "execution_count": 45,
   "metadata": {},
   "outputs": [
    {
     "name": "stdout",
     "output_type": "stream",
     "text": [
      "F1-мера лучшей модели на валидационной выборке: 0.590\n",
      "Число деревьев лучшей модели на валидационной выборке: 76\n",
      "Глубина деревьев лучшей модели на валидационной выборке: 20\n",
      "Матрица ошибок: \n",
      "[[1524   58]\n",
      " [ 219  199]]\n",
      "Доля правильных ответов: 0.8615\n",
      "Полнота: 0.47607655502392343\n",
      "Точность: 0.77431906614786\n",
      "Метрика AUC_ROC: 0.8358060779462736\n",
      "CPU times: user 7min 4s, sys: 1.17 s, total: 7min 5s\n",
      "Wall time: 7min 6s\n"
     ]
    },
    {
     "data": {
      "text/plain": [
       "RandomForestClassifier(max_depth=20, n_estimators=76, random_state=12345)"
      ]
     },
     "execution_count": 45,
     "metadata": {},
     "output_type": "execute_result"
    }
   ],
   "source": [
    "%%time\n",
    "\n",
    "#Исследование выборки, обработанной Ordinal Encoding № 2.\n",
    "rfc3(features_ord_train, target_ord_train, features_ord_valid, target_ord_valid)"
   ]
  },
  {
   "cell_type": "markdown",
   "metadata": {},
   "source": [
    "#### Исследуем модель \"Логистическая регрессия\""
   ]
  },
  {
   "cell_type": "code",
   "execution_count": 46,
   "metadata": {},
   "outputs": [],
   "source": [
    "#Функция для подбора параметров метода \"Логистическая регрессия\"\n",
    "def lr(X_train, Y_train, X_valid, Y_valid):  \n",
    "    best_f1 = 0\n",
    "    best_iter = 0\n",
    "    con_matrix = 0\n",
    "    recall = 0\n",
    "    precision = 0\n",
    "    for iter in range(1, 101):\n",
    "        model =  LogisticRegression(max_iter=iter, random_state=12345, solver='lbfgs')\n",
    "        model.fit(X_train, Y_train)\n",
    "        predictions = model.predict(X_valid)\n",
    "        f1 = f1_score(Y_valid, predictions)\n",
    "        if f1 > best_f1:\n",
    "            best_model = model\n",
    "            best_f1 = f1\n",
    "            best_iter = iter\n",
    "            con_matrix = confusion_matrix(Y_valid, predictions)\n",
    "            accuracy = accuracy_score(Y_valid, predictions)\n",
    "            recall = recall_score(Y_valid, predictions)\n",
    "            precision = precision_score(Y_valid, predictions)\n",
    "            probabilities_one_test = best_model.predict_proba(X_valid)[:, 1]\n",
    "            roc_auc = roc_auc_score(Y_valid, probabilities_one_test)\n",
    "       \n",
    "    print(f'F1-мера лучшей модели на валидационной выборке: {best_f1:.3f}')\n",
    "    print(f'Число итераций лучшей модели на валидационной выборке: {best_iter}')\n",
    "    print(f'Матрица ошибок: \\n{con_matrix}')\n",
    "    print(f'Доля правильных ответов: {accuracy}')\n",
    "    print(f'Полнота: {recall}')\n",
    "    print(f'Точность: {precision}')\n",
    "    print(f'Метрика AUC_ROC: {roc_auc}')\n",
    "    \n",
    "    return best_model       "
   ]
  },
  {
   "cell_type": "code",
   "execution_count": 47,
   "metadata": {},
   "outputs": [
    {
     "name": "stdout",
     "output_type": "stream",
     "text": [
      "F1-мера лучшей модели на валидационной выборке: 0.094\n",
      "Число итераций лучшей модели на валидационной выборке: 43\n",
      "Матрица ошибок: \n",
      "[[1536   46]\n",
      " [ 395   23]]\n",
      "Доля правильных ответов: 0.7795\n",
      "Полнота: 0.05502392344497608\n",
      "Точность: 0.3333333333333333\n",
      "Метрика AUC_ROC: 0.6748936903804161\n",
      "CPU times: user 20.9 s, sys: 32.7 s, total: 53.6 s\n",
      "Wall time: 53.6 s\n"
     ]
    },
    {
     "data": {
      "text/plain": [
       "LogisticRegression(max_iter=43, random_state=12345)"
      ]
     },
     "execution_count": 47,
     "metadata": {},
     "output_type": "execute_result"
    }
   ],
   "source": [
    "%%time\n",
    "\n",
    "#Исследование выборки, обработанной OHE.\n",
    "lr(features_ohe_train, target_ohe_train, features_ohe_valid, target_ohe_valid)"
   ]
  },
  {
   "cell_type": "code",
   "execution_count": 48,
   "metadata": {},
   "outputs": [
    {
     "name": "stdout",
     "output_type": "stream",
     "text": [
      "F1-мера лучшей модели на валидационной выборке: 0.094\n",
      "Число итераций лучшей модели на валидационной выборке: 43\n",
      "Матрица ошибок: \n",
      "[[1536   46]\n",
      " [ 395   23]]\n",
      "Доля правильных ответов: 0.7795\n",
      "Полнота: 0.05502392344497608\n",
      "Точность: 0.3333333333333333\n",
      "Метрика AUC_ROC: 0.6748679825065479\n",
      "CPU times: user 20.7 s, sys: 32.8 s, total: 53.5 s\n",
      "Wall time: 53.7 s\n"
     ]
    },
    {
     "data": {
      "text/plain": [
       "LogisticRegression(max_iter=43, random_state=12345)"
      ]
     },
     "execution_count": 48,
     "metadata": {},
     "output_type": "execute_result"
    }
   ],
   "source": [
    "%%time\n",
    "\n",
    "#Исследование выборки, обработанной Ordinal Encoding.\n",
    "lr(features_ord_train, target_ord_train, features_ord_valid, target_ord_valid)"
   ]
  },
  {
   "cell_type": "markdown",
   "metadata": {},
   "source": [
    "### Выводы"
   ]
  },
  {
   "cell_type": "markdown",
   "metadata": {},
   "source": [
    "Наилучшие результаты по показателю F1 (0,601) продемонстрировала модель \"Случайный лес\" с параметрами: число решающих деревьев 40, глубина деревьев 16, выборка обработана методом One-Hot-Encoding. Разрыв с выборкой, обработанной Ordinal Encoding, с числом деревьеd 109 и глубиной деревьев 17 небольшой (0,586) и лучше результатов, продемонстрированных моделью \"Решающее дерево\" (0,579 и 0,553).  \n",
    "Наихудший результат показал метод \"Логистическая регрессия\"."
   ]
  },
  {
   "cell_type": "markdown",
   "metadata": {},
   "source": [
    "## Борьба с дисбалансом"
   ]
  },
  {
   "cell_type": "markdown",
   "metadata": {},
   "source": [
    "### Метод \"взвешенные классы\"."
   ]
  },
  {
   "cell_type": "markdown",
   "metadata": {},
   "source": [
    "#### Исследуем алгоритм \"дерево решений\" на выборках, давших лучший результат."
   ]
  },
  {
   "cell_type": "code",
   "execution_count": 49,
   "metadata": {},
   "outputs": [],
   "source": [
    "def dtc(X_train, Y_train, X_valid, Y_valid):\n",
    "    best_f1 = 0\n",
    "    best_depth = 0\n",
    "    con_matrix = 0\n",
    "    recall = 0\n",
    "    precision = 0\n",
    "    for depth in range(1, 31):\n",
    "        model = DecisionTreeClassifier(max_depth=depth, random_state=12345, class_weight='balanced')\n",
    "        model.fit(X_train, Y_train)\n",
    "        predictions = model.predict(X_valid)\n",
    "        f1 = f1_score(Y_valid, predictions)\n",
    "        if f1 > best_f1:\n",
    "            best_model = model\n",
    "            best_f1 = f1\n",
    "            best_depth = depth\n",
    "            con_matrix = confusion_matrix(Y_valid, predictions)\n",
    "            accuracy = accuracy_score(Y_valid, predictions)\n",
    "            recall = recall_score(Y_valid, predictions)\n",
    "            precision = precision_score(Y_valid, predictions)\n",
    "            probabilities_one_test = best_model.predict_proba(X_valid)[:, 1]\n",
    "            roc_auc = roc_auc_score(Y_valid, probabilities_one_test)\n",
    "       \n",
    "    print(f'F1-мера лучшей модели на валидационной выборке: {best_f1:.3f}')\n",
    "    print(f'Глубина лучшей модели на валидационной выборке: {best_depth}')\n",
    "    print(f'Матрица ошибок: \\n{con_matrix}')\n",
    "    print(f'Доля правильных ответов: {accuracy}')\n",
    "    print(f'Полнота: {recall}')\n",
    "    print(f'Точность: {precision}')\n",
    "    print(f'Метрика AUC_ROC: {roc_auc}')\n",
    "    \n",
    "    return best_model       "
   ]
  },
  {
   "cell_type": "code",
   "execution_count": 50,
   "metadata": {},
   "outputs": [
    {
     "name": "stdout",
     "output_type": "stream",
     "text": [
      "F1-мера лучшей модели на валидационной выборке: 0.596\n",
      "Глубина лучшей модели на валидационной выборке: 5\n",
      "Матрица ошибок: \n",
      "[[1341  241]\n",
      " [ 138  280]]\n",
      "Доля правильных ответов: 0.8105\n",
      "Полнота: 0.6698564593301436\n",
      "Точность: 0.5374280230326296\n",
      "Метрика AUC_ROC: 0.8310244134068074\n",
      "CPU times: user 852 ms, sys: 12 µs, total: 852 ms\n",
      "Wall time: 863 ms\n"
     ]
    },
    {
     "data": {
      "text/plain": [
       "DecisionTreeClassifier(class_weight='balanced', max_depth=5, random_state=12345)"
      ]
     },
     "execution_count": 50,
     "metadata": {},
     "output_type": "execute_result"
    }
   ],
   "source": [
    "%%time\n",
    "\n",
    "#Исследование выборки, обработанной OHE.\n",
    "dtc(features_ohe_train, target_ohe_train, features_ohe_valid, target_ohe_valid)"
   ]
  },
  {
   "cell_type": "markdown",
   "metadata": {},
   "source": [
    "Удалось незначительно улучшить результат метода \"решающее дерево\" (0,596 против 0,579)"
   ]
  },
  {
   "cell_type": "markdown",
   "metadata": {},
   "source": [
    "#### Исследуем алгоритм \"случайный лес\" на выборках и с параметрами, давшими лучший результат."
   ]
  },
  {
   "cell_type": "code",
   "execution_count": 51,
   "metadata": {},
   "outputs": [
    {
     "name": "stdout",
     "output_type": "stream",
     "text": [
      "F1-мера на валидационной выборке: 0.597\n",
      "Матрица ошибок: \n",
      "[[1513   69]\n",
      " [ 211  207]]\n",
      "Доля правильных ответов: 0.86\n",
      "Полнота: 0.49521531100478466\n",
      "Точность: 0.75\n",
      "Метрика AUC_ROC: 0.8470699072701868\n"
     ]
    }
   ],
   "source": [
    "model =  RandomForestClassifier(n_estimators=144, max_depth = 14, random_state=12345, class_weight='balanced')\n",
    "model.fit(features_ohe_train, target_ohe_train)\n",
    "predictions = model.predict(features_ohe_valid)\n",
    "f1 = f1_score(target_ohe_valid, predictions)\n",
    "con_matrix = confusion_matrix(target_ohe_valid, predictions)\n",
    "accuracy = accuracy_score(target_ohe_valid, predictions)\n",
    "recall = recall_score(target_ohe_valid, predictions)\n",
    "precision = precision_score(target_ohe_valid, predictions)\n",
    "probabilities_one_test = model.predict_proba(features_ohe_valid)[:, 1]\n",
    "roc_auc = roc_auc_score(target_ohe_valid, probabilities_one_test)            \n",
    "\n",
    "print(f'F1-мера на валидационной выборке: {f1:.3f}')\n",
    "print(f'Матрица ошибок: \\n{con_matrix}')\n",
    "print(f'Доля правильных ответов: {accuracy}')\n",
    "print(f'Полнота: {recall}')\n",
    "print(f'Точность: {precision}')\n",
    "print(f'Метрика AUC_ROC: {roc_auc}')"
   ]
  },
  {
   "cell_type": "markdown",
   "metadata": {},
   "source": [
    "#### Исследуем алгоритм \"логистическая регрессия\" на выборке и с параметрами, давшими лучший результат."
   ]
  },
  {
   "cell_type": "code",
   "execution_count": 52,
   "metadata": {},
   "outputs": [
    {
     "name": "stdout",
     "output_type": "stream",
     "text": [
      "F1-мера на валидационной выборке: 0.447\n",
      "Матрица ошибок: \n",
      "[[1024  558]\n",
      " [ 137  281]]\n",
      "Доля правильных ответов: 0.6525\n",
      "Полнота: 0.6722488038277512\n",
      "Точность: 0.33492252681764006\n",
      "Метрика AUC_ROC: 0.7131636412027655\n"
     ]
    }
   ],
   "source": [
    "model =  LogisticRegression(max_iter=43, random_state=12345, solver='lbfgs', class_weight='balanced')\n",
    "model.fit(features_ord_train, target_ord_train)\n",
    "predictions = model.predict(features_ord_valid)\n",
    "f1 = f1_score(target_ord_valid, predictions)\n",
    "con_matrix = confusion_matrix(target_ord_valid, predictions)\n",
    "accuracy = accuracy_score(target_ord_valid, predictions)\n",
    "recall = recall_score(target_ord_valid, predictions)\n",
    "precision = precision_score(target_ord_valid, predictions)\n",
    "probabilities_one_test = model.predict_proba(features_ord_valid)[:, 1]\n",
    "roc_auc = roc_auc_score(target_ord_valid, probabilities_one_test) \n",
    "\n",
    "print(f'F1-мера на валидационной выборке: {f1:.3f}')\n",
    "print(f'Матрица ошибок: \\n{con_matrix}')\n",
    "print(f'Доля правильных ответов: {accuracy}')\n",
    "print(f'Полнота: {recall}')\n",
    "print(f'Точность: {precision}')\n",
    "print(f'Метрика AUC_ROC: {roc_auc}')"
   ]
  },
  {
   "cell_type": "markdown",
   "metadata": {},
   "source": [
    "F1 снизилась у случайного леса (0,575 против 0,601), незначительно выросла у решающего дерева (0,596 против 0,579), но заметно выросла у логистической регресии(0,451 против 0,299).    \n",
    "Лучшие результаты показала модель \"решающее дерево\" на выборке, обработанной OHE, с глубиной дерева 5."
   ]
  },
  {
   "cell_type": "markdown",
   "metadata": {},
   "source": [
    "### Метод \"увеличение выборки\"."
   ]
  },
  {
   "cell_type": "code",
   "execution_count": 53,
   "metadata": {},
   "outputs": [
    {
     "name": "stdout",
     "output_type": "stream",
     "text": [
      "OHE-выборка    exited\n",
      "0    4804\n",
      "1    4784\n",
      "Ordinal Encoding - выборка    exited\n",
      "0    4804\n",
      "1    4784\n"
     ]
    }
   ],
   "source": [
    "def upsample(features, target, repeat):\n",
    "    features_zeros = features[target == 0]\n",
    "    features_ones = features[target == 1]\n",
    "    target_zeros = target[target == 0]\n",
    "    target_ones = target[target == 1] \n",
    "    \n",
    "    features_upsampled = pd.concat([features_zeros] + [features_ones] * repeat)\n",
    "    target_upsampled = pd.concat([target_zeros] + [target_ones] * repeat)\n",
    "    \n",
    "    features_upsampled, target_upsampled = shuffle(features_upsampled, target_upsampled, random_state=12345)\n",
    "    \n",
    "    return features_upsampled, target_upsampled\n",
    "\n",
    "features_ohe_upsampled, target_ohe_upsampled = upsample(features_ohe_train, target_ohe_train, 4)\n",
    "features_ord_upsampled, target_ord_upsampled = upsample(features_ord_train, target_ord_train, 4)\n",
    "\n",
    "print('OHE-выборка', target_ohe_upsampled.value_counts().to_frame())\n",
    "\n",
    "print('Ordinal Encoding - выборка',target_ord_upsampled.value_counts().to_frame())"
   ]
  },
  {
   "cell_type": "markdown",
   "metadata": {},
   "source": [
    "#### Исследуем алгоритм \"дерево решений\"."
   ]
  },
  {
   "cell_type": "code",
   "execution_count": 54,
   "metadata": {},
   "outputs": [],
   "source": [
    "def dtc(X_train, Y_train, X_valid, Y_valid):\n",
    "    best_f1 = 0\n",
    "    best_depth = 0\n",
    "    con_matrix = 0\n",
    "    recall = 0\n",
    "    precision = 0\n",
    "    for depth in range(1, 31):\n",
    "        model = DecisionTreeClassifier(max_depth=depth, random_state=12345)\n",
    "        model.fit(X_train, Y_train)\n",
    "        predictions = model.predict(X_valid)\n",
    "        f1 = f1_score(Y_valid, predictions)\n",
    "        if f1 > best_f1:\n",
    "            best_model = model\n",
    "            best_f1 = f1\n",
    "            best_depth = depth\n",
    "            con_matrix = confusion_matrix(Y_valid, predictions)\n",
    "            accuracy = accuracy_score(Y_valid, predictions)\n",
    "            recall = recall_score(Y_valid, predictions)\n",
    "            precision = precision_score(Y_valid, predictions)\n",
    "            probabilities_one_test = best_model.predict_proba(X_valid)[:, 1]\n",
    "            roc_auc = roc_auc_score(Y_valid, probabilities_one_test)\n",
    "       \n",
    "    print(f'F1-мера лучшей модели на валидационной выборке: {best_f1:.3f}')\n",
    "    print(f'Глубина лучшей модели на валидационной выборке: {best_depth}')\n",
    "    print(f'Матрица ошибок: \\n{con_matrix}')\n",
    "    print(f'Доля правильных ответов: {accuracy}')\n",
    "    print(f'Полнота: {recall}')\n",
    "    print(f'Точность: {precision}')\n",
    "    print(f'Метрика AUC_ROC: {roc_auc}')\n",
    "    \n",
    "    return best_model       "
   ]
  },
  {
   "cell_type": "code",
   "execution_count": 55,
   "metadata": {},
   "outputs": [
    {
     "name": "stdout",
     "output_type": "stream",
     "text": [
      "F1-мера лучшей модели на валидационной выборке: 0.596\n",
      "Глубина лучшей модели на валидационной выборке: 5\n",
      "Матрица ошибок: \n",
      "[[1341  241]\n",
      " [ 138  280]]\n",
      "Доля правильных ответов: 0.8105\n",
      "Полнота: 0.6698564593301436\n",
      "Точность: 0.5374280230326296\n",
      "Метрика AUC_ROC: 0.8310244134068074\n",
      "CPU times: user 923 ms, sys: 7.95 ms, total: 931 ms\n",
      "Wall time: 930 ms\n"
     ]
    },
    {
     "data": {
      "text/plain": [
       "DecisionTreeClassifier(max_depth=5, random_state=12345)"
      ]
     },
     "execution_count": 55,
     "metadata": {},
     "output_type": "execute_result"
    }
   ],
   "source": [
    "%%time\n",
    "\n",
    "#Исследование выборки, обработанной OHE.\n",
    "dtc(features_ohe_upsampled, target_ohe_upsampled, features_ohe_valid, target_ohe_valid)"
   ]
  },
  {
   "cell_type": "code",
   "execution_count": 56,
   "metadata": {},
   "outputs": [
    {
     "name": "stdout",
     "output_type": "stream",
     "text": [
      "F1-мера лучшей модели на валидационной выборке: 0.589\n",
      "Глубина лучшей модели на валидационной выборке: 5\n",
      "Матрица ошибок: \n",
      "[[1342  240]\n",
      " [ 143  275]]\n",
      "Доля правильных ответов: 0.8085\n",
      "Полнота: 0.6578947368421053\n",
      "Точность: 0.5339805825242718\n",
      "Метрика AUC_ROC: 0.8197447056902112\n",
      "CPU times: user 897 ms, sys: 8.14 ms, total: 905 ms\n",
      "Wall time: 907 ms\n"
     ]
    },
    {
     "data": {
      "text/plain": [
       "DecisionTreeClassifier(max_depth=5, random_state=12345)"
      ]
     },
     "execution_count": 56,
     "metadata": {},
     "output_type": "execute_result"
    }
   ],
   "source": [
    "%%time\n",
    "\n",
    "#Исследование выборки, обработанной Ordinal EncodingE.\n",
    "dtc(features_ord_upsampled, target_ord_upsampled, features_ord_valid, target_ord_valid)"
   ]
  },
  {
   "cell_type": "markdown",
   "metadata": {},
   "source": [
    "Результаты модели \"решающее дерево\" улучшить не удалось."
   ]
  },
  {
   "cell_type": "markdown",
   "metadata": {},
   "source": [
    "#### Исследуем модель \"случайный лес\" c параметрами, давшими лучший результат."
   ]
  },
  {
   "cell_type": "code",
   "execution_count": 57,
   "metadata": {},
   "outputs": [
    {
     "name": "stdout",
     "output_type": "stream",
     "text": [
      "F1-мера  OHE на валидационной выборке: 0.622\n",
      "Матрица ошибок: \n",
      "[[1451  131]\n",
      " [ 170  248]]\n",
      "Доля правильных ответов: 0.8495\n",
      "Полнота: 0.5933014354066986\n",
      "Точность: 0.6543535620052771\n",
      "Метрика AUC_ROC: 0.8455017269642329\n"
     ]
    }
   ],
   "source": [
    "# Исследуем OHE-выборку\n",
    "model =  RandomForestClassifier(n_estimators=144, max_depth = 14, random_state=12345)\n",
    "model.fit(features_ohe_upsampled, target_ohe_upsampled)\n",
    "predictions = model.predict(features_ohe_valid)\n",
    "f1 = f1_score(target_ohe_valid, predictions)\n",
    "con_matrix = confusion_matrix(target_ohe_valid, predictions)\n",
    "accuracy = accuracy_score(target_ohe_valid, predictions)\n",
    "recall = recall_score(target_ohe_valid, predictions)\n",
    "precision = precision_score(target_ohe_valid, predictions)\n",
    "probabilities_one_test = model.predict_proba(features_ohe_valid)[:, 1]\n",
    "roc_auc = roc_auc_score(target_ohe_valid, probabilities_one_test)            \n",
    "\n",
    "print(f'F1-мера  OHE на валидационной выборке: {f1:.3f}')\n",
    "print(f'Матрица ошибок: \\n{con_matrix}')\n",
    "print(f'Доля правильных ответов: {accuracy}')\n",
    "print(f'Полнота: {recall}')\n",
    "print(f'Точность: {precision}')\n",
    "print(f'Метрика AUC_ROC: {roc_auc}')"
   ]
  },
  {
   "cell_type": "code",
   "execution_count": 58,
   "metadata": {},
   "outputs": [
    {
     "name": "stdout",
     "output_type": "stream",
     "text": [
      "F1-мера  Ordinal Encoding на валидационной выборке: 0.607\n",
      "Матрица ошибок: \n",
      "[[1474  108]\n",
      " [ 189  229]]\n",
      "Доля правильных ответов: 0.8515\n",
      "Полнота: 0.5478468899521531\n",
      "Точность: 0.6795252225519288\n",
      "Метрика AUC_ROC: 0.836458604274161\n"
     ]
    }
   ],
   "source": [
    "# Исследуем Ordinal Encoding-выборку\n",
    "model =  RandomForestClassifier(n_estimators=76, max_depth = 20, random_state=12345)\n",
    "model.fit(features_ord_upsampled, target_ord_upsampled)\n",
    "predictions = model.predict(features_ord_valid)\n",
    "f1 = f1_score(target_ord_valid, predictions)\n",
    "con_matrix = confusion_matrix(target_ord_valid, predictions)\n",
    "accuracy = accuracy_score(target_ord_valid, predictions)\n",
    "recall = recall_score(target_ord_valid, predictions)\n",
    "precision = precision_score(target_ord_valid, predictions)\n",
    "probabilities_one_test = model.predict_proba(features_ord_valid)[:, 1]\n",
    "roc_auc = roc_auc_score(target_ord_valid, probabilities_one_test)            \n",
    "            \n",
    "\n",
    "print(f'F1-мера  Ordinal Encoding на валидационной выборке: {f1:.3f}')\n",
    "print(f'Матрица ошибок: \\n{con_matrix}')\n",
    "print(f'Доля правильных ответов: {accuracy}')\n",
    "print(f'Полнота: {recall}')\n",
    "print(f'Точность: {precision}')\n",
    "print(f'Метрика AUC_ROC: {roc_auc}')"
   ]
  },
  {
   "cell_type": "markdown",
   "metadata": {},
   "source": [
    "Результаты модели \"случайный лес\" удалось незначительно улучшить (0,608 против 0,601)."
   ]
  },
  {
   "cell_type": "markdown",
   "metadata": {},
   "source": [
    "#### Исследуем модель \"логистическая регрессия\" на выборке и с параметрами, давшими лучший результат."
   ]
  },
  {
   "cell_type": "code",
   "execution_count": 59,
   "metadata": {},
   "outputs": [
    {
     "name": "stdout",
     "output_type": "stream",
     "text": [
      "F1-мера на валидационной выборке: 0.447\n",
      "Матрица ошибок: \n",
      "[[1027  555]\n",
      " [ 138  280]]\n",
      "Доля правильных ответов: 0.6535\n",
      "Полнота: 0.6698564593301436\n",
      "Точность: 0.33532934131736525\n",
      "Метрика AUC_ROC: 0.7130381262891743\n"
     ]
    }
   ],
   "source": [
    "model =  LogisticRegression(max_iter=43, random_state=12345, solver='lbfgs')\n",
    "model.fit(features_ord_upsampled, target_ord_upsampled)\n",
    "predictions = model.predict(features_ord_valid)\n",
    "f1 = f1_score(target_ord_valid, predictions)\n",
    "con_matrix = confusion_matrix(target_ord_valid, predictions)\n",
    "accuracy = accuracy_score(target_ord_valid, predictions)\n",
    "recall = recall_score(target_ord_valid, predictions)\n",
    "precision = precision_score(target_ord_valid, predictions)\n",
    "probabilities_one_test = model.predict_proba(features_ord_valid)[:, 1]\n",
    "roc_auc = roc_auc_score(target_ord_valid, probabilities_one_test) \n",
    "\n",
    "print(f'F1-мера на валидационной выборке: {f1:.3f}')\n",
    "print(f'Матрица ошибок: \\n{con_matrix}')\n",
    "print(f'Доля правильных ответов: {accuracy}')\n",
    "print(f'Полнота: {recall}')\n",
    "print(f'Точность: {precision}')\n",
    "print(f'Метрика AUC_ROC: {roc_auc}')"
   ]
  },
  {
   "cell_type": "markdown",
   "metadata": {},
   "source": [
    "Результаты модели \"логистическая регрессия\" улучшить не удалось (0,451 против 0,446)."
   ]
  },
  {
   "cell_type": "markdown",
   "metadata": {},
   "source": [
    "### Метод \"уменьшение выборки\"."
   ]
  },
  {
   "cell_type": "code",
   "execution_count": 60,
   "metadata": {},
   "outputs": [
    {
     "name": "stdout",
     "output_type": "stream",
     "text": [
      "OHE-выборка    exited\n",
      "0    1201\n",
      "1    1196\n",
      "Ordinal Encoding - выборка    exited\n",
      "0    1201\n",
      "1    1196\n"
     ]
    }
   ],
   "source": [
    "def downsample(features, target, fraction):\n",
    "    features_zeros = features[target == 0]\n",
    "    features_ones = features[target == 1]\n",
    "    target_zeros = target[target == 0]\n",
    "    target_ones = target[target == 1]\n",
    "    \n",
    "    features_downsampled = pd.concat([features_zeros.sample(frac=fraction, random_state=12345)] + [features_ones])\n",
    "    target_downsampled = pd.concat([target_zeros.sample(frac=fraction, random_state=12345)] + [target_ones])\n",
    "    \n",
    "    features_downsampled, target_downsampled = shuffle(features_downsampled, target_downsampled, random_state=12345)\n",
    "    \n",
    "    return features_downsampled, target_downsampled\n",
    "\n",
    "features_ohe_downsampled, target_ohe_downsampled = downsample(features_ohe_train, target_ohe_train, 0.25)\n",
    "features_ord_downsampled, target_ord_downsampled = downsample(features_ord_train, target_ord_train, 0.25)\n",
    "\n",
    "print('OHE-выборка', target_ohe_downsampled.value_counts().to_frame())\n",
    "\n",
    "print('Ordinal Encoding - выборка',target_ord_downsampled.value_counts().to_frame())"
   ]
  },
  {
   "cell_type": "markdown",
   "metadata": {},
   "source": [
    "#### Исследуем алгоритм \"дерево решений\"."
   ]
  },
  {
   "cell_type": "code",
   "execution_count": 61,
   "metadata": {},
   "outputs": [],
   "source": [
    "def dtc(X_train, Y_train, X_valid, Y_valid):\n",
    "    best_f1 = 0\n",
    "    best_depth = 0\n",
    "    con_matrix = 0\n",
    "    recall = 0\n",
    "    precision = 0\n",
    "    for depth in range(1, 31):\n",
    "        model = DecisionTreeClassifier(max_depth=depth, random_state=12345)\n",
    "        model.fit(X_train, Y_train)\n",
    "        predictions = model.predict(X_valid)\n",
    "        f1 = f1_score(Y_valid, predictions)\n",
    "        if f1 > best_f1:\n",
    "            best_model = model\n",
    "            best_f1 = f1\n",
    "            best_depth = depth\n",
    "            con_matrix = confusion_matrix(Y_valid, predictions)\n",
    "            accuracy = accuracy_score(Y_valid, predictions)\n",
    "            recall = recall_score(Y_valid, predictions)\n",
    "            precision = precision_score(Y_valid, predictions)\n",
    "            probabilities_one_test = best_model.predict_proba(X_valid)[:, 1]\n",
    "            roc_auc = roc_auc_score(Y_valid, probabilities_one_test)\n",
    "       \n",
    "    print(f'F1-мера лучшей модели на валидационной выборке: {best_f1:.3f}')\n",
    "    print(f'Глубина лучшей модели на валидационной выборке: {best_depth}')\n",
    "    print(f'Матрица ошибок: \\n{con_matrix}')\n",
    "    print(f'Доля правильных ответов: {accuracy}')\n",
    "    print(f'Полнота: {recall}')\n",
    "    print(f'Точность: {precision}')\n",
    "    print(f'Метрика AUC_ROC: {roc_auc}')\n",
    "    \n",
    "    return best_model       "
   ]
  },
  {
   "cell_type": "code",
   "execution_count": 62,
   "metadata": {},
   "outputs": [
    {
     "name": "stdout",
     "output_type": "stream",
     "text": [
      "F1-мера лучшей модели на валидационной выборке: 0.595\n",
      "Глубина лучшей модели на валидационной выборке: 5\n",
      "Матрица ошибок: \n",
      "[[1311  271]\n",
      " [ 126  292]]\n",
      "Доля правильных ответов: 0.8015\n",
      "Полнота: 0.6985645933014354\n",
      "Точность: 0.5186500888099467\n",
      "Метрика AUC_ROC: 0.8240212861195628\n",
      "CPU times: user 357 ms, sys: 7.79 ms, total: 365 ms\n",
      "Wall time: 367 ms\n"
     ]
    },
    {
     "data": {
      "text/plain": [
       "DecisionTreeClassifier(max_depth=5, random_state=12345)"
      ]
     },
     "execution_count": 62,
     "metadata": {},
     "output_type": "execute_result"
    }
   ],
   "source": [
    "%%time\n",
    "\n",
    "#Исследование выборки, обработанной OHE.\n",
    "dtc(features_ohe_downsampled, target_ohe_downsampled, features_ohe_valid, target_ohe_valid)"
   ]
  },
  {
   "cell_type": "code",
   "execution_count": 63,
   "metadata": {},
   "outputs": [
    {
     "name": "stdout",
     "output_type": "stream",
     "text": [
      "F1-мера лучшей модели на валидационной выборке: 0.560\n",
      "Глубина лучшей модели на валидационной выборке: 6\n",
      "Матрица ошибок: \n",
      "[[1185  397]\n",
      " [ 101  317]]\n",
      "Доля правильных ответов: 0.751\n",
      "Полнота: 0.7583732057416268\n",
      "Точность: 0.44397759103641454\n",
      "Метрика AUC_ROC: 0.8093375534572552\n",
      "CPU times: user 377 ms, sys: 0 ns, total: 377 ms\n",
      "Wall time: 386 ms\n"
     ]
    },
    {
     "data": {
      "text/plain": [
       "DecisionTreeClassifier(max_depth=6, random_state=12345)"
      ]
     },
     "execution_count": 63,
     "metadata": {},
     "output_type": "execute_result"
    }
   ],
   "source": [
    "%%time\n",
    "\n",
    "#Исследование выборки, обработанной Ordinal Encoding.\n",
    "dtc(features_ord_downsampled, target_ord_downsampled, features_ord_valid, target_ord_valid)"
   ]
  },
  {
   "cell_type": "markdown",
   "metadata": {},
   "source": [
    "Результаты метода \"решающее дерево\" улучшить не удалось. "
   ]
  },
  {
   "cell_type": "markdown",
   "metadata": {},
   "source": [
    "#### Исследуем модель \"случайный лес\" с параметрами, давшими лучший результат."
   ]
  },
  {
   "cell_type": "code",
   "execution_count": 64,
   "metadata": {},
   "outputs": [
    {
     "name": "stdout",
     "output_type": "stream",
     "text": [
      "F1-мера на валидационной выборке: 0.590\n",
      "Матрица ошибок: \n",
      "[[1249  333]\n",
      " [ 104  314]]\n",
      "Доля правильных ответов: 0.7815\n",
      "Полнота: 0.7511961722488039\n",
      "Точность: 0.4853168469860896\n",
      "Метрика AUC_ROC: 0.844896079700458\n"
     ]
    }
   ],
   "source": [
    "# Исследуем OHE-выборку\n",
    "model =  RandomForestClassifier(n_estimators=144, max_depth = 14, random_state=12345)\n",
    "model.fit(features_ohe_downsampled, target_ohe_downsampled)\n",
    "predictions = model.predict(features_ohe_valid)\n",
    "f1 = f1_score(target_ohe_valid, predictions)\n",
    "con_matrix = confusion_matrix(target_ohe_valid, predictions)\n",
    "accuracy = accuracy_score(target_ohe_valid, predictions)\n",
    "recall = recall_score(target_ohe_valid, predictions)\n",
    "precision = precision_score(target_ohe_valid, predictions)\n",
    "probabilities_one_test = model.predict_proba(features_ohe_valid)[:, 1]\n",
    "roc_auc = roc_auc_score(target_ohe_valid, probabilities_one_test)            \n",
    "            \n",
    "\n",
    "print(f'F1-мера на валидационной выборке: {f1:.3f}')\n",
    "print(f'Матрица ошибок: \\n{con_matrix}')\n",
    "print(f'Доля правильных ответов: {accuracy}')\n",
    "print(f'Полнота: {recall}')\n",
    "print(f'Точность: {precision}')\n",
    "print(f'Метрика AUC_ROC: {roc_auc}')"
   ]
  },
  {
   "cell_type": "code",
   "execution_count": 65,
   "metadata": {},
   "outputs": [
    {
     "name": "stdout",
     "output_type": "stream",
     "text": [
      "F1-мера на валидационной выборке: 0.598\n",
      "Матрица ошибок: \n",
      "[[1264  318]\n",
      " [ 104  314]]\n",
      "Доля правильных ответов: 0.789\n",
      "Полнота: 0.7511961722488039\n",
      "Точность: 0.49683544303797467\n",
      "Метрика AUC_ROC: 0.8422496809199185\n"
     ]
    }
   ],
   "source": [
    "# Исследуем Ordinal Encoding-выборку\n",
    "model =  RandomForestClassifier(n_estimators=76, max_depth = 20, random_state=12345)\n",
    "model.fit(features_ord_downsampled, target_ord_downsampled)\n",
    "predictions = model.predict(features_ord_valid)\n",
    "f1 = f1_score(target_ord_valid, predictions)\n",
    "con_matrix = confusion_matrix(target_ord_valid, predictions)\n",
    "accuracy = accuracy_score(target_ord_valid, predictions)\n",
    "recall = recall_score(target_ord_valid, predictions)\n",
    "precision = precision_score(target_ord_valid, predictions)\n",
    "probabilities_one_test = model.predict_proba(features_ord_valid)[:, 1]\n",
    "roc_auc = roc_auc_score(target_ord_valid, probabilities_one_test)             \n",
    "\n",
    "print(f'F1-мера на валидационной выборке: {f1:.3f}')\n",
    "print(f'Матрица ошибок: \\n{con_matrix}')\n",
    "print(f'Доля правильных ответов: {accuracy}')\n",
    "print(f'Полнота: {recall}')\n",
    "print(f'Точность: {precision}')\n",
    "print(f'Метрика AUC_ROC: {roc_auc}')"
   ]
  },
  {
   "cell_type": "markdown",
   "metadata": {},
   "source": [
    "Результаты алгоритма \"случайный лес\" улучшить не удалось."
   ]
  },
  {
   "cell_type": "markdown",
   "metadata": {},
   "source": [
    "#### Исследуем модель \"логистическая регрессия\" на выборке и с параметрами, давшими лучший результат."
   ]
  },
  {
   "cell_type": "code",
   "execution_count": 66,
   "metadata": {},
   "outputs": [
    {
     "name": "stdout",
     "output_type": "stream",
     "text": [
      "F1-мера на валидационной выборке: 0.448\n",
      "Матрица ошибок: \n",
      "[[1020  562]\n",
      " [ 135  283]]\n",
      "Доля правильных ответов: 0.6515\n",
      "Полнота: 0.6770334928229665\n",
      "Точность: 0.3349112426035503\n",
      "Метрика AUC_ROC: 0.7118026361156311\n"
     ]
    }
   ],
   "source": [
    "model =  LogisticRegression(max_iter=43, random_state=12345, solver='lbfgs')\n",
    "model.fit(features_ord_downsampled, target_ord_downsampled)\n",
    "predictions = model.predict(features_ord_valid)\n",
    "f1 = f1_score(target_ord_valid, predictions)\n",
    "con_matrix = confusion_matrix(target_ord_valid, predictions)\n",
    "accuracy = accuracy_score(target_ord_valid, predictions)\n",
    "recall = recall_score(target_ord_valid, predictions)\n",
    "precision = precision_score(target_ord_valid, predictions)\n",
    "probabilities_one_test = model.predict_proba(features_ord_valid)[:, 1]\n",
    "roc_auc = roc_auc_score(target_ord_valid, probabilities_one_test)\n",
    "\n",
    "print(f'F1-мера на валидационной выборке: {f1:.3f}')\n",
    "print(f'Матрица ошибок: \\n{con_matrix}')\n",
    "print(f'Доля правильных ответов: {accuracy}')\n",
    "print(f'Полнота: {recall}')\n",
    "print(f'Точность: {precision}')\n",
    "print(f'Метрика AUC_ROC: {roc_auc}')"
   ]
  },
  {
   "cell_type": "markdown",
   "metadata": {},
   "source": [
    "Результаты модели \"логистическая регрессия\" улучшить не удалось"
   ]
  },
  {
   "cell_type": "markdown",
   "metadata": {},
   "source": [
    "### Выводы."
   ]
  },
  {
   "cell_type": "markdown",
   "metadata": {},
   "source": [
    "Лучшие результаты показателя F1 удалось достигнуть, используя алгоритм \"Случайный лес\" на выборке, обработанной Ordinal Encoding, после устранения дисбаланса классов методом \"увеличение выборки\".  \n",
    "Отмечается увеличение показателя \"recall\" и некоторое снижение показателя \"precision\"."
   ]
  },
  {
   "cell_type": "markdown",
   "metadata": {},
   "source": [
    "## Тестирование модели"
   ]
  },
  {
   "cell_type": "markdown",
   "metadata": {},
   "source": [
    "### Улучшаем модель"
   ]
  },
  {
   "cell_type": "code",
   "execution_count": 74,
   "metadata": {},
   "outputs": [
    {
     "name": "stdout",
     "output_type": "stream",
     "text": [
      " Лучшая F1-мера на валидационной выборке: 0.622\n",
      "Лучшая модель: \n",
      "RandomForestClassifier(max_depth=14, n_estimators=144, random_state=12345)\n",
      "Матрица ошибок: \n",
      "[[1451  131]\n",
      " [ 170  248]]\n",
      "Лучшее минимальное количество выборок внутреннего узла: 2\n",
      "Доля правильных ответов: 0.8495\n",
      "Полнота: 0.5933014354066986\n",
      "Точность: 0.6543535620052771\n"
     ]
    }
   ],
   "source": [
    "# Исследуем минимальное количество выборок внутреннего узла модели Случайный лес \n",
    "min_samples_split = 0\n",
    "best_f1 = 0\n",
    "\n",
    "for samples_split in range(2, 6):\n",
    "    model = RandomForestClassifier(n_estimators=144, max_depth = 14, random_state=12345, min_samples_split = samples_split)\n",
    "    model.fit(features_ohe_upsampled, target_ohe_upsampled)\n",
    "    predictions = model.predict(features_ohe_valid)\n",
    "    f1 = f1_score(target_ohe_valid, predictions)\n",
    "    if f1 > best_f1:\n",
    "        best_model = model\n",
    "        best_f1 = f1\n",
    "        min_samples_split = samples_split\n",
    "        con_matrix = confusion_matrix(target_ohe_valid, predictions)\n",
    "        accuracy = accuracy_score(target_ohe_valid, predictions)\n",
    "        recall = recall_score(target_ohe_valid, predictions)\n",
    "        precision = precision_score(target_ohe_valid, predictions)\n",
    "            \n",
    "\n",
    "print(f' Лучшая F1-мера на валидационной выборке: {best_f1:.3f}')\n",
    "print(f'Лучшая модель: \\n{best_model}')\n",
    "print(f'Матрица ошибок: \\n{con_matrix}')\n",
    "print(f'Лучшее минимальное количество выборок внутреннего узла: {min_samples_split}')\n",
    "print(f'Доля правильных ответов: {accuracy}')\n",
    "print(f'Полнота: {recall}')\n",
    "print(f'Точность: {precision}')\n"
   ]
  },
  {
   "cell_type": "markdown",
   "metadata": {},
   "source": [
    "Показатели улучшить не удалось, оставляем данный параметр по умолчанию."
   ]
  },
  {
   "cell_type": "code",
   "execution_count": 75,
   "metadata": {},
   "outputs": [
    {
     "name": "stdout",
     "output_type": "stream",
     "text": [
      "Лучшая F1-мера на валидационной выборке: 0.632\n",
      "Лучшая модель: \n",
      "RandomForestClassifier(max_depth=14, min_samples_leaf=9, n_estimators=144,\n",
      "                       random_state=12345)\n",
      "Матрица ошибок: \n",
      "[[1362  220]\n",
      " [ 123  295]]\n",
      "Лучшее минимальное количество выборок внутреннего узла: 9\n",
      "Доля правильных ответов: 0.8285\n",
      "Полнота: 0.7057416267942583\n",
      "Точность: 0.5728155339805825\n"
     ]
    }
   ],
   "source": [
    "# Исследуем минимальное количество выборок внутреннего узла модели Случайный лес \n",
    "min_samples_leaf = 0\n",
    "best_f1 = 0\n",
    "\n",
    "for samples_leaf in range(1, 10):\n",
    "    model = RandomForestClassifier(n_estimators=144, max_depth = 14, random_state=12345, min_samples_leaf = samples_leaf)\n",
    "    model.fit(features_ohe_upsampled, target_ohe_upsampled)\n",
    "    predictions = model.predict(features_ohe_valid)\n",
    "    f1 = f1_score(target_ohe_valid, predictions)\n",
    "    if f1 > best_f1:\n",
    "        best_model = model\n",
    "        best_f1 = f1\n",
    "        min_samples_leaf = samples_leaf\n",
    "        con_matrix = confusion_matrix(target_ohe_valid, predictions)\n",
    "        accuracy = accuracy_score(target_ohe_valid, predictions)\n",
    "        recall = recall_score(target_ohe_valid, predictions)\n",
    "        precision = precision_score(target_ohe_valid, predictions)\n",
    "            \n",
    "\n",
    "print(f'Лучшая F1-мера на валидационной выборке: {best_f1:.3f}')\n",
    "print(f'Лучшая модель: \\n{best_model}')\n",
    "print(f'Матрица ошибок: \\n{con_matrix}')\n",
    "print(f'Лучшее минимальное количество выборок внутреннего узла: {samples_leaf}')\n",
    "print(f'Доля правильных ответов: {accuracy}')\n",
    "print(f'Полнота: {recall}')\n",
    "print(f'Точность: {precision}')"
   ]
  },
  {
   "cell_type": "markdown",
   "metadata": {},
   "source": [
    "Удалось повысить F1-меру до 0,619. Повысилась полнота, снизилась точность. "
   ]
  },
  {
   "cell_type": "code",
   "execution_count": 78,
   "metadata": {},
   "outputs": [
    {
     "name": "stdout",
     "output_type": "stream",
     "text": [
      "Лучшая F1-мера на валидационной выборке: 0.618\n",
      "Лучшая модель: \n",
      "RandomForestClassifier(max_depth=14, max_leaf_nodes=45, min_samples_leaf=9,\n",
      "                       n_estimators=144, random_state=12345)\n",
      "Матрица ошибок: \n",
      "[[1307  275]\n",
      " [ 108  310]]\n",
      "Лучшее ограничение на разбиение узла: 60\n",
      "Доля правильных ответов: 0.8085\n",
      "Полнота: 0.7416267942583732\n",
      "Точность: 0.5299145299145299\n",
      "CPU times: user 44.4 s, sys: 105 ms, total: 44.5 s\n",
      "Wall time: 44.6 s\n"
     ]
    }
   ],
   "source": [
    "%%time\n",
    "# Исследуем ограничение на разбиение узла модели Случайный лес \n",
    "max_leaf_nodes = 1\n",
    "best_f1 = 0\n",
    "\n",
    "for leaf_nodes in range(2, 61):\n",
    "    model = RandomForestClassifier(n_estimators=144, max_depth = 14, random_state=12345, min_samples_leaf = 9, max_leaf_nodes = leaf_nodes)\n",
    "    model.fit(features_ohe_upsampled, target_ohe_upsampled)\n",
    "    predictions = model.predict(features_ohe_valid)\n",
    "    f1 = f1_score(target_ohe_valid, predictions)\n",
    "    if f1 > best_f1:\n",
    "        best_model = model\n",
    "        best_f1 = f1\n",
    "        min_samples_leaf = samples_leaf\n",
    "        con_matrix = confusion_matrix(target_ohe_valid, predictions)\n",
    "        accuracy = accuracy_score(target_ohe_valid, predictions)\n",
    "        recall = recall_score(target_ohe_valid, predictions)\n",
    "        precision = precision_score(target_ohe_valid, predictions)\n",
    "            \n",
    "\n",
    "print(f'Лучшая F1-мера на валидационной выборке: {best_f1:.3f}')\n",
    "print(f'Лучшая модель: \\n{best_model}')\n",
    "print(f'Матрица ошибок: \\n{con_matrix}')\n",
    "print(f'Лучшее ограничение на разбиение узла: {leaf_nodes}')\n",
    "print(f'Доля правильных ответов: {accuracy}')\n",
    "print(f'Полнота: {recall}')\n",
    "print(f'Точность: {precision}')"
   ]
  },
  {
   "cell_type": "markdown",
   "metadata": {},
   "source": [
    "Показатели улучшить не удалось, оставляем данный параметр по умолчанию."
   ]
  },
  {
   "cell_type": "code",
   "execution_count": 80,
   "metadata": {},
   "outputs": [
    {
     "name": "stdout",
     "output_type": "stream",
     "text": [
      "Лучшая F1-мера на валидационной выборке: 0.586\n",
      "Лучшая модель: \n",
      "RandomForestClassifier(max_depth=16, max_samples=249, min_samples_leaf=9,\n",
      "                       n_estimators=40, random_state=12345)\n",
      "Матрица ошибок: \n",
      "[[1248  334]\n",
      " [ 106  312]]\n",
      "Лучшее максимальное количество выборок: 0\n",
      "Доля правильных ответов: 0.78\n",
      "Полнота: 0.7464114832535885\n",
      "Точность: 0.48297213622291024\n",
      "CPU times: user 27.5 s, sys: 191 ms, total: 27.7 s\n",
      "Wall time: 27.7 s\n"
     ]
    }
   ],
   "source": [
    "%%time\n",
    "# Исследуем максимальное количество выборок модели Случайный лес \n",
    "max_samples = 0\n",
    "best_f1 = 0\n",
    "\n",
    "for samples in range(1, 301):\n",
    "    model = RandomForestClassifier(n_estimators=40, max_depth = 16, random_state=12345, min_samples_leaf = 9, max_samples = samples)\n",
    "    model.fit(features_ohe_upsampled, target_ohe_upsampled)\n",
    "    predictions = model.predict(features_ohe_valid)\n",
    "    f1 = f1_score(target_ohe_valid, predictions)\n",
    "    if f1 > best_f1:\n",
    "        best_model = model\n",
    "        best_f1 = f1\n",
    "        min_samples_leaf = samples_leaf\n",
    "        con_matrix = confusion_matrix(target_ohe_valid, predictions)\n",
    "        accuracy = accuracy_score(target_ohe_valid, predictions)\n",
    "        recall = recall_score(target_ohe_valid, predictions)\n",
    "        precision = precision_score(target_ohe_valid, predictions)\n",
    "            \n",
    "\n",
    "print(f'Лучшая F1-мера на валидационной выборке: {best_f1:.3f}')\n",
    "print(f'Лучшая модель: \\n{best_model}')\n",
    "print(f'Матрица ошибок: \\n{con_matrix}')\n",
    "print(f'Лучшее максимальное количество выборок: {max_samples}')\n",
    "print(f'Доля правильных ответов: {accuracy}')\n",
    "print(f'Полнота: {recall}')\n",
    "print(f'Точность: {precision}')"
   ]
  },
  {
   "cell_type": "markdown",
   "metadata": {},
   "source": [
    "Показатели улучшить не удалось, оставляем данный параметр по умолчанию."
   ]
  },
  {
   "cell_type": "code",
   "execution_count": 82,
   "metadata": {},
   "outputs": [
    {
     "name": "stdout",
     "output_type": "stream",
     "text": [
      "Лучшая F1-мера на валидационной выборке: 0.586\n",
      "Лучшая модель: \n",
      "RandomForestClassifier(max_depth=16, max_samples=249, min_samples_leaf=9,\n",
      "                       n_estimators=40, random_state=12345)\n",
      "Матрица ошибок: \n",
      "[[1365  217]\n",
      " [ 121  297]]\n",
      "Доля правильных ответов: 0.831\n",
      "Полнота: 0.7105263157894737\n",
      "Точность: 0.5778210116731517\n"
     ]
    }
   ],
   "source": [
    "# Исследуем изменение критерия \"gini\" на \"entropy\" модели Случайный лес\n",
    "model = RandomForestClassifier(n_estimators=144, max_depth = 14, random_state=12345, min_samples_leaf = 9, criterion='entropy')\n",
    "model.fit(features_ohe_upsampled, target_ohe_upsampled)\n",
    "predictions = model.predict(features_ohe_valid)\n",
    "f1 = f1_score(target_ohe_valid, predictions)\n",
    "#min_samples_leaf = samples_leaf\n",
    "con_matrix = confusion_matrix(target_ohe_valid, predictions)\n",
    "accuracy = accuracy_score(target_ohe_valid, predictions)\n",
    "recall = recall_score(target_ohe_valid, predictions)\n",
    "precision = precision_score(target_ohe_valid, predictions)\n",
    "            \n",
    "\n",
    "print(f'Лучшая F1-мера на валидационной выборке: {best_f1:.3f}')\n",
    "print(f'Лучшая модель: \\n{best_model}')\n",
    "print(f'Матрица ошибок: \\n{con_matrix}')\n",
    "\n",
    "print(f'Доля правильных ответов: {accuracy}')\n",
    "print(f'Полнота: {recall}')\n",
    "print(f'Точность: {precision}')"
   ]
  },
  {
   "cell_type": "markdown",
   "metadata": {},
   "source": [
    "Показатели улучшить не удалось, оставляем данный параметр по умолчанию."
   ]
  },
  {
   "cell_type": "markdown",
   "metadata": {},
   "source": [
    "### Пробуем gridsearch"
   ]
  },
  {
   "cell_type": "code",
   "execution_count": 90,
   "metadata": {},
   "outputs": [
    {
     "name": "stdout",
     "output_type": "stream",
     "text": [
      "CPU times: user 52min 25s, sys: 7.8 s, total: 52min 33s\n",
      "Wall time: 52min 34s\n"
     ]
    },
    {
     "data": {
      "text/plain": [
       "{'max_depth': 29, 'n_estimators': 40}"
      ]
     },
     "execution_count": 90,
     "metadata": {},
     "output_type": "execute_result"
    }
   ],
   "source": [
    "%%time\n",
    "\n",
    "# Пробуем gridsearch\n",
    "from sklearn.model_selection import GridSearchCV\n",
    "#clf = RandomForestClassifier()\n",
    "parametrs = { 'n_estimators': range (10, 301, 10),\n",
    "              'max_depth': range (1, 43, 2)\n",
    "              }\n",
    "\n",
    "grid = GridSearchCV(RandomForestClassifier(), parametrs, cv=5)\n",
    "grid.fit(features_ohe_upsampled, target_ohe_upsampled)\n",
    "grid.best_params_\n"
   ]
  },
  {
   "cell_type": "code",
   "execution_count": 99,
   "metadata": {},
   "outputs": [
    {
     "name": "stdout",
     "output_type": "stream",
     "text": [
      "Лучшая F1-мера на валидационной выборке: 0.632\n",
      "Лучшая модель: \n",
      "RandomForestClassifier(max_depth=29, min_samples_leaf=9, n_estimators=40,\n",
      "                       random_state=12345)\n",
      "Матрица ошибок: \n",
      "[[1357  225]\n",
      " [ 121  297]]\n",
      "Лучшее минимальное количество выборок внутреннего узла: 9\n",
      "Доля правильных ответов: 0.827\n",
      "Полнота: 0.7105263157894737\n",
      "Точность: 0.5689655172413793\n"
     ]
    }
   ],
   "source": [
    "min_samples_leaf = 0\n",
    "best_f1 = 0\n",
    "\n",
    "for samples_leaf in range(1, 10):\n",
    "    model = RandomForestClassifier(n_estimators=40, max_depth = 29, random_state=12345, min_samples_leaf = samples_leaf)\n",
    "    model.fit(features_ohe_upsampled, target_ohe_upsampled)\n",
    "    predictions = model.predict(features_ohe_valid)\n",
    "    f1 = f1_score(target_ohe_valid, predictions)\n",
    "    if f1 > best_f1:\n",
    "        best_model = model\n",
    "        best_f1 = f1\n",
    "        min_samples_leaf = samples_leaf\n",
    "        con_matrix = confusion_matrix(target_ohe_valid, predictions)\n",
    "        accuracy = accuracy_score(target_ohe_valid, predictions)\n",
    "        recall = recall_score(target_ohe_valid, predictions)\n",
    "        precision = precision_score(target_ohe_valid, predictions)\n",
    "            \n",
    "\n",
    "print(f'Лучшая F1-мера на валидационной выборке: {best_f1:.3f}')\n",
    "print(f'Лучшая модель: \\n{best_model}')\n",
    "print(f'Матрица ошибок: \\n{con_matrix}')\n",
    "print(f'Лучшее минимальное количество выборок внутреннего узла: {samples_leaf}')\n",
    "print(f'Доля правильных ответов: {accuracy}')\n",
    "print(f'Полнота: {recall}')\n",
    "print(f'Точность: {precision}')"
   ]
  },
  {
   "cell_type": "markdown",
   "metadata": {},
   "source": [
    "### Тестируем модель"
   ]
  },
  {
   "cell_type": "code",
   "execution_count": 91,
   "metadata": {},
   "outputs": [
    {
     "name": "stdout",
     "output_type": "stream",
     "text": [
      "F1-мера на тестовой выборке: 0.621\n",
      "Модель: \n",
      "RandomForestClassifier(max_depth=14, min_samples_leaf=9, n_estimators=144,\n",
      "                       random_state=12345)\n",
      "Матрица ошибок: \n",
      "[[1349  228]\n",
      " [ 130  293]]\n",
      "Доля правильных ответов: 0.821\n",
      "Полнота: 0.6926713947990544\n",
      "Точность: 0.5623800383877159\n"
     ]
    }
   ],
   "source": [
    "# Проверяем модель на тестовых данных\n",
    "model = RandomForestClassifier(n_estimators=144, max_depth = 14, random_state=12345, min_samples_leaf = 9)\n",
    "model.fit(features_ohe_upsampled, target_ohe_upsampled)\n",
    "predictions = model.predict(features_ohe_test)\n",
    "f1 = f1_score(target_ohe_test, predictions)\n",
    "con_matrix = confusion_matrix(target_ohe_test, predictions)\n",
    "accuracy = accuracy_score(target_ohe_test, predictions)\n",
    "recall = recall_score(target_ohe_test, predictions)\n",
    "precision = precision_score(target_ohe_test, predictions)\n",
    "            \n",
    "\n",
    "print(f'F1-мера на тестовой выборке: {f1:.3f}')\n",
    "print(f'Модель: \\n{model}')\n",
    "print(f'Матрица ошибок: \\n{con_matrix}')\n",
    "print(f'Доля правильных ответов: {accuracy}')\n",
    "print(f'Полнота: {recall}')\n",
    "print(f'Точность: {precision}')"
   ]
  },
  {
   "cell_type": "markdown",
   "metadata": {},
   "source": [
    "Достигнуто значение F1-меры = 0,595"
   ]
  },
  {
   "cell_type": "code",
   "execution_count": 102,
   "metadata": {},
   "outputs": [
    {
     "name": "stdout",
     "output_type": "stream",
     "text": [
      "F1-мера на тестовой выборке: 0.602\n",
      "Модель: \n",
      "RandomForestClassifier(max_depth=29, min_samples_leaf=9, n_estimators=40,\n",
      "                       random_state=12345)\n",
      "Матрица ошибок: \n",
      "[[1334  243]\n",
      " [ 136  287]]\n",
      "Доля правильных ответов: 0.8105\n",
      "Полнота: 0.6784869976359338\n",
      "Точность: 0.5415094339622641\n",
      "Метрика AUC_ROC: 0.8475780158360503\n"
     ]
    }
   ],
   "source": [
    "# Проверяем модель на тестовых данных с гиперпараметрами gridsearch\n",
    "model = RandomForestClassifier(n_estimators=40, max_depth = 29, random_state=12345, min_samples_leaf = 9)\n",
    "model.fit(features_ohe_upsampled, target_ohe_upsampled)\n",
    "predictions = model.predict(features_ohe_test)\n",
    "f1 = f1_score(target_ohe_test, predictions)\n",
    "con_matrix = confusion_matrix(target_ohe_test, predictions)\n",
    "accuracy = accuracy_score(target_ohe_test, predictions)\n",
    "recall = recall_score(target_ohe_test, predictions)\n",
    "precision = precision_score(target_ohe_test, predictions)\n",
    "probabilities_one_test = model.predict_proba(features_ohe_valid)[:, 1]\n",
    "roc_auc = roc_auc_score(target_ohe_valid, probabilities_one_test)            \n",
    "\n",
    "print(f'F1-мера на тестовой выборке: {f1:.3f}')\n",
    "print(f'Модель: \\n{model}')\n",
    "print(f'Матрица ошибок: \\n{con_matrix}')\n",
    "print(f'Доля правильных ответов: {accuracy}')\n",
    "print(f'Полнота: {recall}')\n",
    "print(f'Точность: {precision}')\n",
    "print(f'Метрика AUC_ROC: {roc_auc}')"
   ]
  },
  {
   "cell_type": "markdown",
   "metadata": {},
   "source": [
    "### Исследуем метрику AUC-ROC"
   ]
  },
  {
   "cell_type": "code",
   "execution_count": 103,
   "metadata": {},
   "outputs": [],
   "source": [
    "best_model = RandomForestClassifier(max_depth=14, min_samples_leaf=9, n_estimators=144, random_state=12345)\n",
    "best_model.fit(features_ohe_upsampled, target_ohe_upsampled)\n",
    "test_predictions = best_model.predict(features_ohe_test)"
   ]
  },
  {
   "cell_type": "code",
   "execution_count": 104,
   "metadata": {},
   "outputs": [
    {
     "data": {
      "text/plain": [
       "0.6207627118644067"
      ]
     },
     "execution_count": 104,
     "metadata": {},
     "output_type": "execute_result"
    }
   ],
   "source": [
    "f1_score(target_ohe_test, test_predictions)"
   ]
  },
  {
   "cell_type": "code",
   "execution_count": 105,
   "metadata": {},
   "outputs": [
    {
     "data": {
      "text/plain": [
       "0.85777376021443"
      ]
     },
     "execution_count": 105,
     "metadata": {},
     "output_type": "execute_result"
    }
   ],
   "source": [
    "# Определяем метрику AUC_ROC\n",
    "probabilities_one_test = best_model.predict_proba(features_ohe_test)[:, 1]\n",
    "roc_auc_score(target_ohe_test, probabilities_one_test)"
   ]
  },
  {
   "cell_type": "code",
   "execution_count": 106,
   "metadata": {},
   "outputs": [
    {
     "data": {
      "image/png": "[encoded data removed]",
      "text/plain": [
       "<Figure size 432x288 with 1 Axes>"
      ]
     },
     "metadata": {
      "needs_background": "light"
     },
     "output_type": "display_data"
    }
   ],
   "source": [
    "fpr, tpr, thresholds = roc_curve(target_ohe_test, probabilities_one_test)\n",
    "plt.figure()\n",
    "\n",
    "plt.plot(fpr, tpr)\n",
    "plt.plot([0, 1], [0, 1], linestyle='--')\n",
    "plt.xlabel('False Positive Rate')\n",
    "plt.ylabel('True Positive Rate')\n",
    "plt.xlim([0.0, 1.0])\n",
    "plt.ylim([0.0, 1.0])\n",
    "plt.grid()\n",
    "plt.title('ROC-кривая')\n",
    "plt.show()"
   ]
  },
  {
   "cell_type": "markdown",
   "metadata": {},
   "source": []
  },
  {
   "cell_type": "markdown",
   "metadata": {},
   "source": [
    "## Чек-лист готовности проекта"
   ]
  },
  {
   "cell_type": "markdown",
   "metadata": {},
   "source": [
    "Поставьте 'x' в выполненных пунктах. Далее нажмите Shift+Enter."
   ]
  },
  {
   "cell_type": "markdown",
   "metadata": {},
   "source": [
    "- [x]  Jupyter Notebook открыт\n",
    "- [x]  Весь код выполняется без ошибок\n",
    "- [x]  Ячейки с кодом расположены в порядке исполнения\n",
    "- [x]  Выполнен шаг 1: данные подготовлены\n",
    "- [x]  Выполнен шаг 2: задача исследована\n",
    "    - [x]  Исследован баланс классов\n",
    "    - [x]  Изучены модели без учёта дисбаланса\n",
    "    - [x]  Написаны выводы по результатам исследования\n",
    "- [x]  Выполнен шаг 3: учтён дисбаланс\n",
    "    - [x]  Применено несколько способов борьбы с дисбалансом\n",
    "    - [x]  Написаны выводы по результатам исследования\n",
    "- [x]  Выполнен шаг 4: проведено тестирование\n",
    "- [x]  Удалось достичь *F1*-меры не менее 0.59\n",
    "- [x]  Исследована метрика *AUC-ROC*"
   ]
  },
  {
   "cell_type": "markdown",
   "metadata": {},
   "source": [
    "###  V2\n",
    "<div class=\"alert alert-block alert-warning\">\n",
    "<b>Изменения:</b> Попробуем с самого начала.\n",
    "</div> "
   ]
  },
  {
   "cell_type": "code",
   "execution_count": 3,
   "metadata": {},
   "outputs": [
    {
     "name": "stdout",
     "output_type": "stream",
     "text": [
      "<class 'pandas.core.frame.DataFrame'>\n",
      "RangeIndex: 10000 entries, 0 to 9999\n",
      "Data columns (total 12 columns):\n",
      " #   Column             Non-Null Count  Dtype  \n",
      "---  ------             --------------  -----  \n",
      " 0   credit_score       10000 non-null  int64  \n",
      " 1   age                10000 non-null  int64  \n",
      " 2   tenure             9091 non-null   float64\n",
      " 3   balance            10000 non-null  float64\n",
      " 4   num_of_products    10000 non-null  int64  \n",
      " 5   has_cr_card        10000 non-null  int64  \n",
      " 6   is_active_member   10000 non-null  int64  \n",
      " 7   estimated_salary   10000 non-null  float64\n",
      " 8   exited             10000 non-null  int64  \n",
      " 9   gender_Male        10000 non-null  uint8  \n",
      " 10  geography_Germany  10000 non-null  uint8  \n",
      " 11  geography_Spain    10000 non-null  uint8  \n",
      "dtypes: float64(3), int64(6), uint8(3)\n",
      "memory usage: 732.5 KB\n"
     ]
    }
   ],
   "source": [
    "data = pd.read_csv('/datasets/Churn.csv')\n",
    "data = data.drop(['RowNumber','CustomerId','Surname'], axis=1)\n",
    "import re\n",
    "columns_low = []\n",
    "for column in data.columns.values:\n",
    "    columns_low.append(re.sub(r'(?<!^)(?=[A-Z])', '_', column).lower())\n",
    "data.columns = columns_low\n",
    "\n",
    "ohe_data = pd.get_dummies(data, columns=['gender', 'geography'], drop_first=True)\n",
    "\n",
    "ohe_data.info()\n",
    "list = ohe_data.columns.values.tolist ()\n"
   ]
  },
  {
   "cell_type": "code",
   "execution_count": 4,
   "metadata": {},
   "outputs": [
    {
     "name": "stdout",
     "output_type": "stream",
     "text": [
      "<class 'pandas.core.frame.DataFrame'>\n",
      "RangeIndex: 10000 entries, 0 to 9999\n",
      "Data columns (total 12 columns):\n",
      " #   Column             Non-Null Count  Dtype \n",
      "---  ------             --------------  ----- \n",
      " 0   credit_score       10000 non-null  uint16\n",
      " 1   age                10000 non-null  uint8 \n",
      " 2   tenure             10000 non-null  uint8 \n",
      " 3   balance            10000 non-null  int64 \n",
      " 4   num_of_products    10000 non-null  uint8 \n",
      " 5   has_cr_card        10000 non-null  uint8 \n",
      " 6   is_active_member   10000 non-null  uint8 \n",
      " 7   estimated_salary   10000 non-null  int64 \n",
      " 8   exited             10000 non-null  uint8 \n",
      " 9   gender_Male        10000 non-null  uint8 \n",
      " 10  geography_Germany  10000 non-null  uint8 \n",
      " 11  geography_Spain    10000 non-null  uint8 \n",
      "dtypes: int64(2), uint16(1), uint8(9)\n",
      "memory usage: 263.8 KB\n"
     ]
    }
   ],
   "source": [
    "#Так повеселее. Опять же, с проще менять параметры заполнения\n",
    "from sklearn.impute import SimpleImputer\n",
    "\n",
    "imputer = SimpleImputer(missing_values = np.nan, strategy ='median')\n",
    "imputer = imputer.fit(ohe_data) \n",
    "data2 = imputer.transform(ohe_data)\n",
    "ohe_data = pd.DataFrame(data2, columns=list)\n",
    "\n",
    "#Изменим типы данных для ускорения обработки\n",
    "ohe_data = ohe_data.astype({'credit_score': np.uint16, 'age': np.uint8, 'tenure': np.uint8, 'balance': np.int64, 'num_of_products': np.uint8, 'has_cr_card': np.uint8, 'is_active_member': np.uint8, 'estimated_salary': np.int64, 'exited': np.uint8, 'gender_Male': np.uint8, 'geography_Germany': np.uint8, 'geography_Spain': np.uint8})\n",
    "\n",
    "ohe_data.info()"
   ]
  },
  {
   "cell_type": "code",
   "execution_count": 5,
   "metadata": {},
   "outputs": [
    {
     "name": "stdout",
     "output_type": "stream",
     "text": [
      "Тренировочная выборка OHE 6000\n",
      "Валидационная выборка OHE 2000\n",
      "Тестовая выборка OHE 2000\n"
     ]
    }
   ],
   "source": [
    "# Разбиваем данные,обработанные OHE в соотношении 3:1:1 на обучающую, валидационную и тестовую выборки.\n",
    "ohe_df_train, ohe_df_valid_and_test = train_test_split(ohe_data, test_size=0.4, random_state=12345)\n",
    "ohe_df_valid, ohe_df_test = train_test_split(ohe_df_valid_and_test, test_size=0.5, random_state=12345)\n",
    "\n",
    "print('Тренировочная выборка OHE', ohe_df_train.shape[0])\n",
    "print('Валидационная выборка OHE', ohe_df_valid.shape[0])\n",
    "print('Тестовая выборка OHE', ohe_df_test.shape[0])"
   ]
  },
  {
   "cell_type": "code",
   "execution_count": 6,
   "metadata": {},
   "outputs": [],
   "source": [
    "# Подготавливаем OHE данные.\n",
    "# Тренировочные OHE данные\n",
    "features_ohe_train = ohe_df_train.drop('exited', axis=1)\n",
    "target_ohe_train = ohe_df_train['exited']\n",
    "# Валидационные OHE данные\n",
    "features_ohe_valid = ohe_df_valid.drop('exited', axis=1)\n",
    "target_ohe_valid = ohe_df_valid['exited']\n",
    "# Тестовые OHE данные\n",
    "features_ohe_test = ohe_df_test.drop('exited', axis=1)\n",
    "target_ohe_test = ohe_df_test['exited']"
   ]
  },
  {
   "cell_type": "code",
   "execution_count": 7,
   "metadata": {},
   "outputs": [
    {
     "name": "stdout",
     "output_type": "stream",
     "text": [
      "OHE-выборка    exited\n",
      "0    4804\n",
      "1    4784\n"
     ]
    }
   ],
   "source": [
    "def upsample(features, target, repeat):\n",
    "    features_zeros = features[target == 0]\n",
    "    features_ones = features[target == 1]\n",
    "    target_zeros = target[target == 0]\n",
    "    target_ones = target[target == 1] \n",
    "    \n",
    "    features_upsampled = pd.concat([features_zeros] + [features_ones] * repeat)\n",
    "    target_upsampled = pd.concat([target_zeros] + [target_ones] * repeat)\n",
    "    \n",
    "    features_upsampled, target_upsampled = shuffle(features_upsampled, target_upsampled, random_state=12345)\n",
    "    \n",
    "    return features_upsampled, target_upsampled\n",
    "\n",
    "features_ohe_upsampled, target_ohe_upsampled = upsample(features_ohe_train, target_ohe_train, 4)\n",
    "#features_ord_upsampled, target_ord_upsampled = upsample(features_ord_train, target_ord_train, 4)\n",
    "\n",
    "print('OHE-выборка', target_ohe_upsampled.value_counts().to_frame())\n",
    "\n",
    "#print('Ordinal Encoding - выборка',target_ord_upsampled.value_counts().to_frame())"
   ]
  },
  {
   "cell_type": "code",
   "execution_count": null,
   "metadata": {},
   "outputs": [],
   "source": [
    "%%time\n",
    "\n",
    "# Пробуем gridsearch\n",
    "from sklearn.model_selection import GridSearchCV\n",
    "#clf = RandomForestClassifier()\n",
    "parametrs = { 'n_estimators': range (10, 301, 10),\n",
    "              'max_depth': range (1, 43, 2)\n",
    "              }\n",
    "\n",
    "grid = GridSearchCV(RandomForestClassifier(), parametrs, cv=5)\n",
    "grid.fit(features_ohe_upsampled, target_ohe_upsampled)\n",
    "grid.best_params_\n"
   ]
  },
  {
   "cell_type": "code",
   "execution_count": 8,
   "metadata": {},
   "outputs": [
    {
     "name": "stdout",
     "output_type": "stream",
     "text": [
      "Лучшая F1-мера на валидационной выборке: 0.627\n",
      "Лучшая модель: \n",
      "RandomForestClassifier(max_depth=33, min_samples_leaf=6, n_estimators=60,\n",
      "                       random_state=12345)\n",
      "Матрица ошибок: \n",
      "[[1376  206]\n",
      " [ 133  285]]\n",
      "Лучшее минимальное количество выборок внутреннего узла: 9\n",
      "Доля правильных ответов: 0.8305\n",
      "Полнота: 0.6818181818181818\n",
      "Точность: 0.5804480651731161\n"
     ]
    }
   ],
   "source": [
    "min_samples_leaf = 0\n",
    "best_f1 = 0\n",
    "\n",
    "for samples_leaf in range(1, 10):\n",
    "    model = RandomForestClassifier(n_estimators=60, max_depth = 33, random_state=12345, min_samples_leaf = samples_leaf)\n",
    "    model.fit(features_ohe_upsampled, target_ohe_upsampled)\n",
    "    predictions = model.predict(features_ohe_valid)\n",
    "    f1 = f1_score(target_ohe_valid, predictions)\n",
    "    if f1 > best_f1:\n",
    "        best_model = model\n",
    "        best_f1 = f1\n",
    "        min_samples_leaf = samples_leaf\n",
    "        con_matrix = confusion_matrix(target_ohe_valid, predictions)\n",
    "        accuracy = accuracy_score(target_ohe_valid, predictions)\n",
    "        recall = recall_score(target_ohe_valid, predictions)\n",
    "        precision = precision_score(target_ohe_valid, predictions)\n",
    "            \n",
    "\n",
    "print(f'Лучшая F1-мера на валидационной выборке: {best_f1:.3f}')\n",
    "print(f'Лучшая модель: \\n{best_model}')\n",
    "print(f'Матрица ошибок: \\n{con_matrix}')\n",
    "print(f'Лучшее минимальное количество выборок внутреннего узла: {samples_leaf}')\n",
    "print(f'Доля правильных ответов: {accuracy}')\n",
    "print(f'Полнота: {recall}')\n",
    "print(f'Точность: {precision}')"
   ]
  },
  {
   "cell_type": "code",
   "execution_count": 9,
   "metadata": {},
   "outputs": [
    {
     "name": "stdout",
     "output_type": "stream",
     "text": [
      "F1-мера на тестовой выборке: 0.607\n",
      "Модель: \n",
      "RandomForestClassifier(max_depth=33, min_samples_leaf=9, n_estimators=60,\n",
      "                       random_state=12345)\n",
      "Матрица ошибок: \n",
      "[[1342  235]\n",
      " [ 136  287]]\n",
      "Доля правильных ответов: 0.8145\n",
      "Полнота: 0.6784869976359338\n",
      "Точность: 0.5498084291187739\n",
      "Метрика AUC_ROC: 0.8490010222660432\n"
     ]
    }
   ],
   "source": [
    "# Проверяем модель на тестовых данных с гиперпараметрами gridsearch\n",
    "model = RandomForestClassifier(n_estimators=60, max_depth = 33, random_state=12345, min_samples_leaf = 9)\n",
    "model.fit(features_ohe_upsampled, target_ohe_upsampled)\n",
    "predictions = model.predict(features_ohe_test)\n",
    "f1 = f1_score(target_ohe_test, predictions)\n",
    "con_matrix = confusion_matrix(target_ohe_test, predictions)\n",
    "accuracy = accuracy_score(target_ohe_test, predictions)\n",
    "recall = recall_score(target_ohe_test, predictions)\n",
    "precision = precision_score(target_ohe_test, predictions)\n",
    "probabilities_one_test = model.predict_proba(features_ohe_valid)[:, 1]\n",
    "roc_auc = roc_auc_score(target_ohe_valid, probabilities_one_test)            \n",
    "\n",
    "print(f'F1-мера на тестовой выборке: {f1:.3f}')\n",
    "print(f'Модель: \\n{model}')\n",
    "print(f'Матрица ошибок: \\n{con_matrix}')\n",
    "print(f'Доля правильных ответов: {accuracy}')\n",
    "print(f'Полнота: {recall}')\n",
    "print(f'Точность: {precision}')\n",
    "print(f'Метрика AUC_ROC: {roc_auc}')"
   ]
  },
  {
   "cell_type": "code",
   "execution_count": 10,
   "metadata": {},
   "outputs": [],
   "source": [
    "#from sklearn.experimental import enable_halving_search_cv \n",
    "\n",
    "#from sklearn.model_selection import HalvingGridSearchCV"
   ]
  },
  {
   "cell_type": "code",
   "execution_count": 11,
   "metadata": {},
   "outputs": [
    {
     "name": "stdout",
     "output_type": "stream",
     "text": [
      "Collecting tune_sklearn\n",
      "  Downloading tune_sklearn-0.4.5-py3-none-any.whl (41 kB)\n",
      "\u001b[K     |████████████████████████████████| 41 kB 91 kB/s  eta 0:00:011\n",
      "\u001b[?25hRequirement already satisfied: scikit-learn in /opt/conda/lib/python3.9/site-packages (from tune_sklearn) (0.24.1)\n",
      "Requirement already satisfied: scipy in /opt/conda/lib/python3.9/site-packages (from tune_sklearn) (1.9.1)\n",
      "Requirement already satisfied: numpy>=1.16 in /opt/conda/lib/python3.9/site-packages (from tune_sklearn) (1.21.1)\n",
      "Collecting ray[tune]>=2.0.0\n",
      "  Downloading ray-2.1.0-cp39-cp39-manylinux2014_x86_64.whl (58.8 MB)\n",
      "\u001b[K     |████████████████████████████████| 58.8 MB 41 kB/s  eta 0:00:01\n",
      "\u001b[?25hRequirement already satisfied: requests in /opt/conda/lib/python3.9/site-packages (from ray[tune]>=2.0.0->tune_sklearn) (2.25.1)\n",
      "Requirement already satisfied: protobuf!=3.19.5,>=3.15.3 in /opt/conda/lib/python3.9/site-packages (from ray[tune]>=2.0.0->tune_sklearn) (3.19.4)\n",
      "Collecting frozenlist\n",
      "  Downloading frozenlist-1.3.3-cp39-cp39-manylinux_2_5_x86_64.manylinux1_x86_64.manylinux_2_17_x86_64.manylinux2014_x86_64.whl (158 kB)\n",
      "\u001b[K     |████████████████████████████████| 158 kB 82.5 MB/s eta 0:00:01\n",
      "\u001b[?25hRequirement already satisfied: jsonschema in /opt/conda/lib/python3.9/site-packages (from ray[tune]>=2.0.0->tune_sklearn) (3.2.0)\n",
      "Collecting virtualenv>=20.0.24\n",
      "  Downloading virtualenv-20.16.7-py3-none-any.whl (8.8 MB)\n",
      "\u001b[K     |████████████████████████████████| 8.8 MB 82.4 MB/s eta 0:00:01\n",
      "\u001b[?25hCollecting msgpack<2.0.0,>=1.0.0\n",
      "  Downloading msgpack-1.0.4-cp39-cp39-manylinux_2_17_x86_64.manylinux2014_x86_64.whl (322 kB)\n",
      "\u001b[K     |████████████████████████████████| 322 kB 51.5 MB/s eta 0:00:01\n",
      "\u001b[?25hCollecting click<=8.0.4,>=7.0\n",
      "  Downloading click-8.0.4-py3-none-any.whl (97 kB)\n",
      "\u001b[K     |████████████████████████████████| 97 kB 8.1 MB/s  eta 0:00:01\n",
      "\u001b[?25hRequirement already satisfied: pyyaml in /opt/conda/lib/python3.9/site-packages (from ray[tune]>=2.0.0->tune_sklearn) (6.0)\n",
      "Collecting aiosignal\n",
      "  Downloading aiosignal-1.3.1-py3-none-any.whl (7.6 kB)\n",
      "Requirement already satisfied: filelock in /opt/conda/lib/python3.9/site-packages (from ray[tune]>=2.0.0->tune_sklearn) (3.8.0)\n",
      "Requirement already satisfied: attrs in /opt/conda/lib/python3.9/site-packages (from ray[tune]>=2.0.0->tune_sklearn) (21.2.0)\n",
      "Requirement already satisfied: grpcio>=1.32.0 in /opt/conda/lib/python3.9/site-packages (from ray[tune]>=2.0.0->tune_sklearn) (1.47.0)\n",
      "Requirement already satisfied: pandas in /opt/conda/lib/python3.9/site-packages (from ray[tune]>=2.0.0->tune_sklearn) (1.2.4)\n",
      "Collecting tensorboardX>=1.9\n",
      "  Downloading tensorboardX-2.5.1-py2.py3-none-any.whl (125 kB)\n",
      "\u001b[K     |████████████████████████████████| 125 kB 88.0 MB/s eta 0:00:01\n",
      "\u001b[?25hCollecting tabulate\n",
      "  Downloading tabulate-0.9.0-py3-none-any.whl (35 kB)\n",
      "Requirement already satisfied: six>=1.5.2 in /opt/conda/lib/python3.9/site-packages (from grpcio>=1.32.0->ray[tune]>=2.0.0->tune_sklearn) (1.16.0)\n",
      "Collecting distlib<1,>=0.3.6\n",
      "  Downloading distlib-0.3.6-py2.py3-none-any.whl (468 kB)\n",
      "\u001b[K     |████████████████████████████████| 468 kB 63.9 MB/s eta 0:00:01\n",
      "\u001b[?25hCollecting platformdirs<3,>=2.4\n",
      "  Downloading platformdirs-2.5.4-py3-none-any.whl (14 kB)\n",
      "Requirement already satisfied: pyrsistent>=0.14.0 in /opt/conda/lib/python3.9/site-packages (from jsonschema->ray[tune]>=2.0.0->tune_sklearn) (0.17.3)\n",
      "Requirement already satisfied: setuptools in /opt/conda/lib/python3.9/site-packages (from jsonschema->ray[tune]>=2.0.0->tune_sklearn) (49.6.0.post20210108)\n",
      "Requirement already satisfied: python-dateutil>=2.7.3 in /opt/conda/lib/python3.9/site-packages (from pandas->ray[tune]>=2.0.0->tune_sklearn) (2.8.1)\n",
      "Requirement already satisfied: pytz>=2017.3 in /opt/conda/lib/python3.9/site-packages (from pandas->ray[tune]>=2.0.0->tune_sklearn) (2021.1)\n",
      "Requirement already satisfied: urllib3<1.27,>=1.21.1 in /opt/conda/lib/python3.9/site-packages (from requests->ray[tune]>=2.0.0->tune_sklearn) (1.26.6)\n",
      "Requirement already satisfied: chardet<5,>=3.0.2 in /opt/conda/lib/python3.9/site-packages (from requests->ray[tune]>=2.0.0->tune_sklearn) (4.0.0)\n",
      "Requirement already satisfied: idna<3,>=2.5 in /opt/conda/lib/python3.9/site-packages (from requests->ray[tune]>=2.0.0->tune_sklearn) (2.10)\n",
      "Requirement already satisfied: certifi>=2017.4.17 in /opt/conda/lib/python3.9/site-packages (from requests->ray[tune]>=2.0.0->tune_sklearn) (2022.6.15)\n",
      "Requirement already satisfied: threadpoolctl>=2.0.0 in /opt/conda/lib/python3.9/site-packages (from scikit-learn->tune_sklearn) (3.1.0)\n",
      "Requirement already satisfied: joblib>=0.11 in /opt/conda/lib/python3.9/site-packages (from scikit-learn->tune_sklearn) (1.1.0)\n",
      "Installing collected packages: platformdirs, frozenlist, distlib, virtualenv, msgpack, click, aiosignal, tensorboardX, tabulate, ray, tune-sklearn\n",
      "  Attempting uninstall: click\n",
      "    Found existing installation: click 8.1.3\n",
      "    Uninstalling click-8.1.3:\n",
      "      Successfully uninstalled click-8.1.3\n",
      "Successfully installed aiosignal-1.3.1 click-8.0.4 distlib-0.3.6 frozenlist-1.3.3 msgpack-1.0.4 platformdirs-2.5.4 ray-2.1.0 tabulate-0.9.0 tensorboardX-2.5.1 tune-sklearn-0.4.5 virtualenv-20.16.7\n"
     ]
    }
   ],
   "source": [
    "!pip install tune_sklearn\n"
   ]
  },
  {
   "cell_type": "code",
   "execution_count": null,
   "metadata": {},
   "outputs": [
    {
     "data": {
      "text/html": [],
      "text/plain": [
       "<IPython.core.display.HTML object>"
      ]
     },
     "metadata": {},
     "output_type": "display_data"
    }
   ],
   "source": [
    "%%time\n",
    "\n",
    "from tune_sklearn import TuneSearchCV\n",
    "from scipy.stats import randint\n",
    "clf = RandomForestClassifier()\n",
    "param_distributions = {\n",
    "    \"n_estimators\": randint(30, 160),\n",
    "    \"max_depth\": randint(10, 40)\n",
    "}\n",
    "tune_search = TuneSearchCV(clf, param_distributions, n_trials=3)\n",
    "\n",
    "tune_search.fit(features_ohe_upsampled, target_ohe_upsampled)\n",
    "\n",
    "predictions = tune_search.predict(features_ohe_test)\n",
    "#accuracy = np.count_nonzero(np.array(pred) == np.array(target_ohe_test)) / len(predictions)\n",
    "f1 = f1_score(target_ohe_test, predictions)\n",
    "#print(accuracy)\n",
    "#print(f1)\n",
    "con_matrix = confusion_matrix(target_ohe_test, predictions)\n",
    "accuracy = accuracy_score(target_ohe_test, predictions)\n",
    "recall = recall_score(target_ohe_test, predictions)\n",
    "precision = precision_score(target_ohe_test, predictions)\n",
    "probabilities_one_test = model.predict_proba(features_ohe_valid)[:, 1]\n",
    "roc_auc = roc_auc_score(target_ohe_valid, probabilities_one_test) \n",
    "\n",
    "print(f'F1-мера на тестовой выборке: {f1:.3f}')\n",
    "print(f'Модель: \\n{tune_search}')\n",
    "print(f'Матрица ошибок: \\n{con_matrix}')\n",
    "print(f'Доля правильных ответов: {accuracy}')\n",
    "print(f'Полнота: {recall}')\n",
    "print(f'Точность: {precision}')\n",
    "print(f'Метрика AUC_ROC: {roc_auc}')"
   ]
  },
  {
   "cell_type": "code",
   "execution_count": null,
   "metadata": {},
   "outputs": [],
   "source": []
  }
 ],
 "metadata": {
  "ExecuteTimeLog": [
   {
    "duration": 1762,
    "start_time": "2022-11-18T07:36:18.587Z"
   },
   {
    "duration": 167,
    "start_time": "2022-11-18T07:36:22.022Z"
   },
   {
    "duration": 42,
    "start_time": "2022-11-18T07:37:27.045Z"
   },
   {
    "duration": 110,
    "start_time": "2022-11-18T07:39:47.949Z"
   },
   {
    "duration": 77,
    "start_time": "2022-11-18T11:55:53.892Z"
   },
   {
    "duration": 54,
    "start_time": "2022-11-18T11:56:11.490Z"
   },
   {
    "duration": 1653,
    "start_time": "2022-11-18T11:56:20.666Z"
   },
   {
    "duration": 139,
    "start_time": "2022-11-18T11:56:25.887Z"
   },
   {
    "duration": 62,
    "start_time": "2022-11-18T11:57:23.641Z"
   },
   {
    "duration": 69,
    "start_time": "2022-11-18T11:57:42.533Z"
   },
   {
    "duration": 7,
    "start_time": "2022-11-18T11:58:03.565Z"
   },
   {
    "duration": 52,
    "start_time": "2022-11-18T11:58:05.919Z"
   },
   {
    "duration": 173,
    "start_time": "2022-11-18T12:02:26.443Z"
   },
   {
    "duration": 5,
    "start_time": "2022-11-18T12:05:44.322Z"
   },
   {
    "duration": 14,
    "start_time": "2022-11-18T12:05:58.252Z"
   },
   {
    "duration": 43,
    "start_time": "2022-11-18T12:06:18.056Z"
   },
   {
    "duration": 9,
    "start_time": "2022-11-18T12:08:06.095Z"
   },
   {
    "duration": 4,
    "start_time": "2022-11-18T12:08:37.713Z"
   },
   {
    "duration": 1646,
    "start_time": "2022-11-18T16:20:47.208Z"
   },
   {
    "duration": 94,
    "start_time": "2022-11-18T16:20:48.856Z"
   },
   {
    "duration": 8,
    "start_time": "2022-11-18T16:20:48.952Z"
   },
   {
    "duration": 7,
    "start_time": "2022-11-18T16:20:48.961Z"
   },
   {
    "duration": 14,
    "start_time": "2022-11-18T16:20:48.970Z"
   },
   {
    "duration": 41,
    "start_time": "2022-11-18T16:20:48.986Z"
   },
   {
    "duration": 8,
    "start_time": "2022-11-18T16:20:52.324Z"
   },
   {
    "duration": 6,
    "start_time": "2022-11-18T16:22:16.989Z"
   },
   {
    "duration": 3,
    "start_time": "2022-11-18T16:22:17.607Z"
   },
   {
    "duration": 50,
    "start_time": "2022-11-18T16:22:24.090Z"
   },
   {
    "duration": 7,
    "start_time": "2022-11-18T16:22:36.777Z"
   },
   {
    "duration": 4,
    "start_time": "2022-11-18T16:22:43.345Z"
   },
   {
    "duration": 41,
    "start_time": "2022-11-18T16:23:19.197Z"
   },
   {
    "duration": 105,
    "start_time": "2022-11-18T16:31:52.388Z"
   },
   {
    "duration": 5,
    "start_time": "2022-11-18T16:32:08.581Z"
   },
   {
    "duration": 12,
    "start_time": "2022-11-18T16:32:18.159Z"
   },
   {
    "duration": 13,
    "start_time": "2022-11-18T16:39:10.445Z"
   },
   {
    "duration": 14,
    "start_time": "2022-11-18T16:42:26.478Z"
   },
   {
    "duration": 743,
    "start_time": "2022-11-18T16:45:08.424Z"
   },
   {
    "duration": 13,
    "start_time": "2022-11-18T16:45:59.064Z"
   },
   {
    "duration": 15,
    "start_time": "2022-11-18T16:46:19.640Z"
   },
   {
    "duration": 8,
    "start_time": "2022-11-18T16:46:29.730Z"
   },
   {
    "duration": 10,
    "start_time": "2022-11-18T16:46:29.739Z"
   },
   {
    "duration": 53,
    "start_time": "2022-11-18T16:46:29.751Z"
   },
   {
    "duration": 7,
    "start_time": "2022-11-18T16:46:29.806Z"
   },
   {
    "duration": 4,
    "start_time": "2022-11-18T16:46:29.840Z"
   },
   {
    "duration": 7,
    "start_time": "2022-11-18T16:46:29.846Z"
   },
   {
    "duration": 13,
    "start_time": "2022-11-18T16:46:29.855Z"
   },
   {
    "duration": 13,
    "start_time": "2022-11-18T16:46:33.767Z"
   },
   {
    "duration": 3,
    "start_time": "2022-11-18T16:46:39.871Z"
   },
   {
    "duration": 12,
    "start_time": "2022-11-18T16:46:44.379Z"
   },
   {
    "duration": 19,
    "start_time": "2022-11-18T16:46:51.915Z"
   },
   {
    "duration": 7,
    "start_time": "2022-11-18T16:47:13.150Z"
   },
   {
    "duration": 10,
    "start_time": "2022-11-18T16:47:13.159Z"
   },
   {
    "duration": 54,
    "start_time": "2022-11-18T16:47:13.171Z"
   },
   {
    "duration": 7,
    "start_time": "2022-11-18T16:47:13.227Z"
   },
   {
    "duration": 22,
    "start_time": "2022-11-18T16:47:13.235Z"
   },
   {
    "duration": 7,
    "start_time": "2022-11-18T16:47:13.258Z"
   },
   {
    "duration": 15,
    "start_time": "2022-11-18T16:47:13.266Z"
   },
   {
    "duration": 13,
    "start_time": "2022-11-18T16:47:18.276Z"
   },
   {
    "duration": 8,
    "start_time": "2022-11-18T16:48:29.894Z"
   },
   {
    "duration": 12,
    "start_time": "2022-11-18T16:56:19.503Z"
   },
   {
    "duration": 16,
    "start_time": "2022-11-18T16:57:21.259Z"
   },
   {
    "duration": 5845,
    "start_time": "2022-11-18T16:57:51.522Z"
   },
   {
    "duration": 35423,
    "start_time": "2022-11-18T16:59:09.160Z"
   },
   {
    "duration": 34,
    "start_time": "2022-11-18T17:01:29.582Z"
   },
   {
    "duration": 730,
    "start_time": "2022-11-18T17:01:53.915Z"
   },
   {
    "duration": 769,
    "start_time": "2022-11-18T17:02:27.897Z"
   },
   {
    "duration": 35,
    "start_time": "2022-11-18T17:03:57.329Z"
   },
   {
    "duration": 76,
    "start_time": "2022-11-18T17:23:38.809Z"
   },
   {
    "duration": 8,
    "start_time": "2022-11-18T17:24:11.266Z"
   },
   {
    "duration": 423,
    "start_time": "2022-11-18T17:24:39.028Z"
   },
   {
    "duration": 555,
    "start_time": "2022-11-18T17:25:14.807Z"
   },
   {
    "duration": 8,
    "start_time": "2022-11-18T17:26:05.800Z"
   },
   {
    "duration": 10,
    "start_time": "2022-11-18T17:26:19.472Z"
   },
   {
    "duration": 15,
    "start_time": "2022-11-18T17:26:33.090Z"
   },
   {
    "duration": 13,
    "start_time": "2022-11-18T17:29:19.249Z"
   },
   {
    "duration": 249,
    "start_time": "2022-11-18T17:30:58.000Z"
   },
   {
    "duration": 19,
    "start_time": "2022-11-18T17:33:41.748Z"
   },
   {
    "duration": 14,
    "start_time": "2022-11-18T17:34:00.686Z"
   },
   {
    "duration": 17,
    "start_time": "2022-11-18T17:34:16.093Z"
   },
   {
    "duration": 8,
    "start_time": "2022-11-18T17:34:39.287Z"
   },
   {
    "duration": 13,
    "start_time": "2022-11-18T17:35:01.455Z"
   },
   {
    "duration": 24,
    "start_time": "2022-11-18T17:37:38.912Z"
   },
   {
    "duration": 13,
    "start_time": "2022-11-18T17:38:15.927Z"
   },
   {
    "duration": 8,
    "start_time": "2022-11-18T17:38:28.369Z"
   },
   {
    "duration": 4,
    "start_time": "2022-11-18T17:40:15.728Z"
   },
   {
    "duration": 11,
    "start_time": "2022-11-18T17:43:36.592Z"
   },
   {
    "duration": 4,
    "start_time": "2022-11-18T17:44:16.759Z"
   },
   {
    "duration": 5,
    "start_time": "2022-11-18T17:44:53.090Z"
   },
   {
    "duration": 5,
    "start_time": "2022-11-18T17:46:00.727Z"
   },
   {
    "duration": 1698,
    "start_time": "2022-11-18T17:48:16.769Z"
   },
   {
    "duration": 2246,
    "start_time": "2022-11-18T17:48:34.376Z"
   },
   {
    "duration": 2673,
    "start_time": "2022-11-18T17:49:20.924Z"
   },
   {
    "duration": 58,
    "start_time": "2022-11-18T17:52:46.081Z"
   },
   {
    "duration": 5,
    "start_time": "2022-11-18T17:53:06.722Z"
   },
   {
    "duration": 28,
    "start_time": "2022-11-18T17:53:23.884Z"
   },
   {
    "duration": 8,
    "start_time": "2022-11-18T17:53:49.457Z"
   },
   {
    "duration": 13,
    "start_time": "2022-11-18T17:54:09.796Z"
   },
   {
    "duration": 11,
    "start_time": "2022-11-18T17:54:33.045Z"
   },
   {
    "duration": 8,
    "start_time": "2022-11-18T17:54:46.390Z"
   },
   {
    "duration": 15,
    "start_time": "2022-11-18T17:55:05.121Z"
   },
   {
    "duration": 6,
    "start_time": "2022-11-18T17:56:16.176Z"
   },
   {
    "duration": 10,
    "start_time": "2022-11-18T18:00:26.225Z"
   },
   {
    "duration": 36267,
    "start_time": "2022-11-18T18:01:15.567Z"
   },
   {
    "duration": 39,
    "start_time": "2022-11-18T18:03:29.812Z"
   },
   {
    "duration": 19,
    "start_time": "2022-11-18T18:33:45.918Z"
   },
   {
    "duration": 1928,
    "start_time": "2022-11-18T18:39:40.470Z"
   },
   {
    "duration": 2034,
    "start_time": "2022-11-18T18:39:56.453Z"
   },
   {
    "duration": 1335,
    "start_time": "2022-11-19T07:59:13.368Z"
   },
   {
    "duration": 3,
    "start_time": "2022-11-19T07:59:14.706Z"
   },
   {
    "duration": 58,
    "start_time": "2022-11-19T07:59:14.710Z"
   },
   {
    "duration": 7,
    "start_time": "2022-11-19T07:59:14.770Z"
   },
   {
    "duration": 4,
    "start_time": "2022-11-19T07:59:14.780Z"
   },
   {
    "duration": 8,
    "start_time": "2022-11-19T07:59:14.786Z"
   },
   {
    "duration": 12,
    "start_time": "2022-11-19T07:59:14.795Z"
   },
   {
    "duration": 13,
    "start_time": "2022-11-19T07:59:14.808Z"
   },
   {
    "duration": 7,
    "start_time": "2022-11-19T07:59:14.823Z"
   },
   {
    "duration": 6,
    "start_time": "2022-11-19T07:59:14.832Z"
   },
   {
    "duration": 64,
    "start_time": "2022-11-19T07:59:14.840Z"
   },
   {
    "duration": 6,
    "start_time": "2022-11-19T07:59:14.905Z"
   },
   {
    "duration": 13,
    "start_time": "2022-11-19T07:59:14.912Z"
   },
   {
    "duration": 12,
    "start_time": "2022-11-19T07:59:14.928Z"
   },
   {
    "duration": 2048,
    "start_time": "2022-11-19T07:59:14.941Z"
   },
   {
    "duration": 14,
    "start_time": "2022-11-19T07:59:16.992Z"
   },
   {
    "duration": 7,
    "start_time": "2022-11-19T07:59:17.008Z"
   },
   {
    "duration": 21,
    "start_time": "2022-11-19T07:59:17.016Z"
   },
   {
    "duration": 34599,
    "start_time": "2022-11-19T07:59:17.039Z"
   },
   {
    "duration": 122,
    "start_time": "2022-11-19T08:05:37.803Z"
   },
   {
    "duration": 17,
    "start_time": "2022-11-19T08:06:28.465Z"
   },
   {
    "duration": 10,
    "start_time": "2022-11-19T08:15:35.459Z"
   },
   {
    "duration": 14,
    "start_time": "2022-11-19T08:20:24.592Z"
   },
   {
    "duration": 9,
    "start_time": "2022-11-19T08:20:47.216Z"
   },
   {
    "duration": 18,
    "start_time": "2022-11-19T08:40:27.738Z"
   },
   {
    "duration": 1608,
    "start_time": "2022-11-22T11:11:46.177Z"
   },
   {
    "duration": 4,
    "start_time": "2022-11-22T11:11:47.787Z"
   },
   {
    "duration": 114,
    "start_time": "2022-11-22T11:11:50.781Z"
   },
   {
    "duration": 9,
    "start_time": "2022-11-22T11:11:54.465Z"
   },
   {
    "duration": 4,
    "start_time": "2022-11-22T11:11:58.884Z"
   },
   {
    "duration": 5,
    "start_time": "2022-11-22T11:12:01.334Z"
   },
   {
    "duration": 13,
    "start_time": "2022-11-22T11:12:07.780Z"
   },
   {
    "duration": 15,
    "start_time": "2022-11-22T11:12:09.987Z"
   },
   {
    "duration": 9,
    "start_time": "2022-11-22T11:12:13.786Z"
   },
   {
    "duration": 9,
    "start_time": "2022-11-22T11:12:18.655Z"
   },
   {
    "duration": 36,
    "start_time": "2022-11-22T11:12:22.420Z"
   },
   {
    "duration": 7,
    "start_time": "2022-11-22T11:12:30.068Z"
   },
   {
    "duration": 5,
    "start_time": "2022-11-22T11:12:32.453Z"
   },
   {
    "duration": 5,
    "start_time": "2022-11-22T11:12:34.935Z"
   },
   {
    "duration": 1877,
    "start_time": "2022-11-22T11:12:42.818Z"
   },
   {
    "duration": 13,
    "start_time": "2022-11-22T11:12:46.734Z"
   },
   {
    "duration": 5,
    "start_time": "2022-11-22T11:12:48.046Z"
   },
   {
    "duration": 16,
    "start_time": "2022-11-22T11:12:49.764Z"
   },
   {
    "duration": 34171,
    "start_time": "2022-11-22T11:12:52.697Z"
   },
   {
    "duration": 915,
    "start_time": "2022-11-22T11:15:56.514Z"
   },
   {
    "duration": 7,
    "start_time": "2022-11-22T11:16:51.582Z"
   },
   {
    "duration": 15,
    "start_time": "2022-11-22T11:16:51.592Z"
   },
   {
    "duration": 52,
    "start_time": "2022-11-22T11:16:51.609Z"
   },
   {
    "duration": 7,
    "start_time": "2022-11-22T11:16:51.663Z"
   },
   {
    "duration": 6,
    "start_time": "2022-11-22T11:16:51.672Z"
   },
   {
    "duration": 10,
    "start_time": "2022-11-22T11:16:51.680Z"
   },
   {
    "duration": 12,
    "start_time": "2022-11-22T11:16:51.692Z"
   },
   {
    "duration": 14,
    "start_time": "2022-11-22T11:16:55.240Z"
   },
   {
    "duration": 13,
    "start_time": "2022-11-22T11:18:00.956Z"
   },
   {
    "duration": 6,
    "start_time": "2022-11-22T11:18:06.320Z"
   },
   {
    "duration": 8,
    "start_time": "2022-11-22T11:18:06.328Z"
   },
   {
    "duration": 50,
    "start_time": "2022-11-22T11:18:06.337Z"
   },
   {
    "duration": 7,
    "start_time": "2022-11-22T11:18:06.390Z"
   },
   {
    "duration": 21,
    "start_time": "2022-11-22T11:18:06.398Z"
   },
   {
    "duration": 15,
    "start_time": "2022-11-22T11:18:06.421Z"
   },
   {
    "duration": 28,
    "start_time": "2022-11-22T11:18:06.438Z"
   },
   {
    "duration": 13,
    "start_time": "2022-11-22T11:18:13.451Z"
   },
   {
    "duration": 14,
    "start_time": "2022-11-22T11:19:06.231Z"
   },
   {
    "duration": 6,
    "start_time": "2022-11-22T11:20:04.048Z"
   },
   {
    "duration": 13,
    "start_time": "2022-11-22T11:20:04.056Z"
   },
   {
    "duration": 67,
    "start_time": "2022-11-22T11:20:04.071Z"
   },
   {
    "duration": 7,
    "start_time": "2022-11-22T11:20:04.140Z"
   },
   {
    "duration": 12,
    "start_time": "2022-11-22T11:20:04.148Z"
   },
   {
    "duration": 9,
    "start_time": "2022-11-22T11:20:04.161Z"
   },
   {
    "duration": 37,
    "start_time": "2022-11-22T11:20:04.171Z"
   },
   {
    "duration": 210,
    "start_time": "2022-11-22T11:20:09.574Z"
   },
   {
    "duration": 12,
    "start_time": "2022-11-22T11:20:20.329Z"
   },
   {
    "duration": 2,
    "start_time": "2022-11-22T11:20:41.419Z"
   },
   {
    "duration": 9,
    "start_time": "2022-11-22T11:20:41.988Z"
   },
   {
    "duration": 8,
    "start_time": "2022-11-22T11:20:43.474Z"
   },
   {
    "duration": 34,
    "start_time": "2022-11-22T11:20:53.742Z"
   },
   {
    "duration": 23,
    "start_time": "2022-11-22T11:21:29.826Z"
   },
   {
    "duration": 33,
    "start_time": "2022-11-22T11:23:00.846Z"
   },
   {
    "duration": 15,
    "start_time": "2022-11-22T11:23:19.154Z"
   },
   {
    "duration": 809,
    "start_time": "2022-11-22T11:26:09.614Z"
   },
   {
    "duration": 9,
    "start_time": "2022-11-22T11:26:20.437Z"
   },
   {
    "duration": 9,
    "start_time": "2022-11-22T11:27:32.867Z"
   },
   {
    "duration": 9,
    "start_time": "2022-11-22T11:27:45.315Z"
   },
   {
    "duration": 12,
    "start_time": "2022-11-22T11:28:09.773Z"
   },
   {
    "duration": 9,
    "start_time": "2022-11-22T11:29:10.997Z"
   },
   {
    "duration": 5,
    "start_time": "2022-11-22T11:29:22.028Z"
   },
   {
    "duration": 8,
    "start_time": "2022-11-22T11:30:00.851Z"
   },
   {
    "duration": 10,
    "start_time": "2022-11-22T11:30:34.513Z"
   },
   {
    "duration": 11,
    "start_time": "2022-11-22T11:30:43.974Z"
   },
   {
    "duration": 10,
    "start_time": "2022-11-22T11:31:04.149Z"
   },
   {
    "duration": 10,
    "start_time": "2022-11-22T11:31:16.179Z"
   },
   {
    "duration": 43,
    "start_time": "2022-11-22T11:31:36.196Z"
   },
   {
    "duration": 11,
    "start_time": "2022-11-22T11:31:43.239Z"
   },
   {
    "duration": 10,
    "start_time": "2022-11-22T11:31:59.571Z"
   },
   {
    "duration": 11,
    "start_time": "2022-11-22T11:32:04.340Z"
   },
   {
    "duration": 15,
    "start_time": "2022-11-22T11:32:18.234Z"
   },
   {
    "duration": 6,
    "start_time": "2022-11-22T11:35:15.365Z"
   },
   {
    "duration": 11,
    "start_time": "2022-11-22T11:35:33.851Z"
   },
   {
    "duration": 11,
    "start_time": "2022-11-22T11:35:49.437Z"
   },
   {
    "duration": 67,
    "start_time": "2022-11-22T11:37:20.757Z"
   },
   {
    "duration": 4,
    "start_time": "2022-11-22T11:38:03.972Z"
   },
   {
    "duration": 73,
    "start_time": "2022-11-22T11:38:08.314Z"
   },
   {
    "duration": 8,
    "start_time": "2022-11-22T11:39:06.335Z"
   },
   {
    "duration": 7,
    "start_time": "2022-11-22T11:40:03.982Z"
   },
   {
    "duration": 5,
    "start_time": "2022-11-22T11:41:07.670Z"
   },
   {
    "duration": 1906,
    "start_time": "2022-11-22T11:42:48.486Z"
   },
   {
    "duration": 13,
    "start_time": "2022-11-22T11:42:57.179Z"
   },
   {
    "duration": 4,
    "start_time": "2022-11-22T11:43:00.637Z"
   },
   {
    "duration": 15,
    "start_time": "2022-11-22T11:43:08.812Z"
   },
   {
    "duration": 34335,
    "start_time": "2022-11-22T11:43:12.307Z"
   },
   {
    "duration": 8,
    "start_time": "2022-11-22T11:52:36.335Z"
   },
   {
    "duration": 8,
    "start_time": "2022-11-22T11:52:46.053Z"
   },
   {
    "duration": 9,
    "start_time": "2022-11-22T11:54:30.659Z"
   },
   {
    "duration": 7,
    "start_time": "2022-11-22T11:54:49.647Z"
   },
   {
    "duration": 8,
    "start_time": "2022-11-22T11:54:55.717Z"
   },
   {
    "duration": 6,
    "start_time": "2022-11-22T11:55:14.547Z"
   },
   {
    "duration": 7,
    "start_time": "2022-11-22T11:55:38.181Z"
   },
   {
    "duration": 17,
    "start_time": "2022-11-22T12:02:10.298Z"
   },
   {
    "duration": 13,
    "start_time": "2022-11-22T12:04:41.763Z"
   },
   {
    "duration": 14,
    "start_time": "2022-11-22T12:04:54.573Z"
   },
   {
    "duration": 12,
    "start_time": "2022-11-22T12:05:21.168Z"
   },
   {
    "duration": 8,
    "start_time": "2022-11-22T12:05:47.215Z"
   },
   {
    "duration": 9,
    "start_time": "2022-11-22T12:09:14.565Z"
   },
   {
    "duration": 157,
    "start_time": "2022-11-22T12:14:20.100Z"
   },
   {
    "duration": 37,
    "start_time": "2022-11-22T12:14:27.877Z"
   },
   {
    "duration": 41,
    "start_time": "2022-11-22T12:14:46.473Z"
   },
   {
    "duration": 29,
    "start_time": "2022-11-22T12:15:06.084Z"
   },
   {
    "duration": 29,
    "start_time": "2022-11-22T12:16:02.611Z"
   },
   {
    "duration": 8,
    "start_time": "2022-11-22T12:16:08.231Z"
   },
   {
    "duration": 18,
    "start_time": "2022-11-22T12:16:08.240Z"
   },
   {
    "duration": 57,
    "start_time": "2022-11-22T12:16:08.260Z"
   },
   {
    "duration": 9,
    "start_time": "2022-11-22T12:16:08.319Z"
   },
   {
    "duration": 11,
    "start_time": "2022-11-22T12:16:08.330Z"
   },
   {
    "duration": 26,
    "start_time": "2022-11-22T12:16:08.343Z"
   },
   {
    "duration": 15,
    "start_time": "2022-11-22T12:16:08.371Z"
   },
   {
    "duration": 21,
    "start_time": "2022-11-22T12:16:08.388Z"
   },
   {
    "duration": 2,
    "start_time": "2022-11-22T12:16:08.411Z"
   },
   {
    "duration": 14,
    "start_time": "2022-11-22T12:16:08.415Z"
   },
   {
    "duration": 8,
    "start_time": "2022-11-22T12:16:08.431Z"
   },
   {
    "duration": 59,
    "start_time": "2022-11-22T12:16:08.441Z"
   },
   {
    "duration": 4,
    "start_time": "2022-11-22T12:16:08.501Z"
   },
   {
    "duration": 28,
    "start_time": "2022-11-22T12:16:08.508Z"
   },
   {
    "duration": 18,
    "start_time": "2022-11-22T12:16:08.537Z"
   },
   {
    "duration": 23,
    "start_time": "2022-11-22T12:16:08.556Z"
   },
   {
    "duration": 7,
    "start_time": "2022-11-22T12:16:08.581Z"
   },
   {
    "duration": 19,
    "start_time": "2022-11-22T12:16:08.589Z"
   },
   {
    "duration": 29,
    "start_time": "2022-11-22T12:16:08.609Z"
   },
   {
    "duration": 2007,
    "start_time": "2022-11-22T12:16:08.640Z"
   },
   {
    "duration": 13,
    "start_time": "2022-11-22T12:16:10.649Z"
   },
   {
    "duration": 43,
    "start_time": "2022-11-22T12:16:10.665Z"
   },
   {
    "duration": 44,
    "start_time": "2022-11-22T12:16:10.710Z"
   },
   {
    "duration": 34116,
    "start_time": "2022-11-22T12:16:10.755Z"
   },
   {
    "duration": 18,
    "start_time": "2022-11-22T12:16:44.872Z"
   },
   {
    "duration": 9,
    "start_time": "2022-11-22T12:16:44.916Z"
   },
   {
    "duration": 7,
    "start_time": "2022-11-22T12:17:12.519Z"
   },
   {
    "duration": 7,
    "start_time": "2022-11-22T12:17:15.399Z"
   },
   {
    "duration": 29,
    "start_time": "2022-11-22T12:17:17.177Z"
   },
   {
    "duration": 28,
    "start_time": "2022-11-22T12:17:56.982Z"
   },
   {
    "duration": 3,
    "start_time": "2022-11-22T12:18:34.998Z"
   },
   {
    "duration": 29,
    "start_time": "2022-11-22T12:19:03.123Z"
   },
   {
    "duration": 35,
    "start_time": "2022-11-22T12:19:39.136Z"
   },
   {
    "duration": 7,
    "start_time": "2022-11-22T12:20:52.092Z"
   },
   {
    "duration": 7,
    "start_time": "2022-11-22T12:21:30.972Z"
   },
   {
    "duration": 34,
    "start_time": "2022-11-22T12:25:01.026Z"
   },
   {
    "duration": 6,
    "start_time": "2022-11-22T12:25:02.548Z"
   },
   {
    "duration": 6,
    "start_time": "2022-11-22T12:25:03.613Z"
   },
   {
    "duration": 8,
    "start_time": "2022-11-22T12:26:09.996Z"
   },
   {
    "duration": 6,
    "start_time": "2022-11-22T12:27:45.991Z"
   },
   {
    "duration": 813,
    "start_time": "2022-11-22T12:38:54.253Z"
   },
   {
    "duration": 8,
    "start_time": "2022-11-22T12:39:02.688Z"
   },
   {
    "duration": 31,
    "start_time": "2022-11-22T12:39:02.699Z"
   },
   {
    "duration": 73,
    "start_time": "2022-11-22T12:39:02.732Z"
   },
   {
    "duration": 8,
    "start_time": "2022-11-22T12:39:02.807Z"
   },
   {
    "duration": 16,
    "start_time": "2022-11-22T12:39:02.816Z"
   },
   {
    "duration": 24,
    "start_time": "2022-11-22T12:39:02.833Z"
   },
   {
    "duration": 41,
    "start_time": "2022-11-22T12:39:02.859Z"
   },
   {
    "duration": 16,
    "start_time": "2022-11-22T12:39:06.388Z"
   },
   {
    "duration": 12,
    "start_time": "2022-11-22T12:39:14.777Z"
   },
   {
    "duration": 2,
    "start_time": "2022-11-22T12:39:18.683Z"
   },
   {
    "duration": 9,
    "start_time": "2022-11-22T12:39:19.341Z"
   },
   {
    "duration": 8,
    "start_time": "2022-11-22T12:39:23.788Z"
   },
   {
    "duration": 35,
    "start_time": "2022-11-22T12:39:33.936Z"
   },
   {
    "duration": 4,
    "start_time": "2022-11-22T12:39:37.778Z"
   },
   {
    "duration": 14,
    "start_time": "2022-11-22T12:39:40.495Z"
   },
   {
    "duration": 8,
    "start_time": "2022-11-22T12:39:42.195Z"
   },
   {
    "duration": 7,
    "start_time": "2022-11-22T12:39:44.323Z"
   },
   {
    "duration": 8,
    "start_time": "2022-11-22T12:39:45.484Z"
   },
   {
    "duration": 6,
    "start_time": "2022-11-22T12:39:46.476Z"
   },
   {
    "duration": 7,
    "start_time": "2022-11-22T12:39:47.292Z"
   },
   {
    "duration": 6,
    "start_time": "2022-11-22T12:40:31.788Z"
   },
   {
    "duration": 7,
    "start_time": "2022-11-22T12:40:32.556Z"
   },
   {
    "duration": 6,
    "start_time": "2022-11-22T12:40:33.583Z"
   },
   {
    "duration": 6,
    "start_time": "2022-11-22T12:40:34.326Z"
   },
   {
    "duration": 9,
    "start_time": "2022-11-22T13:10:59.845Z"
   },
   {
    "duration": 5,
    "start_time": "2022-11-22T13:10:59.857Z"
   },
   {
    "duration": 68,
    "start_time": "2022-11-22T13:10:59.864Z"
   },
   {
    "duration": 10,
    "start_time": "2022-11-22T13:10:59.934Z"
   },
   {
    "duration": 4,
    "start_time": "2022-11-22T13:12:10.746Z"
   },
   {
    "duration": 7,
    "start_time": "2022-11-22T13:12:12.397Z"
   },
   {
    "duration": 14,
    "start_time": "2022-11-22T13:12:13.033Z"
   },
   {
    "duration": 14,
    "start_time": "2022-11-22T13:12:14.663Z"
   },
   {
    "duration": 3,
    "start_time": "2022-11-22T13:12:15.395Z"
   },
   {
    "duration": 9,
    "start_time": "2022-11-22T13:12:16.169Z"
   },
   {
    "duration": 8,
    "start_time": "2022-11-22T13:12:17.368Z"
   },
   {
    "duration": 49,
    "start_time": "2022-11-22T13:12:17.608Z"
   },
   {
    "duration": 5,
    "start_time": "2022-11-22T13:12:18.606Z"
   },
   {
    "duration": 21,
    "start_time": "2022-11-22T13:12:19.372Z"
   },
   {
    "duration": 8,
    "start_time": "2022-11-22T13:12:20.024Z"
   },
   {
    "duration": 7,
    "start_time": "2022-11-22T13:12:20.753Z"
   },
   {
    "duration": 7,
    "start_time": "2022-11-22T13:12:21.494Z"
   },
   {
    "duration": 8,
    "start_time": "2022-11-22T13:12:22.132Z"
   },
   {
    "duration": 9,
    "start_time": "2022-11-22T13:12:22.831Z"
   },
   {
    "duration": 2136,
    "start_time": "2022-11-22T13:12:24.839Z"
   },
   {
    "duration": 14,
    "start_time": "2022-11-22T13:12:26.977Z"
   },
   {
    "duration": 10,
    "start_time": "2022-11-22T13:12:26.992Z"
   },
   {
    "duration": 23,
    "start_time": "2022-11-22T13:12:27.503Z"
   },
   {
    "duration": 35860,
    "start_time": "2022-11-22T13:12:28.259Z"
   },
   {
    "duration": 20,
    "start_time": "2022-11-22T13:13:04.121Z"
   },
   {
    "duration": 12,
    "start_time": "2022-11-22T13:13:04.142Z"
   },
   {
    "duration": 7,
    "start_time": "2022-11-22T13:13:04.156Z"
   },
   {
    "duration": 83,
    "start_time": "2022-11-22T13:13:04.165Z"
   },
   {
    "duration": 7,
    "start_time": "2022-11-22T13:13:04.249Z"
   },
   {
    "duration": 20,
    "start_time": "2022-11-22T13:13:04.258Z"
   },
   {
    "duration": 8,
    "start_time": "2022-11-22T13:13:04.280Z"
   },
   {
    "duration": 12,
    "start_time": "2022-11-22T13:13:04.290Z"
   },
   {
    "duration": 806,
    "start_time": "2022-11-22T13:13:04.304Z"
   },
   {
    "duration": 746,
    "start_time": "2022-11-22T13:15:40.798Z"
   },
   {
    "duration": 6,
    "start_time": "2022-11-22T13:25:00.957Z"
   },
   {
    "duration": 1618,
    "start_time": "2022-11-23T07:39:31.814Z"
   },
   {
    "duration": 4,
    "start_time": "2022-11-23T07:39:33.435Z"
   },
   {
    "duration": 110,
    "start_time": "2022-11-23T07:39:33.441Z"
   },
   {
    "duration": 7,
    "start_time": "2022-11-23T07:39:33.553Z"
   },
   {
    "duration": 6,
    "start_time": "2022-11-23T07:39:33.562Z"
   },
   {
    "duration": 17,
    "start_time": "2022-11-23T07:39:33.569Z"
   },
   {
    "duration": 18,
    "start_time": "2022-11-23T07:39:33.588Z"
   },
   {
    "duration": 13,
    "start_time": "2022-11-23T07:39:33.608Z"
   },
   {
    "duration": 13,
    "start_time": "2022-11-23T07:39:33.622Z"
   },
   {
    "duration": 10,
    "start_time": "2022-11-23T07:39:33.636Z"
   },
   {
    "duration": 7,
    "start_time": "2022-11-23T07:39:33.648Z"
   },
   {
    "duration": 34,
    "start_time": "2022-11-23T07:39:33.656Z"
   },
   {
    "duration": 5,
    "start_time": "2022-11-23T07:39:33.692Z"
   },
   {
    "duration": 42,
    "start_time": "2022-11-23T07:39:33.700Z"
   },
   {
    "duration": 7,
    "start_time": "2022-11-23T07:39:33.744Z"
   },
   {
    "duration": 8,
    "start_time": "2022-11-23T07:39:33.752Z"
   },
   {
    "duration": 8,
    "start_time": "2022-11-23T07:39:33.761Z"
   },
   {
    "duration": 9,
    "start_time": "2022-11-23T07:39:33.770Z"
   },
   {
    "duration": 7,
    "start_time": "2022-11-23T07:39:33.781Z"
   },
   {
    "duration": 1911,
    "start_time": "2022-11-23T07:39:33.790Z"
   },
   {
    "duration": 14,
    "start_time": "2022-11-23T07:39:35.703Z"
   },
   {
    "duration": 8,
    "start_time": "2022-11-23T07:39:35.718Z"
   },
   {
    "duration": 20,
    "start_time": "2022-11-23T07:39:35.728Z"
   },
   {
    "duration": 35599,
    "start_time": "2022-11-23T07:39:35.750Z"
   },
   {
    "duration": 19,
    "start_time": "2022-11-23T07:40:11.351Z"
   },
   {
    "duration": 19,
    "start_time": "2022-11-23T07:40:11.372Z"
   },
   {
    "duration": 11,
    "start_time": "2022-11-23T07:40:11.393Z"
   },
   {
    "duration": 61,
    "start_time": "2022-11-23T07:40:11.405Z"
   },
   {
    "duration": 6,
    "start_time": "2022-11-23T07:40:11.468Z"
   },
   {
    "duration": 20,
    "start_time": "2022-11-23T07:40:11.476Z"
   },
   {
    "duration": 8,
    "start_time": "2022-11-23T07:40:11.497Z"
   },
   {
    "duration": 28,
    "start_time": "2022-11-23T07:40:11.507Z"
   },
   {
    "duration": 126,
    "start_time": "2022-11-23T08:25:09.030Z"
   },
   {
    "duration": 22,
    "start_time": "2022-11-23T08:25:28.183Z"
   },
   {
    "duration": 44,
    "start_time": "2022-11-23T08:25:36.983Z"
   },
   {
    "duration": 26,
    "start_time": "2022-11-23T08:25:50.448Z"
   },
   {
    "duration": 27,
    "start_time": "2022-11-23T08:29:23.458Z"
   },
   {
    "duration": 1642,
    "start_time": "2022-11-23T17:05:57.011Z"
   },
   {
    "duration": 3,
    "start_time": "2022-11-23T17:05:58.655Z"
   },
   {
    "duration": 223,
    "start_time": "2022-11-23T17:05:58.659Z"
   },
   {
    "duration": 10,
    "start_time": "2022-11-23T17:05:58.887Z"
   },
   {
    "duration": 7,
    "start_time": "2022-11-23T17:05:58.911Z"
   },
   {
    "duration": 7,
    "start_time": "2022-11-23T17:05:58.919Z"
   },
   {
    "duration": 13,
    "start_time": "2022-11-23T17:05:58.927Z"
   },
   {
    "duration": 11,
    "start_time": "2022-11-23T17:05:58.942Z"
   },
   {
    "duration": 9,
    "start_time": "2022-11-23T17:05:58.955Z"
   },
   {
    "duration": 27,
    "start_time": "2022-11-23T17:05:58.966Z"
   },
   {
    "duration": 9,
    "start_time": "2022-11-23T17:05:58.996Z"
   },
   {
    "duration": 57,
    "start_time": "2022-11-23T17:05:59.007Z"
   },
   {
    "duration": 6,
    "start_time": "2022-11-23T17:05:59.065Z"
   },
   {
    "duration": 46,
    "start_time": "2022-11-23T17:05:59.075Z"
   },
   {
    "duration": 9,
    "start_time": "2022-11-23T17:05:59.123Z"
   },
   {
    "duration": 7,
    "start_time": "2022-11-23T17:05:59.134Z"
   },
   {
    "duration": 8,
    "start_time": "2022-11-23T17:05:59.142Z"
   },
   {
    "duration": 6,
    "start_time": "2022-11-23T17:05:59.151Z"
   },
   {
    "duration": 11,
    "start_time": "2022-11-23T17:05:59.159Z"
   },
   {
    "duration": 2085,
    "start_time": "2022-11-23T17:05:59.172Z"
   },
   {
    "duration": 11,
    "start_time": "2022-11-23T17:06:01.260Z"
   },
   {
    "duration": 48,
    "start_time": "2022-11-23T17:06:01.273Z"
   },
   {
    "duration": 21,
    "start_time": "2022-11-23T17:06:01.323Z"
   },
   {
    "duration": 38707,
    "start_time": "2022-11-23T17:06:01.346Z"
   },
   {
    "duration": 41,
    "start_time": "2022-11-23T17:06:40.055Z"
   },
   {
    "duration": 14,
    "start_time": "2022-11-23T17:06:40.100Z"
   },
   {
    "duration": 8,
    "start_time": "2022-11-23T17:06:40.115Z"
   },
   {
    "duration": 83,
    "start_time": "2022-11-23T17:06:40.124Z"
   },
   {
    "duration": 8,
    "start_time": "2022-11-23T17:06:40.209Z"
   },
   {
    "duration": 18,
    "start_time": "2022-11-23T17:06:40.219Z"
   },
   {
    "duration": 10,
    "start_time": "2022-11-23T17:06:40.239Z"
   },
   {
    "duration": 8,
    "start_time": "2022-11-23T17:06:40.252Z"
   },
   {
    "duration": 22,
    "start_time": "2022-11-23T17:06:40.261Z"
   },
   {
    "duration": 246,
    "start_time": "2022-11-23T17:22:52.957Z"
   },
   {
    "duration": 124,
    "start_time": "2022-11-23T17:23:33.837Z"
   },
   {
    "duration": 89,
    "start_time": "2022-11-23T17:23:56.962Z"
   },
   {
    "duration": 92,
    "start_time": "2022-11-23T17:24:12.844Z"
   },
   {
    "duration": 106,
    "start_time": "2022-11-23T17:24:48.408Z"
   },
   {
    "duration": 9,
    "start_time": "2022-11-23T17:25:21.791Z"
   },
   {
    "duration": 5,
    "start_time": "2022-11-23T17:26:53.136Z"
   },
   {
    "duration": 5,
    "start_time": "2022-11-23T17:27:10.901Z"
   },
   {
    "duration": 6,
    "start_time": "2022-11-23T17:27:22.631Z"
   },
   {
    "duration": 3,
    "start_time": "2022-11-23T17:27:23.637Z"
   },
   {
    "duration": 47,
    "start_time": "2022-11-23T17:27:25.606Z"
   },
   {
    "duration": 8,
    "start_time": "2022-11-23T17:27:27.402Z"
   },
   {
    "duration": 3,
    "start_time": "2022-11-23T17:27:30.713Z"
   },
   {
    "duration": 5,
    "start_time": "2022-11-23T17:27:32.206Z"
   },
   {
    "duration": 13,
    "start_time": "2022-11-23T17:27:32.855Z"
   },
   {
    "duration": 15,
    "start_time": "2022-11-23T17:27:34.155Z"
   },
   {
    "duration": 2,
    "start_time": "2022-11-23T17:27:34.823Z"
   },
   {
    "duration": 9,
    "start_time": "2022-11-23T17:27:35.520Z"
   },
   {
    "duration": 7,
    "start_time": "2022-11-23T17:27:36.341Z"
   },
   {
    "duration": 31,
    "start_time": "2022-11-23T17:27:37.516Z"
   },
   {
    "duration": 6,
    "start_time": "2022-11-23T17:27:38.803Z"
   },
   {
    "duration": 15,
    "start_time": "2022-11-23T17:27:39.846Z"
   },
   {
    "duration": 7,
    "start_time": "2022-11-23T17:27:40.718Z"
   },
   {
    "duration": 18,
    "start_time": "2022-11-23T17:27:41.376Z"
   },
   {
    "duration": 16,
    "start_time": "2022-11-23T17:27:42.172Z"
   },
   {
    "duration": 8,
    "start_time": "2022-11-23T17:27:42.920Z"
   },
   {
    "duration": 8,
    "start_time": "2022-11-23T17:27:43.573Z"
   },
   {
    "duration": 2025,
    "start_time": "2022-11-23T17:27:46.906Z"
   },
   {
    "duration": 14,
    "start_time": "2022-11-23T17:27:48.933Z"
   },
   {
    "duration": 6,
    "start_time": "2022-11-23T17:27:48.948Z"
   },
   {
    "duration": 18,
    "start_time": "2022-11-23T17:27:57.777Z"
   },
   {
    "duration": 35948,
    "start_time": "2022-11-23T17:27:59.348Z"
   },
   {
    "duration": 17,
    "start_time": "2022-11-23T17:28:35.298Z"
   },
   {
    "duration": 8,
    "start_time": "2022-11-23T17:28:35.316Z"
   },
   {
    "duration": 6,
    "start_time": "2022-11-23T17:28:35.326Z"
   },
   {
    "duration": 81,
    "start_time": "2022-11-23T17:28:35.333Z"
   },
   {
    "duration": 8,
    "start_time": "2022-11-23T17:28:35.416Z"
   },
   {
    "duration": 11,
    "start_time": "2022-11-23T17:28:35.426Z"
   },
   {
    "duration": 7,
    "start_time": "2022-11-23T17:28:35.439Z"
   },
   {
    "duration": 44,
    "start_time": "2022-11-23T17:28:35.448Z"
   },
   {
    "duration": 8,
    "start_time": "2022-11-23T17:28:35.495Z"
   },
   {
    "duration": 4,
    "start_time": "2022-11-23T17:28:45.915Z"
   },
   {
    "duration": 5,
    "start_time": "2022-11-23T17:28:59.074Z"
   },
   {
    "duration": 4,
    "start_time": "2022-11-23T17:34:06.704Z"
   },
   {
    "duration": 24,
    "start_time": "2022-11-23T17:34:09.066Z"
   },
   {
    "duration": 4,
    "start_time": "2022-11-23T17:35:11.999Z"
   },
   {
    "duration": 5,
    "start_time": "2022-11-23T17:36:05.456Z"
   },
   {
    "duration": 12,
    "start_time": "2022-11-23T17:36:32.539Z"
   },
   {
    "duration": 5,
    "start_time": "2022-11-23T17:36:40.723Z"
   },
   {
    "duration": 12,
    "start_time": "2022-11-23T17:36:41.799Z"
   },
   {
    "duration": 5,
    "start_time": "2022-11-23T17:37:35.457Z"
   },
   {
    "duration": 13,
    "start_time": "2022-11-23T17:37:38.110Z"
   },
   {
    "duration": 4,
    "start_time": "2022-11-23T17:38:08.412Z"
   },
   {
    "duration": 11,
    "start_time": "2022-11-23T17:38:09.553Z"
   },
   {
    "duration": 4,
    "start_time": "2022-11-23T17:38:39.718Z"
   },
   {
    "duration": 13,
    "start_time": "2022-11-23T17:38:40.606Z"
   },
   {
    "duration": 5,
    "start_time": "2022-11-23T17:39:29.737Z"
   },
   {
    "duration": 6,
    "start_time": "2022-11-23T17:40:56.160Z"
   },
   {
    "duration": 12,
    "start_time": "2022-11-23T17:40:57.373Z"
   },
   {
    "duration": 5,
    "start_time": "2022-11-23T17:42:18.241Z"
   },
   {
    "duration": 11,
    "start_time": "2022-11-23T17:42:19.451Z"
   },
   {
    "duration": 6,
    "start_time": "2022-11-23T17:42:30.506Z"
   },
   {
    "duration": 37,
    "start_time": "2022-11-23T17:42:30.514Z"
   },
   {
    "duration": 68,
    "start_time": "2022-11-23T17:42:30.553Z"
   },
   {
    "duration": 7,
    "start_time": "2022-11-23T17:42:30.623Z"
   },
   {
    "duration": 26,
    "start_time": "2022-11-23T17:42:30.632Z"
   },
   {
    "duration": 40,
    "start_time": "2022-11-23T17:42:30.660Z"
   },
   {
    "duration": 25,
    "start_time": "2022-11-23T17:42:30.701Z"
   },
   {
    "duration": 29,
    "start_time": "2022-11-23T17:42:30.727Z"
   },
   {
    "duration": 13,
    "start_time": "2022-11-23T17:42:30.757Z"
   },
   {
    "duration": 19,
    "start_time": "2022-11-23T17:42:30.772Z"
   },
   {
    "duration": 35,
    "start_time": "2022-11-23T17:42:30.793Z"
   },
   {
    "duration": 42,
    "start_time": "2022-11-23T17:42:30.830Z"
   },
   {
    "duration": 4,
    "start_time": "2022-11-23T17:42:30.874Z"
   },
   {
    "duration": 29,
    "start_time": "2022-11-23T17:42:30.881Z"
   },
   {
    "duration": 31,
    "start_time": "2022-11-23T17:42:30.912Z"
   },
   {
    "duration": 12,
    "start_time": "2022-11-23T17:42:30.945Z"
   },
   {
    "duration": 21,
    "start_time": "2022-11-23T17:42:30.959Z"
   },
   {
    "duration": 8,
    "start_time": "2022-11-23T17:42:30.982Z"
   },
   {
    "duration": 16,
    "start_time": "2022-11-23T17:42:30.992Z"
   },
   {
    "duration": 1974,
    "start_time": "2022-11-23T17:42:31.010Z"
   },
   {
    "duration": 12,
    "start_time": "2022-11-23T17:42:32.986Z"
   },
   {
    "duration": 9,
    "start_time": "2022-11-23T17:42:33.000Z"
   },
   {
    "duration": 23,
    "start_time": "2022-11-23T17:42:33.011Z"
   },
   {
    "duration": 32945,
    "start_time": "2022-11-23T17:42:33.036Z"
   },
   {
    "duration": 16,
    "start_time": "2022-11-23T17:43:05.982Z"
   },
   {
    "duration": 8,
    "start_time": "2022-11-23T17:43:06.000Z"
   },
   {
    "duration": 8,
    "start_time": "2022-11-23T17:43:06.010Z"
   },
   {
    "duration": 78,
    "start_time": "2022-11-23T17:43:06.019Z"
   },
   {
    "duration": 6,
    "start_time": "2022-11-23T17:43:06.099Z"
   },
   {
    "duration": 9,
    "start_time": "2022-11-23T17:43:06.107Z"
   },
   {
    "duration": 8,
    "start_time": "2022-11-23T17:43:06.118Z"
   },
   {
    "duration": 8,
    "start_time": "2022-11-23T17:43:06.128Z"
   },
   {
    "duration": 8,
    "start_time": "2022-11-23T17:43:06.137Z"
   },
   {
    "duration": 4,
    "start_time": "2022-11-23T17:43:18.343Z"
   },
   {
    "duration": 12,
    "start_time": "2022-11-23T17:43:19.297Z"
   },
   {
    "duration": 5,
    "start_time": "2022-11-23T17:44:28.812Z"
   },
   {
    "duration": 11,
    "start_time": "2022-11-23T17:44:29.694Z"
   },
   {
    "duration": 4,
    "start_time": "2022-11-23T17:44:58.749Z"
   },
   {
    "duration": 14,
    "start_time": "2022-11-23T17:44:59.885Z"
   },
   {
    "duration": 5,
    "start_time": "2022-11-23T17:45:29.812Z"
   },
   {
    "duration": 13,
    "start_time": "2022-11-23T17:45:30.623Z"
   },
   {
    "duration": 6,
    "start_time": "2022-11-23T17:49:11.022Z"
   },
   {
    "duration": 4,
    "start_time": "2022-11-23T17:49:11.868Z"
   },
   {
    "duration": 48,
    "start_time": "2022-11-23T17:49:22.906Z"
   },
   {
    "duration": 10,
    "start_time": "2022-11-23T17:49:24.061Z"
   },
   {
    "duration": 4,
    "start_time": "2022-11-23T17:49:25.086Z"
   },
   {
    "duration": 6,
    "start_time": "2022-11-23T17:49:26.929Z"
   },
   {
    "duration": 12,
    "start_time": "2022-11-23T17:49:27.670Z"
   },
   {
    "duration": 12,
    "start_time": "2022-11-23T17:49:29.230Z"
   },
   {
    "duration": 2,
    "start_time": "2022-11-23T17:49:33.406Z"
   },
   {
    "duration": 8,
    "start_time": "2022-11-23T17:49:34.430Z"
   },
   {
    "duration": 7,
    "start_time": "2022-11-23T17:49:35.267Z"
   },
   {
    "duration": 33,
    "start_time": "2022-11-23T17:49:36.277Z"
   },
   {
    "duration": 5,
    "start_time": "2022-11-23T17:49:37.034Z"
   },
   {
    "duration": 14,
    "start_time": "2022-11-23T17:49:37.730Z"
   },
   {
    "duration": 7,
    "start_time": "2022-11-23T17:49:38.939Z"
   },
   {
    "duration": 6,
    "start_time": "2022-11-23T17:49:39.218Z"
   },
   {
    "duration": 7,
    "start_time": "2022-11-23T17:49:39.970Z"
   },
   {
    "duration": 7,
    "start_time": "2022-11-23T17:49:40.748Z"
   },
   {
    "duration": 7,
    "start_time": "2022-11-23T17:49:41.474Z"
   },
   {
    "duration": 1789,
    "start_time": "2022-11-23T17:49:43.855Z"
   },
   {
    "duration": 12,
    "start_time": "2022-11-23T17:49:47.109Z"
   },
   {
    "duration": 5,
    "start_time": "2022-11-23T17:49:48.379Z"
   },
   {
    "duration": 16,
    "start_time": "2022-11-23T17:49:50.010Z"
   },
   {
    "duration": 3,
    "start_time": "2022-11-23T17:50:25.145Z"
   },
   {
    "duration": 17,
    "start_time": "2022-11-23T17:50:32.875Z"
   },
   {
    "duration": 3,
    "start_time": "2022-11-23T17:50:34.060Z"
   },
   {
    "duration": 17,
    "start_time": "2022-11-23T17:50:36.041Z"
   },
   {
    "duration": 10,
    "start_time": "2022-11-23T17:50:37.035Z"
   },
   {
    "duration": 7,
    "start_time": "2022-11-23T17:50:38.298Z"
   },
   {
    "duration": 35,
    "start_time": "2022-11-23T17:50:39.087Z"
   },
   {
    "duration": 8,
    "start_time": "2022-11-23T17:50:39.772Z"
   },
   {
    "duration": 7,
    "start_time": "2022-11-23T17:50:41.167Z"
   },
   {
    "duration": 8,
    "start_time": "2022-11-23T17:50:41.304Z"
   },
   {
    "duration": 6,
    "start_time": "2022-11-23T17:50:42.441Z"
   },
   {
    "duration": 7,
    "start_time": "2022-11-23T17:50:44.966Z"
   },
   {
    "duration": 4,
    "start_time": "2022-11-23T17:50:50.800Z"
   },
   {
    "duration": 727,
    "start_time": "2022-11-23T17:50:52.156Z"
   },
   {
    "duration": 5,
    "start_time": "2022-11-23T17:51:23.783Z"
   },
   {
    "duration": 781,
    "start_time": "2022-11-23T17:51:24.660Z"
   },
   {
    "duration": 8,
    "start_time": "2022-11-23T17:59:14.161Z"
   },
   {
    "duration": 846,
    "start_time": "2022-11-23T17:59:15.580Z"
   },
   {
    "duration": 5,
    "start_time": "2022-11-23T18:03:39.561Z"
   },
   {
    "duration": 817,
    "start_time": "2022-11-23T18:03:40.558Z"
   },
   {
    "duration": 7,
    "start_time": "2022-11-23T18:04:02.837Z"
   },
   {
    "duration": 830,
    "start_time": "2022-11-23T18:04:06.658Z"
   },
   {
    "duration": 6,
    "start_time": "2022-11-23T18:06:05.848Z"
   },
   {
    "duration": 790,
    "start_time": "2022-11-23T18:06:06.524Z"
   },
   {
    "duration": 820,
    "start_time": "2022-11-23T18:08:31.815Z"
   },
   {
    "duration": 103,
    "start_time": "2022-11-23T18:28:13.116Z"
   },
   {
    "duration": 6,
    "start_time": "2022-11-23T18:28:22.189Z"
   },
   {
    "duration": 29807,
    "start_time": "2022-11-23T18:28:26.453Z"
   },
   {
    "duration": 5,
    "start_time": "2022-11-23T18:28:59.735Z"
   },
   {
    "duration": 30119,
    "start_time": "2022-11-23T18:29:03.310Z"
   },
   {
    "duration": 29480,
    "start_time": "2022-11-23T18:30:07.261Z"
   },
   {
    "duration": 7,
    "start_time": "2022-11-23T18:31:53.785Z"
   },
   {
    "duration": 29368,
    "start_time": "2022-11-23T18:31:54.582Z"
   },
   {
    "duration": 6,
    "start_time": "2022-11-23T18:32:30.650Z"
   },
   {
    "duration": 29950,
    "start_time": "2022-11-23T18:32:31.378Z"
   },
   {
    "duration": 9,
    "start_time": "2022-11-23T18:35:47.571Z"
   },
   {
    "duration": 16717,
    "start_time": "2022-11-23T18:35:47.590Z"
   },
   {
    "duration": 6,
    "start_time": "2022-11-23T18:36:25.825Z"
   },
   {
    "duration": 16801,
    "start_time": "2022-11-23T18:36:28.625Z"
   },
   {
    "duration": 16685,
    "start_time": "2022-11-23T18:39:34.203Z"
   },
   {
    "duration": 5,
    "start_time": "2022-11-23T18:40:16.860Z"
   },
   {
    "duration": 28345,
    "start_time": "2022-11-23T18:40:19.221Z"
   },
   {
    "duration": 29353,
    "start_time": "2022-11-23T18:40:53.845Z"
   },
   {
    "duration": 5,
    "start_time": "2022-11-23T18:43:46.019Z"
   },
   {
    "duration": 2783,
    "start_time": "2022-11-23T18:43:53.125Z"
   },
   {
    "duration": 8,
    "start_time": "2022-11-23T18:57:59.989Z"
   },
   {
    "duration": 19186,
    "start_time": "2022-11-23T18:58:03.609Z"
   },
   {
    "duration": 5,
    "start_time": "2022-11-23T18:58:41.050Z"
   },
   {
    "duration": 18998,
    "start_time": "2022-11-23T18:58:42.380Z"
   },
   {
    "duration": 4,
    "start_time": "2022-11-23T18:59:44.397Z"
   },
   {
    "duration": 53963,
    "start_time": "2022-11-23T18:59:47.415Z"
   },
   {
    "duration": 70701,
    "start_time": "2022-11-23T19:00:41.380Z"
   },
   {
    "duration": 6,
    "start_time": "2022-11-23T19:25:03.766Z"
   },
   {
    "duration": 6,
    "start_time": "2022-11-23T19:36:40.291Z"
   },
   {
    "duration": 703520,
    "start_time": "2022-11-23T19:36:40.300Z"
   },
   {
    "duration": 1423,
    "start_time": "2022-11-23T20:06:25.657Z"
   },
   {
    "duration": 6,
    "start_time": "2022-11-23T20:06:27.083Z"
   },
   {
    "duration": 64,
    "start_time": "2022-11-23T20:06:27.091Z"
   },
   {
    "duration": 7,
    "start_time": "2022-11-23T20:06:27.157Z"
   },
   {
    "duration": 8,
    "start_time": "2022-11-23T20:06:27.166Z"
   },
   {
    "duration": 18,
    "start_time": "2022-11-23T20:06:27.176Z"
   },
   {
    "duration": 17,
    "start_time": "2022-11-23T20:06:27.196Z"
   },
   {
    "duration": 13,
    "start_time": "2022-11-23T20:06:27.214Z"
   },
   {
    "duration": 3,
    "start_time": "2022-11-23T20:06:27.229Z"
   },
   {
    "duration": 11,
    "start_time": "2022-11-23T20:06:27.233Z"
   },
   {
    "duration": 8,
    "start_time": "2022-11-23T20:06:27.246Z"
   },
   {
    "duration": 53,
    "start_time": "2022-11-23T20:06:27.256Z"
   },
   {
    "duration": 6,
    "start_time": "2022-11-23T20:06:27.311Z"
   },
   {
    "duration": 13,
    "start_time": "2022-11-23T20:06:27.320Z"
   },
   {
    "duration": 7,
    "start_time": "2022-11-23T20:06:27.335Z"
   },
   {
    "duration": 40,
    "start_time": "2022-11-23T20:06:27.344Z"
   },
   {
    "duration": 7,
    "start_time": "2022-11-23T20:06:27.386Z"
   },
   {
    "duration": 8,
    "start_time": "2022-11-23T20:06:27.395Z"
   },
   {
    "duration": 9,
    "start_time": "2022-11-23T20:06:27.405Z"
   },
   {
    "duration": 1942,
    "start_time": "2022-11-23T20:06:27.415Z"
   },
   {
    "duration": 13,
    "start_time": "2022-11-23T20:06:29.359Z"
   },
   {
    "duration": 26,
    "start_time": "2022-11-23T20:06:29.373Z"
   },
   {
    "duration": 17,
    "start_time": "2022-11-23T20:06:29.401Z"
   },
   {
    "duration": 2,
    "start_time": "2022-11-23T20:06:29.420Z"
   },
   {
    "duration": 20,
    "start_time": "2022-11-23T20:06:29.423Z"
   },
   {
    "duration": 9,
    "start_time": "2022-11-23T20:06:29.444Z"
   },
   {
    "duration": 6,
    "start_time": "2022-11-23T20:06:29.454Z"
   },
   {
    "duration": 45,
    "start_time": "2022-11-23T20:06:29.462Z"
   },
   {
    "duration": 6,
    "start_time": "2022-11-23T20:06:29.508Z"
   },
   {
    "duration": 7,
    "start_time": "2022-11-23T20:06:29.516Z"
   },
   {
    "duration": 8,
    "start_time": "2022-11-23T20:06:29.525Z"
   },
   {
    "duration": 6,
    "start_time": "2022-11-23T20:06:29.534Z"
   },
   {
    "duration": 8,
    "start_time": "2022-11-23T20:06:29.542Z"
   },
   {
    "duration": 15,
    "start_time": "2022-11-23T20:06:29.578Z"
   },
   {
    "duration": 775,
    "start_time": "2022-11-23T20:06:29.595Z"
   },
   {
    "duration": 803,
    "start_time": "2022-11-23T20:06:30.372Z"
   },
   {
    "duration": 789,
    "start_time": "2022-11-23T20:07:02.861Z"
   },
   {
    "duration": 5,
    "start_time": "2022-11-23T20:07:07.929Z"
   },
   {
    "duration": 717013,
    "start_time": "2022-11-23T20:07:11.358Z"
   },
   {
    "duration": 755465,
    "start_time": "2022-11-23T20:19:29.074Z"
   },
   {
    "duration": 6,
    "start_time": "2022-11-23T20:32:53.197Z"
   },
   {
    "duration": 52227,
    "start_time": "2022-11-23T20:33:04.049Z"
   },
   {
    "duration": 6,
    "start_time": "2022-11-23T20:36:04.390Z"
   },
   {
    "duration": 51428,
    "start_time": "2022-11-23T20:36:13.440Z"
   },
   {
    "duration": 7,
    "start_time": "2022-11-23T20:37:29.860Z"
   },
   {
    "duration": 134660,
    "start_time": "2022-11-23T20:37:33.303Z"
   },
   {
    "duration": 5,
    "start_time": "2022-11-23T20:41:32.190Z"
   },
   {
    "duration": 125438,
    "start_time": "2022-11-23T20:41:33.655Z"
   },
   {
    "duration": 160882,
    "start_time": "2022-11-23T20:43:39.099Z"
   },
   {
    "duration": 1530,
    "start_time": "2022-11-24T11:49:14.994Z"
   },
   {
    "duration": 3,
    "start_time": "2022-11-24T11:49:16.526Z"
   },
   {
    "duration": 129,
    "start_time": "2022-11-24T11:49:16.531Z"
   },
   {
    "duration": 8,
    "start_time": "2022-11-24T11:49:16.662Z"
   },
   {
    "duration": 47,
    "start_time": "2022-11-24T11:49:16.672Z"
   },
   {
    "duration": 25,
    "start_time": "2022-11-24T11:49:16.721Z"
   },
   {
    "duration": 42,
    "start_time": "2022-11-24T11:49:16.750Z"
   },
   {
    "duration": 27,
    "start_time": "2022-11-24T11:49:16.794Z"
   },
   {
    "duration": 30,
    "start_time": "2022-11-24T11:49:16.823Z"
   },
   {
    "duration": 40,
    "start_time": "2022-11-24T11:49:16.855Z"
   },
   {
    "duration": 31,
    "start_time": "2022-11-24T11:49:16.897Z"
   },
   {
    "duration": 55,
    "start_time": "2022-11-24T11:49:16.930Z"
   },
   {
    "duration": 5,
    "start_time": "2022-11-24T11:49:16.987Z"
   },
   {
    "duration": 32,
    "start_time": "2022-11-24T11:49:16.995Z"
   },
   {
    "duration": 53,
    "start_time": "2022-11-24T11:49:17.029Z"
   },
   {
    "duration": 33,
    "start_time": "2022-11-24T11:49:17.084Z"
   },
   {
    "duration": 39,
    "start_time": "2022-11-24T11:49:17.119Z"
   },
   {
    "duration": 34,
    "start_time": "2022-11-24T11:49:17.160Z"
   },
   {
    "duration": 27,
    "start_time": "2022-11-24T11:49:17.195Z"
   },
   {
    "duration": 1834,
    "start_time": "2022-11-24T11:49:17.223Z"
   },
   {
    "duration": 14,
    "start_time": "2022-11-24T11:49:19.059Z"
   },
   {
    "duration": 37,
    "start_time": "2022-11-24T11:49:19.075Z"
   },
   {
    "duration": 62,
    "start_time": "2022-11-24T11:49:19.114Z"
   },
   {
    "duration": 12,
    "start_time": "2022-11-24T11:49:19.178Z"
   },
   {
    "duration": 52,
    "start_time": "2022-11-24T11:49:19.192Z"
   },
   {
    "duration": 10,
    "start_time": "2022-11-24T11:49:19.246Z"
   },
   {
    "duration": 8,
    "start_time": "2022-11-24T11:49:19.258Z"
   },
   {
    "duration": 46,
    "start_time": "2022-11-24T11:49:19.268Z"
   },
   {
    "duration": 7,
    "start_time": "2022-11-24T11:49:19.335Z"
   },
   {
    "duration": 23,
    "start_time": "2022-11-24T11:49:19.344Z"
   },
   {
    "duration": 11,
    "start_time": "2022-11-24T11:49:19.369Z"
   },
   {
    "duration": 7,
    "start_time": "2022-11-24T11:49:19.382Z"
   },
   {
    "duration": 7,
    "start_time": "2022-11-24T11:49:19.391Z"
   },
   {
    "duration": 6,
    "start_time": "2022-11-24T11:49:19.400Z"
   },
   {
    "duration": 817,
    "start_time": "2022-11-24T11:49:19.408Z"
   },
   {
    "duration": 759,
    "start_time": "2022-11-24T11:49:20.227Z"
   },
   {
    "duration": 5,
    "start_time": "2022-11-24T11:49:20.988Z"
   },
   {
    "duration": 707941,
    "start_time": "2022-11-24T11:49:20.995Z"
   },
   {
    "duration": 741889,
    "start_time": "2022-11-24T12:01:08.937Z"
   },
   {
    "duration": 9,
    "start_time": "2022-11-24T12:13:30.827Z"
   },
   {
    "duration": 51011,
    "start_time": "2022-11-24T12:13:30.841Z"
   },
   {
    "duration": 6,
    "start_time": "2022-11-24T12:14:21.853Z"
   },
   {
    "duration": 133016,
    "start_time": "2022-11-24T12:14:21.861Z"
   },
   {
    "duration": 6,
    "start_time": "2022-11-24T12:16:34.878Z"
   },
   {
    "duration": 58952,
    "start_time": "2022-11-24T12:16:34.885Z"
   },
   {
    "duration": 80100,
    "start_time": "2022-11-24T12:17:33.839Z"
   },
   {
    "duration": 5,
    "start_time": "2022-11-24T12:21:12.250Z"
   },
   {
    "duration": 768,
    "start_time": "2022-11-24T12:21:15.626Z"
   },
   {
    "duration": 281,
    "start_time": "2022-11-24T12:21:34.849Z"
   },
   {
    "duration": 956,
    "start_time": "2022-11-24T12:21:55.685Z"
   },
   {
    "duration": 157,
    "start_time": "2022-11-24T12:35:45.963Z"
   },
   {
    "duration": 14,
    "start_time": "2022-11-24T12:37:41.741Z"
   },
   {
    "duration": 15,
    "start_time": "2022-11-24T12:37:51.245Z"
   },
   {
    "duration": 13,
    "start_time": "2022-11-24T12:37:57.675Z"
   },
   {
    "duration": 25,
    "start_time": "2022-11-24T12:40:42.378Z"
   },
   {
    "duration": 64,
    "start_time": "2022-11-24T12:40:53.750Z"
   },
   {
    "duration": 54,
    "start_time": "2022-11-24T12:40:57.813Z"
   },
   {
    "duration": 19,
    "start_time": "2022-11-24T12:41:04.800Z"
   },
   {
    "duration": 68,
    "start_time": "2022-11-24T12:41:14.066Z"
   },
   {
    "duration": 26,
    "start_time": "2022-11-24T12:41:22.242Z"
   },
   {
    "duration": 25,
    "start_time": "2022-11-24T12:41:35.272Z"
   },
   {
    "duration": 20,
    "start_time": "2022-11-24T12:41:41.906Z"
   },
   {
    "duration": 22,
    "start_time": "2022-11-24T12:41:59.091Z"
   },
   {
    "duration": 21,
    "start_time": "2022-11-24T12:42:12.349Z"
   },
   {
    "duration": 965,
    "start_time": "2022-11-24T12:46:38.677Z"
   },
   {
    "duration": 984,
    "start_time": "2022-11-24T12:47:39.867Z"
   },
   {
    "duration": 404,
    "start_time": "2022-11-24T12:53:57.539Z"
   },
   {
    "duration": 2427,
    "start_time": "2022-11-24T12:57:07.912Z"
   },
   {
    "duration": 56,
    "start_time": "2022-11-24T12:58:25.371Z"
   },
   {
    "duration": 23,
    "start_time": "2022-11-24T13:01:28.030Z"
   },
   {
    "duration": 19,
    "start_time": "2022-11-24T13:04:31.412Z"
   },
   {
    "duration": 19,
    "start_time": "2022-11-24T13:05:24.595Z"
   },
   {
    "duration": 391,
    "start_time": "2022-11-24T13:06:04.611Z"
   },
   {
    "duration": 450,
    "start_time": "2022-11-24T13:06:46.438Z"
   },
   {
    "duration": 163,
    "start_time": "2022-11-24T13:14:26.856Z"
   },
   {
    "duration": 479,
    "start_time": "2022-11-24T13:16:15.459Z"
   },
   {
    "duration": 363,
    "start_time": "2022-11-24T13:18:23.529Z"
   },
   {
    "duration": 362,
    "start_time": "2022-11-24T13:19:08.149Z"
   },
   {
    "duration": 20,
    "start_time": "2022-11-24T13:19:45.830Z"
   },
   {
    "duration": 443,
    "start_time": "2022-11-24T13:20:36.480Z"
   },
   {
    "duration": 388,
    "start_time": "2022-11-24T13:23:36.102Z"
   },
   {
    "duration": 401,
    "start_time": "2022-11-24T13:23:40.449Z"
   },
   {
    "duration": 162,
    "start_time": "2022-11-24T13:27:17.381Z"
   },
   {
    "duration": 1662,
    "start_time": "2022-11-24T15:01:35.666Z"
   },
   {
    "duration": 1572,
    "start_time": "2022-11-24T15:02:53.739Z"
   },
   {
    "duration": 1551,
    "start_time": "2022-11-24T15:05:55.688Z"
   },
   {
    "duration": 1548,
    "start_time": "2022-11-24T15:07:31.913Z"
   },
   {
    "duration": 1587,
    "start_time": "2022-11-24T15:10:35.118Z"
   },
   {
    "duration": 1128,
    "start_time": "2022-11-24T15:10:59.337Z"
   },
   {
    "duration": 1442,
    "start_time": "2022-11-24T15:11:13.418Z"
   },
   {
    "duration": 1595,
    "start_time": "2022-11-24T15:11:30.575Z"
   },
   {
    "duration": 36,
    "start_time": "2022-11-24T15:14:47.587Z"
   },
   {
    "duration": 3179,
    "start_time": "2022-11-24T15:15:15.895Z"
   },
   {
    "duration": 3286,
    "start_time": "2022-11-24T15:15:26.800Z"
   },
   {
    "duration": 3405,
    "start_time": "2022-11-24T15:25:50.016Z"
   },
   {
    "duration": 3301,
    "start_time": "2022-11-24T15:27:12.476Z"
   },
   {
    "duration": 6487,
    "start_time": "2022-11-24T15:36:17.402Z"
   },
   {
    "duration": 11581,
    "start_time": "2022-11-24T15:36:53.405Z"
   },
   {
    "duration": 5609,
    "start_time": "2022-11-24T15:37:37.560Z"
   },
   {
    "duration": 14359,
    "start_time": "2022-11-24T15:37:57.888Z"
   },
   {
    "duration": 14297,
    "start_time": "2022-11-24T15:40:48.949Z"
   },
   {
    "duration": 17870,
    "start_time": "2022-11-24T15:41:55.504Z"
   },
   {
    "duration": 27513,
    "start_time": "2022-11-24T15:42:28.576Z"
   },
   {
    "duration": 454,
    "start_time": "2022-11-24T15:46:39.767Z"
   },
   {
    "duration": 378,
    "start_time": "2022-11-24T15:53:07.770Z"
   },
   {
    "duration": 375,
    "start_time": "2022-11-24T15:53:31.977Z"
   },
   {
    "duration": 357,
    "start_time": "2022-11-24T15:53:41.122Z"
   },
   {
    "duration": 375,
    "start_time": "2022-11-24T16:02:28.230Z"
   },
   {
    "duration": 7,
    "start_time": "2022-11-24T16:02:30.158Z"
   },
   {
    "duration": 30,
    "start_time": "2022-11-24T16:03:43.531Z"
   },
   {
    "duration": 150,
    "start_time": "2022-11-24T16:04:42.489Z"
   },
   {
    "duration": 2,
    "start_time": "2022-11-24T16:06:57.016Z"
   },
   {
    "duration": 368,
    "start_time": "2022-11-24T16:08:09.130Z"
   },
   {
    "duration": 6,
    "start_time": "2022-11-24T16:08:13.048Z"
   },
   {
    "duration": 29,
    "start_time": "2022-11-24T16:09:27.649Z"
   },
   {
    "duration": 114,
    "start_time": "2022-11-24T16:09:29.843Z"
   },
   {
    "duration": 1668,
    "start_time": "2022-11-25T06:36:53.860Z"
   },
   {
    "duration": 3,
    "start_time": "2022-11-25T06:36:55.529Z"
   },
   {
    "duration": 56,
    "start_time": "2022-11-25T06:36:55.534Z"
   },
   {
    "duration": 7,
    "start_time": "2022-11-25T06:36:55.592Z"
   },
   {
    "duration": 9,
    "start_time": "2022-11-25T06:36:55.600Z"
   },
   {
    "duration": 8,
    "start_time": "2022-11-25T06:36:55.610Z"
   },
   {
    "duration": 11,
    "start_time": "2022-11-25T06:36:55.620Z"
   },
   {
    "duration": 13,
    "start_time": "2022-11-25T06:36:55.632Z"
   },
   {
    "duration": 2,
    "start_time": "2022-11-25T06:36:55.646Z"
   },
   {
    "duration": 10,
    "start_time": "2022-11-25T06:36:55.650Z"
   },
   {
    "duration": 7,
    "start_time": "2022-11-25T06:36:55.661Z"
   },
   {
    "duration": 53,
    "start_time": "2022-11-25T06:36:55.669Z"
   },
   {
    "duration": 4,
    "start_time": "2022-11-25T06:36:55.723Z"
   },
   {
    "duration": 21,
    "start_time": "2022-11-25T06:36:55.728Z"
   },
   {
    "duration": 13,
    "start_time": "2022-11-25T06:36:55.750Z"
   },
   {
    "duration": 8,
    "start_time": "2022-11-25T06:36:55.765Z"
   },
   {
    "duration": 10,
    "start_time": "2022-11-25T06:36:55.774Z"
   },
   {
    "duration": 10,
    "start_time": "2022-11-25T06:36:55.785Z"
   },
   {
    "duration": 8,
    "start_time": "2022-11-25T06:36:55.796Z"
   },
   {
    "duration": 1733,
    "start_time": "2022-11-25T06:36:55.805Z"
   },
   {
    "duration": 12,
    "start_time": "2022-11-25T06:36:57.539Z"
   },
   {
    "duration": 8,
    "start_time": "2022-11-25T06:36:57.553Z"
   },
   {
    "duration": 15,
    "start_time": "2022-11-25T06:36:57.563Z"
   },
   {
    "duration": 2,
    "start_time": "2022-11-25T06:36:57.580Z"
   },
   {
    "duration": 38,
    "start_time": "2022-11-25T06:36:57.584Z"
   },
   {
    "duration": 8,
    "start_time": "2022-11-25T06:36:57.624Z"
   },
   {
    "duration": 1246,
    "start_time": "2022-11-25T06:37:07.617Z"
   },
   {
    "duration": 6,
    "start_time": "2022-11-25T06:37:45.648Z"
   },
   {
    "duration": 120,
    "start_time": "2022-11-25T06:37:55.096Z"
   },
   {
    "duration": 9,
    "start_time": "2022-11-25T06:37:59.945Z"
   },
   {
    "duration": 1641,
    "start_time": "2022-11-25T11:43:05.169Z"
   },
   {
    "duration": 3,
    "start_time": "2022-11-25T11:43:06.812Z"
   },
   {
    "duration": 108,
    "start_time": "2022-11-25T11:43:06.817Z"
   },
   {
    "duration": 9,
    "start_time": "2022-11-25T11:43:06.927Z"
   },
   {
    "duration": 6,
    "start_time": "2022-11-25T11:43:06.939Z"
   },
   {
    "duration": 8,
    "start_time": "2022-11-25T11:43:06.947Z"
   },
   {
    "duration": 16,
    "start_time": "2022-11-25T11:43:06.957Z"
   },
   {
    "duration": 16,
    "start_time": "2022-11-25T11:43:06.975Z"
   },
   {
    "duration": 4,
    "start_time": "2022-11-25T11:43:06.992Z"
   },
   {
    "duration": 19,
    "start_time": "2022-11-25T11:43:06.997Z"
   },
   {
    "duration": 9,
    "start_time": "2022-11-25T11:43:07.018Z"
   },
   {
    "duration": 36,
    "start_time": "2022-11-25T11:43:07.054Z"
   },
   {
    "duration": 5,
    "start_time": "2022-11-25T11:43:07.092Z"
   },
   {
    "duration": 21,
    "start_time": "2022-11-25T11:43:07.099Z"
   },
   {
    "duration": 8,
    "start_time": "2022-11-25T11:43:07.122Z"
   },
   {
    "duration": 27,
    "start_time": "2022-11-25T11:43:07.132Z"
   },
   {
    "duration": 14,
    "start_time": "2022-11-25T11:43:07.160Z"
   },
   {
    "duration": 15,
    "start_time": "2022-11-25T11:43:07.175Z"
   },
   {
    "duration": 10,
    "start_time": "2022-11-25T11:43:07.191Z"
   },
   {
    "duration": 1963,
    "start_time": "2022-11-25T11:43:07.203Z"
   },
   {
    "duration": 13,
    "start_time": "2022-11-25T11:43:09.168Z"
   },
   {
    "duration": 5,
    "start_time": "2022-11-25T11:43:09.183Z"
   },
   {
    "duration": 18,
    "start_time": "2022-11-25T11:43:09.189Z"
   },
   {
    "duration": 3,
    "start_time": "2022-11-25T11:43:09.208Z"
   },
   {
    "duration": 120,
    "start_time": "2022-11-25T11:43:16.371Z"
   },
   {
    "duration": 10,
    "start_time": "2022-11-25T11:43:36.277Z"
   },
   {
    "duration": 9,
    "start_time": "2022-11-25T11:44:09.608Z"
   },
   {
    "duration": 42,
    "start_time": "2022-11-25T11:53:35.781Z"
   },
   {
    "duration": 65,
    "start_time": "2022-11-25T11:54:10.192Z"
   },
   {
    "duration": 47,
    "start_time": "2022-11-25T11:54:43.980Z"
   },
   {
    "duration": 11,
    "start_time": "2022-11-25T11:54:51.971Z"
   },
   {
    "duration": 20,
    "start_time": "2022-11-25T11:56:49.170Z"
   },
   {
    "duration": 39,
    "start_time": "2022-11-25T11:57:07.448Z"
   },
   {
    "duration": 47,
    "start_time": "2022-11-25T11:57:36.427Z"
   },
   {
    "duration": 3322,
    "start_time": "2022-11-25T11:57:46.312Z"
   },
   {
    "duration": 2861,
    "start_time": "2022-11-25T11:58:34.595Z"
   },
   {
    "duration": 47,
    "start_time": "2022-11-25T12:02:58.513Z"
   },
   {
    "duration": 17,
    "start_time": "2022-11-25T12:06:50.975Z"
   },
   {
    "duration": 783,
    "start_time": "2022-11-25T12:11:27.463Z"
   },
   {
    "duration": 75,
    "start_time": "2022-11-25T12:11:44.402Z"
   },
   {
    "duration": 1752,
    "start_time": "2022-11-25T15:09:15.868Z"
   },
   {
    "duration": 4,
    "start_time": "2022-11-25T15:09:17.623Z"
   },
   {
    "duration": 97,
    "start_time": "2022-11-25T15:09:21.081Z"
   },
   {
    "duration": 9,
    "start_time": "2022-11-25T15:09:23.501Z"
   },
   {
    "duration": 4,
    "start_time": "2022-11-25T15:09:24.563Z"
   },
   {
    "duration": 5,
    "start_time": "2022-11-25T15:09:34.671Z"
   },
   {
    "duration": 14,
    "start_time": "2022-11-25T15:09:38.381Z"
   },
   {
    "duration": 14,
    "start_time": "2022-11-25T15:09:40.229Z"
   },
   {
    "duration": 798,
    "start_time": "2022-11-25T15:21:03.901Z"
   },
   {
    "duration": 16,
    "start_time": "2022-11-25T15:21:22.610Z"
   },
   {
    "duration": 21,
    "start_time": "2022-11-25T15:21:54.168Z"
   },
   {
    "duration": 19,
    "start_time": "2022-11-25T15:22:10.168Z"
   },
   {
    "duration": 16,
    "start_time": "2022-11-25T15:22:20.311Z"
   },
   {
    "duration": 715,
    "start_time": "2022-11-25T15:22:51.732Z"
   },
   {
    "duration": 31,
    "start_time": "2022-11-25T15:23:28.751Z"
   },
   {
    "duration": 18,
    "start_time": "2022-11-25T15:23:52.098Z"
   },
   {
    "duration": 731,
    "start_time": "2022-11-25T15:30:00.292Z"
   },
   {
    "duration": 707,
    "start_time": "2022-11-25T15:30:18.451Z"
   },
   {
    "duration": 19,
    "start_time": "2022-11-25T15:30:47.245Z"
   },
   {
    "duration": 18,
    "start_time": "2022-11-25T15:33:36.393Z"
   },
   {
    "duration": 23,
    "start_time": "2022-11-25T15:35:35.641Z"
   },
   {
    "duration": 34,
    "start_time": "2022-11-25T15:36:34.369Z"
   },
   {
    "duration": 18,
    "start_time": "2022-11-25T15:38:07.651Z"
   },
   {
    "duration": 11,
    "start_time": "2022-11-25T15:38:11.954Z"
   },
   {
    "duration": 6,
    "start_time": "2022-11-25T15:38:19.341Z"
   },
   {
    "duration": 28,
    "start_time": "2022-11-25T15:38:22.391Z"
   },
   {
    "duration": 8,
    "start_time": "2022-11-25T15:38:25.720Z"
   },
   {
    "duration": 8,
    "start_time": "2022-11-25T15:38:32.280Z"
   },
   {
    "duration": 12,
    "start_time": "2022-11-25T15:38:39.952Z"
   },
   {
    "duration": 7,
    "start_time": "2022-11-25T15:38:46.001Z"
   },
   {
    "duration": 7,
    "start_time": "2022-11-25T15:39:13.520Z"
   },
   {
    "duration": 8,
    "start_time": "2022-11-25T15:39:21.554Z"
   },
   {
    "duration": 881,
    "start_time": "2022-11-25T15:44:02.674Z"
   },
   {
    "duration": 7,
    "start_time": "2022-11-25T15:47:00.203Z"
   },
   {
    "duration": 6,
    "start_time": "2022-11-25T15:47:12.227Z"
   },
   {
    "duration": 7,
    "start_time": "2022-11-25T15:47:34.744Z"
   },
   {
    "duration": 792,
    "start_time": "2022-11-25T15:47:52.201Z"
   },
   {
    "duration": 759,
    "start_time": "2022-11-25T15:49:53.002Z"
   },
   {
    "duration": 72,
    "start_time": "2022-11-25T15:49:58.521Z"
   },
   {
    "duration": 29,
    "start_time": "2022-11-25T15:51:17.767Z"
   },
   {
    "duration": 28,
    "start_time": "2022-11-25T15:52:02.221Z"
   },
   {
    "duration": 27,
    "start_time": "2022-11-25T15:52:42.512Z"
   },
   {
    "duration": 23,
    "start_time": "2022-11-25T15:52:56.031Z"
   },
   {
    "duration": 6,
    "start_time": "2022-11-25T15:53:02.470Z"
   },
   {
    "duration": 6,
    "start_time": "2022-11-25T15:53:03.401Z"
   },
   {
    "duration": 9,
    "start_time": "2022-11-25T15:53:04.521Z"
   },
   {
    "duration": 7,
    "start_time": "2022-11-25T15:53:05.654Z"
   },
   {
    "duration": 6,
    "start_time": "2022-11-25T15:53:09.702Z"
   },
   {
    "duration": 6,
    "start_time": "2022-11-25T15:53:13.380Z"
   },
   {
    "duration": 756,
    "start_time": "2022-11-25T15:53:16.040Z"
   },
   {
    "duration": 82,
    "start_time": "2022-11-25T15:53:17.274Z"
   },
   {
    "duration": 93,
    "start_time": "2022-11-25T15:53:33.353Z"
   },
   {
    "duration": 10,
    "start_time": "2022-11-25T15:57:13.932Z"
   },
   {
    "duration": 764,
    "start_time": "2022-11-25T15:57:17.723Z"
   },
   {
    "duration": 807,
    "start_time": "2022-11-25T15:57:23.041Z"
   },
   {
    "duration": 6,
    "start_time": "2022-11-25T15:58:13.985Z"
   },
   {
    "duration": 717517,
    "start_time": "2022-11-25T15:58:23.852Z"
   },
   {
    "duration": 745404,
    "start_time": "2022-11-25T16:23:01.136Z"
   },
   {
    "duration": 7,
    "start_time": "2022-11-25T16:42:07.876Z"
   },
   {
    "duration": 6,
    "start_time": "2022-11-25T16:44:03.112Z"
   },
   {
    "duration": 376538,
    "start_time": "2022-11-25T16:44:09.519Z"
   },
   {
    "duration": 5,
    "start_time": "2022-11-25T16:50:26.059Z"
   },
   {
    "duration": 7,
    "start_time": "2022-11-25T16:58:55.330Z"
   },
   {
    "duration": 14,
    "start_time": "2022-11-25T17:13:33.263Z"
   },
   {
    "duration": 446390,
    "start_time": "2022-11-25T17:13:33.280Z"
   },
   {
    "duration": 6,
    "start_time": "2022-11-25T17:20:59.672Z"
   },
   {
    "duration": 49205,
    "start_time": "2022-11-25T17:20:59.680Z"
   },
   {
    "duration": 50291,
    "start_time": "2022-11-25T17:21:48.887Z"
   },
   {
    "duration": 6,
    "start_time": "2022-11-25T17:50:20.097Z"
   },
   {
    "duration": 761,
    "start_time": "2022-11-25T17:50:53.692Z"
   },
   {
    "duration": 943,
    "start_time": "2022-11-25T17:52:51.985Z"
   },
   {
    "duration": 981,
    "start_time": "2022-11-25T17:53:18.414Z"
   },
   {
    "duration": 825,
    "start_time": "2022-11-25T17:54:45.054Z"
   },
   {
    "duration": 29,
    "start_time": "2022-11-25T17:57:45.326Z"
   },
   {
    "duration": 3224,
    "start_time": "2022-11-25T18:21:44.051Z"
   },
   {
    "duration": 24,
    "start_time": "2022-11-25T18:22:09.681Z"
   },
   {
    "duration": 77,
    "start_time": "2022-11-25T18:22:20.444Z"
   },
   {
    "duration": 63,
    "start_time": "2022-11-25T18:23:17.844Z"
   },
   {
    "duration": 63,
    "start_time": "2022-11-25T18:23:59.871Z"
   },
   {
    "duration": 8,
    "start_time": "2022-11-25T18:24:47.956Z"
   },
   {
    "duration": 938,
    "start_time": "2022-11-25T18:24:52.259Z"
   },
   {
    "duration": 92,
    "start_time": "2022-11-25T18:25:46.024Z"
   },
   {
    "duration": 996,
    "start_time": "2022-11-25T18:25:59.668Z"
   },
   {
    "duration": 942,
    "start_time": "2022-11-25T18:26:05.376Z"
   },
   {
    "duration": 426,
    "start_time": "2022-11-25T18:27:31.914Z"
   },
   {
    "duration": 401,
    "start_time": "2022-11-25T18:29:45.565Z"
   },
   {
    "duration": 1301,
    "start_time": "2022-11-25T18:32:00.607Z"
   },
   {
    "duration": 834,
    "start_time": "2022-11-25T18:33:06.927Z"
   },
   {
    "duration": 1276,
    "start_time": "2022-11-25T18:33:21.671Z"
   },
   {
    "duration": 794,
    "start_time": "2022-11-25T18:33:31.541Z"
   },
   {
    "duration": 53,
    "start_time": "2022-11-25T18:36:41.150Z"
   },
   {
    "duration": 1862,
    "start_time": "2022-11-25T18:38:36.426Z"
   },
   {
    "duration": 20,
    "start_time": "2022-11-25T18:38:57.833Z"
   },
   {
    "duration": 51,
    "start_time": "2022-11-25T18:39:48.068Z"
   },
   {
    "duration": 5,
    "start_time": "2022-11-25T18:39:58.822Z"
   },
   {
    "duration": 427,
    "start_time": "2022-11-25T18:40:14.183Z"
   },
   {
    "duration": 429,
    "start_time": "2022-11-25T18:40:53.056Z"
   },
   {
    "duration": 430,
    "start_time": "2022-11-25T18:41:07.329Z"
   },
   {
    "duration": 551,
    "start_time": "2022-11-25T18:42:19.787Z"
   },
   {
    "duration": 348,
    "start_time": "2022-11-25T18:43:55.120Z"
   },
   {
    "duration": 191,
    "start_time": "2022-11-25T18:44:55.497Z"
   },
   {
    "duration": 1024,
    "start_time": "2022-11-25T18:51:35.173Z"
   },
   {
    "duration": 53,
    "start_time": "2022-11-25T18:52:14.493Z"
   },
   {
    "duration": 52,
    "start_time": "2022-11-25T18:53:33.802Z"
   },
   {
    "duration": 523,
    "start_time": "2022-11-25T18:53:55.898Z"
   },
   {
    "duration": 3,
    "start_time": "2022-11-25T18:53:58.447Z"
   },
   {
    "duration": 97,
    "start_time": "2022-11-25T18:54:00.584Z"
   },
   {
    "duration": 8,
    "start_time": "2022-11-25T18:54:01.844Z"
   },
   {
    "duration": 4,
    "start_time": "2022-11-25T18:54:03.683Z"
   },
   {
    "duration": 8,
    "start_time": "2022-11-25T18:54:05.880Z"
   },
   {
    "duration": 13,
    "start_time": "2022-11-25T18:54:07.027Z"
   },
   {
    "duration": 13,
    "start_time": "2022-11-25T18:54:08.257Z"
   },
   {
    "duration": 3,
    "start_time": "2022-11-25T18:54:10.192Z"
   },
   {
    "duration": 10,
    "start_time": "2022-11-25T18:54:10.821Z"
   },
   {
    "duration": 8,
    "start_time": "2022-11-25T18:54:11.422Z"
   },
   {
    "duration": 43,
    "start_time": "2022-11-25T18:54:12.660Z"
   },
   {
    "duration": 6,
    "start_time": "2022-11-25T18:54:14.084Z"
   },
   {
    "duration": 16,
    "start_time": "2022-11-25T18:54:14.789Z"
   },
   {
    "duration": 8,
    "start_time": "2022-11-25T18:54:15.472Z"
   },
   {
    "duration": 7,
    "start_time": "2022-11-25T18:54:16.177Z"
   },
   {
    "duration": 7,
    "start_time": "2022-11-25T18:54:16.837Z"
   },
   {
    "duration": 7,
    "start_time": "2022-11-25T18:54:18.073Z"
   },
   {
    "duration": 7,
    "start_time": "2022-11-25T18:54:18.404Z"
   },
   {
    "duration": 2031,
    "start_time": "2022-11-25T18:54:23.610Z"
   },
   {
    "duration": 12,
    "start_time": "2022-11-25T18:54:32.145Z"
   },
   {
    "duration": 5,
    "start_time": "2022-11-25T18:54:32.881Z"
   },
   {
    "duration": 17,
    "start_time": "2022-11-25T18:54:36.400Z"
   },
   {
    "duration": 2,
    "start_time": "2022-11-25T18:54:37.643Z"
   },
   {
    "duration": 3411,
    "start_time": "2022-11-25T18:54:40.958Z"
   },
   {
    "duration": 25,
    "start_time": "2022-11-25T18:54:45.547Z"
   },
   {
    "duration": 13,
    "start_time": "2022-11-25T18:54:50.792Z"
   },
   {
    "duration": 8,
    "start_time": "2022-11-25T18:54:52.005Z"
   },
   {
    "duration": 27,
    "start_time": "2022-11-25T18:54:54.077Z"
   },
   {
    "duration": 6,
    "start_time": "2022-11-25T18:54:56.361Z"
   },
   {
    "duration": 6,
    "start_time": "2022-11-25T18:54:57.111Z"
   },
   {
    "duration": 9,
    "start_time": "2022-11-25T18:54:59.331Z"
   },
   {
    "duration": 6,
    "start_time": "2022-11-25T18:55:00.367Z"
   },
   {
    "duration": 6,
    "start_time": "2022-11-25T18:55:07.492Z"
   },
   {
    "duration": 6,
    "start_time": "2022-11-25T18:55:12.352Z"
   },
   {
    "duration": 814,
    "start_time": "2022-11-25T18:55:17.152Z"
   },
   {
    "duration": 811,
    "start_time": "2022-11-25T18:55:18.895Z"
   },
   {
    "duration": 6,
    "start_time": "2022-11-25T18:55:29.723Z"
   },
   {
    "duration": 6,
    "start_time": "2022-11-25T18:55:38.040Z"
   },
   {
    "duration": 6,
    "start_time": "2022-11-25T18:55:41.844Z"
   },
   {
    "duration": 5,
    "start_time": "2022-11-25T18:55:50.236Z"
   },
   {
    "duration": 50853,
    "start_time": "2022-11-25T18:55:52.724Z"
   },
   {
    "duration": 57401,
    "start_time": "2022-11-25T18:56:43.578Z"
   },
   {
    "duration": 96,
    "start_time": "2022-11-25T18:57:40.981Z"
   },
   {
    "duration": 800,
    "start_time": "2022-11-25T18:57:41.079Z"
   },
   {
    "duration": 1038,
    "start_time": "2022-11-25T18:57:41.880Z"
   },
   {
    "duration": 566,
    "start_time": "2022-11-25T18:57:42.919Z"
   },
   {
    "duration": 200,
    "start_time": "2022-11-25T18:57:43.487Z"
   },
   {
    "duration": 6,
    "start_time": "2022-11-25T18:57:43.689Z"
   },
   {
    "duration": 999,
    "start_time": "2022-11-25T18:57:43.697Z"
   },
   {
    "duration": 992,
    "start_time": "2022-11-25T18:57:44.699Z"
   },
   {
    "duration": 1368,
    "start_time": "2022-11-25T18:57:45.693Z"
   },
   {
    "duration": 818,
    "start_time": "2022-11-25T18:57:47.063Z"
   },
   {
    "duration": 1102,
    "start_time": "2022-11-25T18:57:47.883Z"
   },
   {
    "duration": 205,
    "start_time": "2022-11-25T18:57:48.987Z"
   },
   {
    "duration": 6,
    "start_time": "2022-11-25T18:57:49.194Z"
   },
   {
    "duration": 396,
    "start_time": "2022-11-25T18:57:49.201Z"
   },
   {
    "duration": 378,
    "start_time": "2022-11-25T18:57:49.599Z"
   },
   {
    "duration": 533,
    "start_time": "2022-11-25T18:57:51.991Z"
   },
   {
    "duration": 334,
    "start_time": "2022-11-25T18:57:58.096Z"
   },
   {
    "duration": 471,
    "start_time": "2022-11-25T18:58:03.308Z"
   },
   {
    "duration": 1474,
    "start_time": "2022-11-25T18:58:12.081Z"
   },
   {
    "duration": 3201,
    "start_time": "2022-11-25T18:58:13.666Z"
   },
   {
    "duration": 13901,
    "start_time": "2022-11-25T18:58:16.868Z"
   },
   {
    "duration": 27991,
    "start_time": "2022-11-25T18:58:30.776Z"
   },
   {
    "duration": 471,
    "start_time": "2022-11-25T18:58:58.769Z"
   },
   {
    "duration": 1098,
    "start_time": "2022-11-25T19:00:24.401Z"
   },
   {
    "duration": 562,
    "start_time": "2022-11-25T19:00:38.121Z"
   },
   {
    "duration": 3,
    "start_time": "2022-11-25T19:00:38.685Z"
   },
   {
    "duration": 115,
    "start_time": "2022-11-25T19:00:38.690Z"
   },
   {
    "duration": 8,
    "start_time": "2022-11-25T19:00:38.806Z"
   },
   {
    "duration": 13,
    "start_time": "2022-11-25T19:00:38.816Z"
   },
   {
    "duration": 26,
    "start_time": "2022-11-25T19:00:38.831Z"
   },
   {
    "duration": 25,
    "start_time": "2022-11-25T19:00:38.859Z"
   },
   {
    "duration": 22,
    "start_time": "2022-11-25T19:00:38.886Z"
   },
   {
    "duration": 12,
    "start_time": "2022-11-25T19:00:38.910Z"
   },
   {
    "duration": 20,
    "start_time": "2022-11-25T19:00:38.923Z"
   },
   {
    "duration": 20,
    "start_time": "2022-11-25T19:00:38.945Z"
   },
   {
    "duration": 56,
    "start_time": "2022-11-25T19:00:38.967Z"
   },
   {
    "duration": 6,
    "start_time": "2022-11-25T19:00:39.024Z"
   },
   {
    "duration": 14,
    "start_time": "2022-11-25T19:00:39.034Z"
   },
   {
    "duration": 28,
    "start_time": "2022-11-25T19:00:39.050Z"
   },
   {
    "duration": 18,
    "start_time": "2022-11-25T19:00:39.080Z"
   },
   {
    "duration": 17,
    "start_time": "2022-11-25T19:00:39.099Z"
   },
   {
    "duration": 10,
    "start_time": "2022-11-25T19:00:39.117Z"
   },
   {
    "duration": 25,
    "start_time": "2022-11-25T19:00:39.129Z"
   },
   {
    "duration": 1981,
    "start_time": "2022-11-25T19:00:39.156Z"
   },
   {
    "duration": 14,
    "start_time": "2022-11-25T19:00:41.138Z"
   },
   {
    "duration": 12,
    "start_time": "2022-11-25T19:00:41.154Z"
   },
   {
    "duration": 18,
    "start_time": "2022-11-25T19:00:41.168Z"
   },
   {
    "duration": 2,
    "start_time": "2022-11-25T19:00:41.188Z"
   },
   {
    "duration": 2802,
    "start_time": "2022-11-25T19:00:41.191Z"
   },
   {
    "duration": 18,
    "start_time": "2022-11-25T19:00:43.995Z"
   },
   {
    "duration": 14,
    "start_time": "2022-11-25T19:00:44.014Z"
   },
   {
    "duration": 11,
    "start_time": "2022-11-25T19:00:44.030Z"
   },
   {
    "duration": 47,
    "start_time": "2022-11-25T19:00:44.043Z"
   },
   {
    "duration": 6,
    "start_time": "2022-11-25T19:00:44.092Z"
   },
   {
    "duration": 9,
    "start_time": "2022-11-25T19:00:44.099Z"
   },
   {
    "duration": 13,
    "start_time": "2022-11-25T19:00:44.110Z"
   },
   {
    "duration": 23,
    "start_time": "2022-11-25T19:00:44.124Z"
   },
   {
    "duration": 29,
    "start_time": "2022-11-25T19:00:44.148Z"
   },
   {
    "duration": 21,
    "start_time": "2022-11-25T19:00:44.179Z"
   },
   {
    "duration": 857,
    "start_time": "2022-11-25T19:00:44.201Z"
   },
   {
    "duration": 787,
    "start_time": "2022-11-25T19:00:45.059Z"
   },
   {
    "duration": 6,
    "start_time": "2022-11-25T19:00:45.848Z"
   },
   {
    "duration": 719242,
    "start_time": "2022-11-25T19:00:45.855Z"
   },
   {
    "duration": 734909,
    "start_time": "2022-11-25T19:12:45.098Z"
   },
   {
    "duration": 7,
    "start_time": "2022-11-25T19:25:00.011Z"
   },
   {
    "duration": 370780,
    "start_time": "2022-11-25T19:25:00.019Z"
   },
   {
    "duration": 6,
    "start_time": "2022-11-25T19:31:10.800Z"
   },
   {
    "duration": 426015,
    "start_time": "2022-11-25T19:31:10.807Z"
   },
   {
    "duration": 6,
    "start_time": "2022-11-25T19:38:16.823Z"
   },
   {
    "duration": 53652,
    "start_time": "2022-11-25T19:38:16.830Z"
   },
   {
    "duration": 53797,
    "start_time": "2022-11-25T19:39:10.485Z"
   },
   {
    "duration": 92,
    "start_time": "2022-11-25T19:40:04.286Z"
   },
   {
    "duration": 873,
    "start_time": "2022-11-25T19:40:04.380Z"
   },
   {
    "duration": 1018,
    "start_time": "2022-11-25T19:40:05.255Z"
   },
   {
    "duration": 606,
    "start_time": "2022-11-25T19:40:06.277Z"
   },
   {
    "duration": 201,
    "start_time": "2022-11-25T19:40:06.885Z"
   },
   {
    "duration": 5,
    "start_time": "2022-11-25T19:40:07.088Z"
   },
   {
    "duration": 971,
    "start_time": "2022-11-25T19:40:07.095Z"
   },
   {
    "duration": 918,
    "start_time": "2022-11-25T19:40:08.068Z"
   },
   {
    "duration": 1252,
    "start_time": "2022-11-25T19:40:08.988Z"
   },
   {
    "duration": 718,
    "start_time": "2022-11-25T19:40:10.242Z"
   },
   {
    "duration": 921,
    "start_time": "2022-11-25T19:40:10.961Z"
   },
   {
    "duration": 192,
    "start_time": "2022-11-25T19:40:11.884Z"
   },
   {
    "duration": 5,
    "start_time": "2022-11-25T19:40:12.079Z"
   },
   {
    "duration": 378,
    "start_time": "2022-11-25T19:40:12.086Z"
   },
   {
    "duration": 391,
    "start_time": "2022-11-25T19:40:12.465Z"
   },
   {
    "duration": 561,
    "start_time": "2022-11-25T19:40:12.858Z"
   },
   {
    "duration": 339,
    "start_time": "2022-11-25T19:40:13.422Z"
   },
   {
    "duration": 713,
    "start_time": "2022-11-25T19:40:13.763Z"
   },
   {
    "duration": 1504,
    "start_time": "2022-11-25T19:40:14.478Z"
   },
   {
    "duration": 3058,
    "start_time": "2022-11-25T19:40:15.984Z"
   },
   {
    "duration": 13089,
    "start_time": "2022-11-25T19:40:19.044Z"
   },
   {
    "duration": 25994,
    "start_time": "2022-11-25T19:40:32.135Z"
   },
   {
    "duration": 423,
    "start_time": "2022-11-25T19:40:58.130Z"
   },
   {
    "duration": 4968,
    "start_time": "2022-11-25T19:41:30.124Z"
   },
   {
    "duration": 10701,
    "start_time": "2022-11-25T19:42:31.682Z"
   },
   {
    "duration": 4977,
    "start_time": "2022-11-25T19:45:30.060Z"
   },
   {
    "duration": 11200,
    "start_time": "2022-11-25T19:46:27.784Z"
   },
   {
    "duration": 50981,
    "start_time": "2022-11-25T19:48:06.523Z"
   },
   {
    "duration": 45234,
    "start_time": "2022-11-25T19:49:17.511Z"
   },
   {
    "duration": 44646,
    "start_time": "2022-11-25T19:50:47.393Z"
   },
   {
    "duration": 176,
    "start_time": "2022-11-25T19:52:15.136Z"
   },
   {
    "duration": 27702,
    "start_time": "2022-11-25T19:52:33.698Z"
   },
   {
    "duration": 1232,
    "start_time": "2022-11-25T19:54:46.397Z"
   },
   {
    "duration": 1274,
    "start_time": "2022-11-25T19:54:59.037Z"
   },
   {
    "duration": 3154161,
    "start_time": "2022-11-25T21:43:33.652Z"
   },
   {
    "duration": 1216,
    "start_time": "2022-11-25T22:36:07.815Z"
   },
   {
    "duration": 1148,
    "start_time": "2022-11-25T22:36:09.034Z"
   },
   {
    "duration": 7,
    "start_time": "2022-11-25T22:36:10.184Z"
   },
   {
    "duration": 64,
    "start_time": "2022-11-25T22:36:10.193Z"
   },
   {
    "duration": 118,
    "start_time": "2022-11-25T22:36:10.276Z"
   },
   {
    "duration": 112,
    "start_time": "2022-11-26T04:40:14.000Z"
   },
   {
    "duration": 309,
    "start_time": "2022-11-26T04:41:51.189Z"
   },
   {
    "duration": 358,
    "start_time": "2022-11-26T04:42:10.407Z"
   },
   {
    "duration": 3156,
    "start_time": "2022-11-26T04:43:59.489Z"
   },
   {
    "duration": 343,
    "start_time": "2022-11-26T04:45:05.961Z"
   },
   {
    "duration": 46,
    "start_time": "2022-11-26T04:47:13.469Z"
   },
   {
    "duration": 363,
    "start_time": "2022-11-26T04:50:02.497Z"
   },
   {
    "duration": 1171,
    "start_time": "2022-11-26T04:50:28.809Z"
   },
   {
    "duration": 6,
    "start_time": "2022-11-26T04:50:30.346Z"
   },
   {
    "duration": 64,
    "start_time": "2022-11-26T04:50:52.770Z"
   },
   {
    "duration": 105,
    "start_time": "2022-11-26T04:50:56.199Z"
   },
   {
    "duration": 51,
    "start_time": "2022-11-26T08:30:34.495Z"
   },
   {
    "duration": 1541,
    "start_time": "2022-11-26T08:30:51.987Z"
   },
   {
    "duration": 4,
    "start_time": "2022-11-26T08:30:53.530Z"
   },
   {
    "duration": 92,
    "start_time": "2022-11-26T08:30:55.978Z"
   },
   {
    "duration": 7,
    "start_time": "2022-11-26T08:30:58.090Z"
   },
   {
    "duration": 3,
    "start_time": "2022-11-26T08:30:59.213Z"
   },
   {
    "duration": 6,
    "start_time": "2022-11-26T08:31:01.786Z"
   },
   {
    "duration": 17,
    "start_time": "2022-11-26T08:31:04.439Z"
   },
   {
    "duration": 13,
    "start_time": "2022-11-26T08:31:07.435Z"
   },
   {
    "duration": 3,
    "start_time": "2022-11-26T08:31:13.467Z"
   },
   {
    "duration": 10,
    "start_time": "2022-11-26T08:31:14.178Z"
   },
   {
    "duration": 8,
    "start_time": "2022-11-26T08:31:16.331Z"
   },
   {
    "duration": 38,
    "start_time": "2022-11-26T08:31:19.184Z"
   },
   {
    "duration": 6,
    "start_time": "2022-11-26T08:31:20.563Z"
   },
   {
    "duration": 14,
    "start_time": "2022-11-26T08:31:21.774Z"
   },
   {
    "duration": 9,
    "start_time": "2022-11-26T08:31:22.846Z"
   },
   {
    "duration": 6,
    "start_time": "2022-11-26T08:31:25.225Z"
   },
   {
    "duration": 6,
    "start_time": "2022-11-26T08:31:26.891Z"
   },
   {
    "duration": 6,
    "start_time": "2022-11-26T08:31:28.160Z"
   },
   {
    "duration": 7,
    "start_time": "2022-11-26T08:31:29.270Z"
   },
   {
    "duration": 1957,
    "start_time": "2022-11-26T08:31:50.297Z"
   },
   {
    "duration": 17,
    "start_time": "2022-11-26T08:31:58.954Z"
   },
   {
    "duration": 5,
    "start_time": "2022-11-26T08:32:00.795Z"
   },
   {
    "duration": 16,
    "start_time": "2022-11-26T08:33:04.792Z"
   },
   {
    "duration": 2,
    "start_time": "2022-11-26T08:33:06.346Z"
   },
   {
    "duration": 3587,
    "start_time": "2022-11-26T08:33:21.614Z"
   },
   {
    "duration": 17,
    "start_time": "2022-11-26T08:48:47.298Z"
   },
   {
    "duration": 82,
    "start_time": "2022-11-26T08:49:07.042Z"
   },
   {
    "duration": 58,
    "start_time": "2022-11-26T08:57:27.667Z"
   },
   {
    "duration": 50,
    "start_time": "2022-11-26T08:58:38.377Z"
   },
   {
    "duration": 5,
    "start_time": "2022-11-26T08:59:29.665Z"
   },
   {
    "duration": 12,
    "start_time": "2022-11-26T09:01:22.257Z"
   },
   {
    "duration": 23,
    "start_time": "2022-11-26T09:02:14.327Z"
   },
   {
    "duration": 65,
    "start_time": "2022-11-26T09:04:14.428Z"
   },
   {
    "duration": 48,
    "start_time": "2022-11-26T09:05:53.259Z"
   },
   {
    "duration": 65,
    "start_time": "2022-11-26T09:06:34.101Z"
   },
   {
    "duration": 18,
    "start_time": "2022-11-26T09:06:55.633Z"
   },
   {
    "duration": 21,
    "start_time": "2022-11-26T09:07:04.981Z"
   },
   {
    "duration": 17,
    "start_time": "2022-11-26T09:07:51.427Z"
   },
   {
    "duration": 16,
    "start_time": "2022-11-26T09:09:09.718Z"
   },
   {
    "duration": 19,
    "start_time": "2022-11-26T09:09:41.159Z"
   },
   {
    "duration": 12,
    "start_time": "2022-11-26T09:10:01.754Z"
   },
   {
    "duration": 11,
    "start_time": "2022-11-26T09:10:17.811Z"
   },
   {
    "duration": 20,
    "start_time": "2022-11-26T09:11:47.611Z"
   },
   {
    "duration": 12,
    "start_time": "2022-11-26T09:12:37.610Z"
   },
   {
    "duration": 18,
    "start_time": "2022-11-26T09:12:56.515Z"
   },
   {
    "duration": 18,
    "start_time": "2022-11-26T09:15:36.454Z"
   },
   {
    "duration": 21,
    "start_time": "2022-11-26T09:16:54.227Z"
   },
   {
    "duration": 23,
    "start_time": "2022-11-26T09:17:40.327Z"
   },
   {
    "duration": 17,
    "start_time": "2022-11-26T09:20:09.422Z"
   },
   {
    "duration": 24,
    "start_time": "2022-11-26T09:25:01.387Z"
   },
   {
    "duration": 18,
    "start_time": "2022-11-26T09:26:13.001Z"
   },
   {
    "duration": 17,
    "start_time": "2022-11-26T09:33:07.777Z"
   },
   {
    "duration": 28,
    "start_time": "2022-11-26T09:33:26.631Z"
   },
   {
    "duration": 10,
    "start_time": "2022-11-26T09:34:58.283Z"
   },
   {
    "duration": 3,
    "start_time": "2022-11-26T09:35:21.402Z"
   },
   {
    "duration": 23,
    "start_time": "2022-11-26T09:39:50.735Z"
   },
   {
    "duration": 52,
    "start_time": "2022-11-26T09:40:18.146Z"
   },
   {
    "duration": 24,
    "start_time": "2022-11-26T09:40:42.513Z"
   },
   {
    "duration": 57,
    "start_time": "2022-11-26T09:43:00.951Z"
   },
   {
    "duration": 57,
    "start_time": "2022-11-26T09:44:45.987Z"
   },
   {
    "duration": 27,
    "start_time": "2022-11-26T09:44:47.151Z"
   },
   {
    "duration": 54,
    "start_time": "2022-11-26T09:45:23.579Z"
   },
   {
    "duration": 52,
    "start_time": "2022-11-26T09:47:27.017Z"
   },
   {
    "duration": 26,
    "start_time": "2022-11-26T09:47:30.309Z"
   },
   {
    "duration": 25,
    "start_time": "2022-11-26T10:01:58.691Z"
   },
   {
    "duration": 24,
    "start_time": "2022-11-26T10:02:08.800Z"
   },
   {
    "duration": 26,
    "start_time": "2022-11-26T10:07:47.348Z"
   },
   {
    "duration": 24,
    "start_time": "2022-11-26T10:07:55.753Z"
   },
   {
    "duration": 24,
    "start_time": "2022-11-26T10:08:19.430Z"
   },
   {
    "duration": 24,
    "start_time": "2022-11-26T10:08:25.912Z"
   },
   {
    "duration": 26,
    "start_time": "2022-11-26T10:08:47.516Z"
   },
   {
    "duration": 25,
    "start_time": "2022-11-26T10:08:57.690Z"
   },
   {
    "duration": 24,
    "start_time": "2022-11-26T10:09:57.948Z"
   },
   {
    "duration": 25,
    "start_time": "2022-11-26T10:10:08.888Z"
   },
   {
    "duration": 27,
    "start_time": "2022-11-26T10:12:21.829Z"
   },
   {
    "duration": 37,
    "start_time": "2022-11-26T10:14:10.151Z"
   },
   {
    "duration": 36,
    "start_time": "2022-11-26T10:14:27.062Z"
   },
   {
    "duration": 37,
    "start_time": "2022-11-26T10:14:36.957Z"
   },
   {
    "duration": 26,
    "start_time": "2022-11-26T10:14:42.103Z"
   },
   {
    "duration": 37,
    "start_time": "2022-11-26T10:14:55.407Z"
   },
   {
    "duration": 15,
    "start_time": "2022-11-26T10:16:35.329Z"
   },
   {
    "duration": 17,
    "start_time": "2022-11-26T10:16:41.494Z"
   },
   {
    "duration": 47,
    "start_time": "2022-11-26T10:33:56.435Z"
   },
   {
    "duration": 53,
    "start_time": "2022-11-26T10:34:35.396Z"
   },
   {
    "duration": 17,
    "start_time": "2022-11-26T10:34:42.764Z"
   },
   {
    "duration": 29,
    "start_time": "2022-11-26T10:35:08.923Z"
   },
   {
    "duration": 37,
    "start_time": "2022-11-26T10:35:16.163Z"
   },
   {
    "duration": 38,
    "start_time": "2022-11-26T10:42:06.891Z"
   },
   {
    "duration": 25,
    "start_time": "2022-11-26T10:43:10.238Z"
   },
   {
    "duration": 86,
    "start_time": "2022-11-26T10:43:23.464Z"
   },
   {
    "duration": 93,
    "start_time": "2022-11-26T10:50:55.501Z"
   },
   {
    "duration": 33,
    "start_time": "2022-11-26T10:51:11.051Z"
   },
   {
    "duration": 29,
    "start_time": "2022-11-26T10:51:23.090Z"
   },
   {
    "duration": 63,
    "start_time": "2022-11-26T10:52:10.548Z"
   },
   {
    "duration": 28,
    "start_time": "2022-11-26T10:53:28.126Z"
   },
   {
    "duration": 11,
    "start_time": "2022-11-26T10:54:48.614Z"
   },
   {
    "duration": 11,
    "start_time": "2022-11-26T10:55:18.898Z"
   },
   {
    "duration": 8,
    "start_time": "2022-11-26T10:56:19.155Z"
   },
   {
    "duration": 22,
    "start_time": "2022-11-26T10:57:20.586Z"
   },
   {
    "duration": 3562351,
    "start_time": "2022-11-26T10:58:08.846Z"
   },
   {
    "duration": 11,
    "start_time": "2022-11-26T11:57:31.199Z"
   },
   {
    "duration": 0,
    "start_time": "2022-11-26T11:57:31.240Z"
   },
   {
    "duration": 590,
    "start_time": "2022-11-26T12:10:16.581Z"
   },
   {
    "duration": 5091,
    "start_time": "2022-11-26T12:11:54.579Z"
   },
   {
    "duration": 573,
    "start_time": "2022-11-26T12:13:51.779Z"
   },
   {
    "duration": 15,
    "start_time": "2022-11-26T12:14:52.971Z"
   },
   {
    "duration": 0,
    "start_time": "2022-11-26T12:16:37.172Z"
   },
   {
    "duration": 2965,
    "start_time": "2022-11-26T12:18:45.471Z"
   },
   {
    "duration": 15676,
    "start_time": "2022-11-26T12:19:01.559Z"
   },
   {
    "duration": 20833,
    "start_time": "2022-11-26T12:20:46.757Z"
   },
   {
    "duration": 20160,
    "start_time": "2022-11-26T12:22:42.795Z"
   },
   {
    "duration": 21720,
    "start_time": "2022-11-26T12:25:43.175Z"
   },
   {
    "duration": 20957,
    "start_time": "2022-11-26T12:30:14.142Z"
   },
   {
    "duration": 145,
    "start_time": "2022-11-27T12:45:23.034Z"
   },
   {
    "duration": 1665,
    "start_time": "2022-11-27T12:46:27.948Z"
   },
   {
    "duration": 3,
    "start_time": "2022-11-27T12:46:29.615Z"
   },
   {
    "duration": 169,
    "start_time": "2022-11-27T12:46:30.156Z"
   },
   {
    "duration": 8,
    "start_time": "2022-11-27T12:46:31.118Z"
   },
   {
    "duration": 3,
    "start_time": "2022-11-27T12:46:32.632Z"
   },
   {
    "duration": 8,
    "start_time": "2022-11-27T12:46:34.722Z"
   },
   {
    "duration": 12,
    "start_time": "2022-11-27T12:46:36.218Z"
   },
   {
    "duration": 13,
    "start_time": "2022-11-27T12:46:37.303Z"
   },
   {
    "duration": 3,
    "start_time": "2022-11-27T12:46:38.889Z"
   },
   {
    "duration": 10,
    "start_time": "2022-11-27T12:46:39.505Z"
   },
   {
    "duration": 9,
    "start_time": "2022-11-27T12:46:40.016Z"
   },
   {
    "duration": 55,
    "start_time": "2022-11-27T12:46:48.552Z"
   },
   {
    "duration": 32,
    "start_time": "2022-11-27T12:46:49.263Z"
   },
   {
    "duration": 8,
    "start_time": "2022-11-27T12:46:49.957Z"
   },
   {
    "duration": 6,
    "start_time": "2022-11-27T12:46:50.658Z"
   },
   {
    "duration": 14,
    "start_time": "2022-11-27T12:46:51.380Z"
   },
   {
    "duration": 1403,
    "start_time": "2022-11-27T12:48:44.865Z"
   },
   {
    "duration": 3,
    "start_time": "2022-11-27T12:48:47.375Z"
   },
   {
    "duration": 57,
    "start_time": "2022-11-27T12:48:56.419Z"
   },
   {
    "duration": 34,
    "start_time": "2022-11-27T12:48:57.316Z"
   },
   {
    "duration": 8,
    "start_time": "2022-11-27T12:49:00.374Z"
   },
   {
    "duration": 6,
    "start_time": "2022-11-27T12:49:02.856Z"
   },
   {
    "duration": 22,
    "start_time": "2022-11-27T12:49:04.196Z"
   },
   {
    "duration": 4533,
    "start_time": "2022-11-27T12:49:08.926Z"
   },
   {
    "duration": 529,
    "start_time": "2022-11-27T12:49:23.787Z"
   },
   {
    "duration": 2,
    "start_time": "2022-11-27T12:49:27.917Z"
   },
   {
    "duration": 12690,
    "start_time": "2022-11-27T12:49:28.413Z"
   }
  ],
  "kernelspec": {
   "display_name": "Python 3 (ipykernel)",
   "language": "python",
   "name": "python3"
  },
  "language_info": {
   "codemirror_mode": {
    "name": "ipython",
    "version": 3
   },
   "file_extension": ".py",
   "mimetype": "text/x-python",
   "name": "python",
   "nbconvert_exporter": "python",
   "pygments_lexer": "ipython3",
   "version": "3.9.12"
  },
  "toc": {
   "base_numbering": 1,
   "nav_menu": {},
   "number_sections": true,
   "sideBar": true,
   "skip_h1_title": true,
   "title_cell": "Содержание",
   "title_sidebar": "Contents",
   "toc_cell": true,
   "toc_position": {
    "height": "417.323px",
    "left": "0px",
    "top": "111.125px",
    "width": "250.25px"
   },
   "toc_section_display": true,
   "toc_window_display": true
  }
 },
 "nbformat": 4,
 "nbformat_minor": 2
}
